{
  "nbformat": 4,
  "nbformat_minor": 0,
  "metadata": {
    "colab": {
      "name": "crawlYahooFinance.ipynb",
      "provenance": [],
      "collapsed_sections": []
    },
    "kernelspec": {
      "name": "python3",
      "display_name": "Python 3"
    }
  },
  "cells": [
    {
      "cell_type": "code",
      "metadata": {
        "id": "BdOwvJngGoXs",
        "colab_type": "code",
        "outputId": "df792ff3-9eba-4de6-a4dd-17fc322be3ca",
        "colab": {
          "base_uri": "https://localhost:8080/",
          "height": 34
        }
      },
      "source": [
        "import bs4 as bs\n",
        "import urllib.request\n",
        "import pandas as pd\n",
        "from time import sleep\n",
        "from lxml import html  \n",
        "import requests\n",
        "import json\n",
        "import argparse\n",
        "from collections import OrderedDict\n",
        "import lxml.html as lh\n",
        "import copy\n",
        "import pandas as pd\n",
        "import urllib3\n",
        "!pip install --upgrade -q pygsheets\n",
        "!pip install --upgrade -q gspread\n",
        "from google.colab import drive\n",
        "drive.mount('drive')\n",
        "import gspread\n",
        "import pygsheets"
      ],
      "execution_count": 0,
      "outputs": [
        {
          "output_type": "stream",
          "text": [
            "Drive already mounted at drive; to attempt to forcibly remount, call drive.mount(\"drive\", force_remount=True).\n"
          ],
          "name": "stdout"
        }
      ]
    },
    {
      "cell_type": "code",
      "metadata": {
        "id": "LwCrnc2uiuYn",
        "colab_type": "code",
        "outputId": "d93673f1-99a3-450b-da3c-b2284c3cafa2",
        "colab": {
          "base_uri": "https://localhost:8080/",
          "height": 34
        }
      },
      "source": [
        "from google.colab import auth\n",
        "from oauth2client.client import GoogleCredentials\n",
        "\n",
        "auth.authenticate_user()\n",
        "gc = gspread.authorize(GoogleCredentials.get_application_default())\n",
        "worksheet = gc.open('TICS').sheet1\n",
        "\n",
        "# get_all_values gives a list of rows.\n",
        "rows = worksheet.get_all_values()\n",
        "\n",
        "# Convert to a DataFrame and render.\n",
        "import pandas as pd\n",
        "data = pd.DataFrame.from_records(rows, index = None)\n",
        "cmpList = data[data.columns[0]].astype(str).values.tolist()\n",
        "print('Number of tickets', len(cmpList))"
      ],
      "execution_count": 0,
      "outputs": [
        {
          "output_type": "stream",
          "text": [
            "Number of tickets 100\n"
          ],
          "name": "stdout"
        }
      ]
    },
    {
      "cell_type": "code",
      "metadata": {
        "id": "rctUXUkK6uR0",
        "colab_type": "code",
        "colab": {}
      },
      "source": [
        "sleep_val_yahoo = 3\n",
        "sleep_val = 1"
      ],
      "execution_count": 0,
      "outputs": []
    },
    {
      "cell_type": "code",
      "metadata": {
        "id": "Xw-PfKtGQHhs",
        "colab_type": "code",
        "colab": {}
      },
      "source": [
        "# Brute force way: not used\n",
        "def getSummaryData(url):\n",
        "  response = requests.get(url, verify=False)\n",
        "  print (\"Parsing %s\"%(url))\n",
        "  sleep(sleep_val)\n",
        "  parser = html.fromstring(response.text)\n",
        "  summary_table = parser.xpath('//div[contains(@data-test,\"summary-table\")]//tr')\n",
        "  summary_data = OrderedDict()\n",
        "  try:\n",
        "    for table_data in summary_table:\n",
        "      raw_table_key = table_data.xpath('.//td[contains(@class,\"C($primaryColor)\")]//text()')\n",
        "      raw_table_value = table_data.xpath('.//td[contains(@class,\"Ta(end)\")]//text()')\n",
        "      table_key = ''.join(raw_table_key).strip()\n",
        "      table_value = ''.join(raw_table_value).strip()\n",
        "      summary_data.update({table_key:table_value})\n",
        "    return summary_data\n",
        "  \n",
        "  except:\n",
        "    print (\"Failed to parse json response\")\n",
        "    return {\"error\":\"Failed to parse json response\"}\n",
        "  \n",
        "  "
      ],
      "execution_count": 0,
      "outputs": []
    },
    {
      "cell_type": "code",
      "metadata": {
        "id": "NFI2zPu-QKRV",
        "colab_type": "code",
        "colab": {}
      },
      "source": [
        "# for parsing yahoo finance data\n",
        "#items = ['/financials?p=', '/balance-sheet?p=', '/cash-flow?p=']\n",
        "\n",
        "financialslen = 5\n",
        "balancesheetlen = 4\n",
        "cashflowlen = 5\n",
        "\n",
        "def getFinanceData(url, name):\n",
        "  global financialslen\n",
        "  global balancesheetlen\n",
        "  global cashflowlen\n",
        "  try:\n",
        "    #urllib.disable_warnings(urllib3.exceptions.InsecureRequestWarning)\n",
        "    response = requests.get(url, verify=False)\n",
        "    # response = http.request('GET', url)\n",
        "    sleep(sleep_val_yahoo)\n",
        "    parser = html.fromstring(response.text)\n",
        "    finance_table = parser.xpath('//div[contains(@data-test,\"fin-row\")]')\n",
        "    \n",
        "    keys = []\n",
        "    values = []\n",
        "    \n",
        "    columnLen = 0 \n",
        "    for table_data in finance_table:\n",
        "      raw_table_key = table_data.xpath('.//span[contains(@class,\"Va(m)\")]//text()')\n",
        "      if len(raw_table_key) > 1:\n",
        "        continue\n",
        "        \n",
        "      raw_table_value = table_data.xpath('.//span[not(contains(@class,\"Va(m)\"))]//text()')\n",
        "      \n",
        "      # raw_table_key has only single element\n",
        "      keys.append(raw_table_key[0])\n",
        "      values.append(raw_table_value)\n",
        "      columnLen = max(columnLen, len(raw_table_value))\n",
        "    \n",
        "    # Solving mismatch in columns\n",
        "    if name == 'financials':\n",
        "      columnLen = financialslen\n",
        "    \n",
        "    elif name == 'balance-sheet':\n",
        "      columnLen = balancesheetlen\n",
        "    \n",
        "    elif name == 'cash-flow':\n",
        "      columnLen = cashflowlen\n",
        "        \n",
        "        \n",
        "    columns = []\n",
        "    data = []\n",
        "    \n",
        "    for row in keys:\n",
        "      for i in range(1, columnLen + 1):\n",
        "        columns.append(row + \"_\" + str(i))\n",
        "        \n",
        "    for value in values:\n",
        "      temp = []\n",
        "      for item in value:\n",
        "        temp.append(item)\n",
        "\n",
        "      if len(value) < columnLen:\n",
        "        diff = columnLen - len(value)\n",
        "        while diff > 0:\n",
        "          temp.append(\"N/A\")\n",
        "          diff = diff -1\n",
        "      \n",
        "      data.extend(temp)\n",
        "    \n",
        "    finance_data = pd.DataFrame()\n",
        "    \n",
        "    columns_series = pd.Series(columns, index  = None)\n",
        "    finance_data = pd.DataFrame([data], columns = columns)\n",
        "    \n",
        "    return finance_data\n",
        "  except:\n",
        "    return pd.DataFrame()\n",
        "      "
      ],
      "execution_count": 0,
      "outputs": []
    },
    {
      "cell_type": "code",
      "metadata": {
        "id": "LpC5ggz-twKQ",
        "colab_type": "code",
        "colab": {}
      },
      "source": [
        "def parse_url(url, cmp):\n",
        "  try:\n",
        "    response = requests.get(url)\n",
        "    sleep(sleep_val)\n",
        "    soup = bs.BeautifulSoup(response.text, 'lxml')\n",
        "    \n",
        "    listdf = []\n",
        "    \n",
        "    for table in soup.find_all('table'):\n",
        "      listdf.append(parse_html_table(table, cmp))\n",
        "    \n",
        "    return listdf\n",
        "  except:\n",
        "    return []\n",
        "    \n",
        "def parse_html_table(table, cmp):\n",
        "  n_columns = 0\n",
        "  n_rows=0\n",
        "  column_names = []\n",
        "\n",
        "  # Find number of rows and columns\n",
        "  # we also find the column titles if we can\n",
        "  for row in table.find_all('tr'):\n",
        "\n",
        "      # Determine the number of rows in the table\n",
        "      td_tags = row.find_all('td')\n",
        "      if len(td_tags) > 0:\n",
        "          n_rows+=1\n",
        "          if n_columns == 0:\n",
        "              # Set the number of columns for our table\n",
        "              n_columns = len(td_tags)\n",
        "\n",
        "      # Handle column names if we find them\n",
        "      th_tags = row.find_all('th') \n",
        "      if len(th_tags) > 0 and len(column_names) == 0:\n",
        "          for th in th_tags:\n",
        "              column_names.append(th.get_text().replace(cmp, \"cmp\"))\n",
        "  \n",
        "  # Safeguard on Column Titles\n",
        "  if len(column_names) > 0 and len(column_names) != n_columns:\n",
        "      raise Exception(\"Column titles do not match the number of columns\")\n",
        "\n",
        "  columns = column_names if len(column_names) > 0 else range(0,n_columns)\n",
        "  df = pd.DataFrame(columns = columns,\n",
        "                    index= range(0,n_rows))\n",
        "  row_marker = 0\n",
        "  for row in table.find_all('tr'):\n",
        "      column_marker = 0\n",
        "      columns = row.find_all('td')\n",
        "      for column in columns:\n",
        "          df.iat[row_marker,column_marker] = column.get_text()\n",
        "          column_marker += 1\n",
        "      if len(columns) > 0:\n",
        "          row_marker += 1\n",
        "\n",
        "  # Convert to float if possible\n",
        "  for col in df:\n",
        "      try:\n",
        "          df[col] = df[col].astype(float)\n",
        "      except ValueError:\n",
        "          pass\n",
        "\n",
        "  return df"
      ],
      "execution_count": 0,
      "outputs": []
    },
    {
      "cell_type": "code",
      "metadata": {
        "id": "Tw_g6LL7CVQ9",
        "colab_type": "code",
        "colab": {}
      },
      "source": [
        "# Brute force way: not used\n",
        "def getProfileData(url):\n",
        "  try:\n",
        "    response = requests.get(url, verify=False)\n",
        "    print (\"Parsing %s\"%(url))\n",
        "    sleep(sleep_val)\n",
        "    \n",
        "    parser = html.fromstring(response.text)\n",
        "    profile_list = parser.xpath('//div[contains(@data-test,\"asset-profile\")]')\n",
        "    \n",
        "    columns = []\n",
        "    rows = []\n",
        "    \n",
        "    \n",
        "    if len(profile_list) > 0:\n",
        "      profile_table = profile_list[0] # take the first element (need not iterate)\n",
        "      address_list = profile_table.xpath('.//p[contains(@class,\"D(ib) W(47.727%) Pend(40px)\")]//text()')\n",
        "      address = \"\"\n",
        "      for a in address_list:\n",
        "        address = address + a + \" \" \n",
        "\n",
        "      columns.append(\"Address\")\n",
        "      rows.append(address)\n",
        "\n",
        "      info_list = profile_table.xpath('.//p[contains(@class,\"D(ib) Va(t)\")]//text()')\n",
        "\n",
        "      for i, val in enumerate(info_list):\n",
        "\n",
        "        if (i - 1)%3 == 0: # removing junk char\n",
        "          continue\n",
        "\n",
        "        if i%3 == 0:\n",
        "          columns.append(val)\n",
        "        else:\n",
        "          rows.append(val)\n",
        "    \n",
        "    description_list = parser.xpath('//section[contains(@class,\"quote-sub-section Mt(30px)\")]')\n",
        "    if len(description_list) > 0:  \n",
        "      description_table = description_list[0]\n",
        "      description = description_table.xpath('.//p[contains(@class,\"Mt(15px) Lh(1.6)\")]//text()')\n",
        "      columns.append(\"Description\")\n",
        "      rows.append(description[0])\n",
        "    \n",
        "    corpgov_list = parser.xpath('//section[contains(@class,\"Mt(30px) quote-section corporate-governance-container\")]')\n",
        "    if len(corpgov_list) > 0:\n",
        "      corpgov_table = corpgov_list[0]\n",
        "      corpgov = corpgov_table.xpath('.//p[contains(@class,\"Fz(s)\")]//text()')\n",
        "\n",
        "      columns.append(\"Corporate Goverance\")\n",
        "      rows.append(corpgov[0])\n",
        "\n",
        "    \n",
        "    if len(rows) != len(columns):\n",
        "      print('Error in profile non tabular data')\n",
        "      \n",
        "    finance_data = pd.DataFrame()\n",
        "    \n",
        "    columns_series = pd.Series(columns, index  = None)\n",
        "    profile_data = pd.DataFrame([rows], columns = columns)\n",
        "    \n",
        "    \n",
        "    return profile_data\n",
        "  \n",
        "  except:\n",
        "    return pd.DataFrame()"
      ],
      "execution_count": 0,
      "outputs": []
    },
    {
      "cell_type": "code",
      "metadata": {
        "id": "fPodJIKYG2UA",
        "colab_type": "code",
        "colab": {}
      },
      "source": [
        "def writeYahooSummary():\n",
        "  # Parsing data from yahoo finance (profile, analysis, summary)\n",
        "  print(\"\\nWriting Yahoo Summary\")\n",
        "  towriteCmpList = []\n",
        "  ignored_cmp = []\n",
        "  #https://finance.yahoo.com/quote/%5EIXIC/components?p=%5EIXIC\n",
        "\n",
        "  items = ['']\n",
        "  urlPre = 'https://finance.yahoo.com/quote/'\n",
        "  urlSuf = '?p='\n",
        "\n",
        "  columns = None\n",
        "\n",
        "  final_df = pd.DataFrame()\n",
        "\n",
        "  for cmp in cmpList:\n",
        "    cmp_df_list = []\n",
        "    print('\\nCompany: ', cmp)\n",
        "    \n",
        "    for item in items:\n",
        "      url = urlPre + cmp + item + urlSuf + cmp\n",
        "      dataframe_list = parse_url(url, cmp)\n",
        "      \n",
        "      if item is '':\n",
        "        name = 'summary'\n",
        "      else:\n",
        "        name = item[1:len(item)]\n",
        "        \n",
        "      count = 1\n",
        "      \n",
        "      item_df = pd.DataFrame()\n",
        "      \n",
        "      \n",
        "      for df in dataframe_list:\n",
        "      \n",
        "        # Summary (2), Analysis (6), Profile (1)\n",
        "        \n",
        "        \n",
        "        if item is \"\":\n",
        "          df = df.transpose()\n",
        "          item_df = pd.concat([item_df, df], axis = 1, ignore_index = True)\n",
        "          \n",
        "          \n",
        "        if item == \"/analysis\": \n",
        "          cols_total = df.shape[1]\n",
        "          column_heads = []\n",
        "          for head in range(1, cols_total + 1):\n",
        "            column_heads.append(str(head))\n",
        "          \n",
        "          df.columns = column_heads\n",
        "          \n",
        "          df.set_index(df.columns[0], inplace=True)\n",
        "          df = df.replace({pd.np.nan: None})\n",
        "          df = df.unstack().to_frame().sort_index(level=1).T\n",
        "          \n",
        "          df.columns = df.columns.map(\"_\".join)\n",
        "          \n",
        "          item_df = pd.concat([item_df, df], axis = 1)\n",
        "          \n",
        "      \n",
        "        if item == \"/profile\":     \n",
        "          column_Names = df.columns\n",
        "          columns = []\n",
        "          rows = df.shape[0]\n",
        "\n",
        "          for j in range(1, rows + 1):\n",
        "            for i in column_Names:\n",
        "              columns.append(str(i) + \"_\" + str(j))\n",
        "\n",
        "          columns_series = pd.Series(columns, index  = None)\n",
        "          values_series = pd.Series(df.values.flatten(), index = None)\n",
        "          values_list = [df.values.flatten()]\n",
        "          item_df = pd.DataFrame(values_list, columns = columns)\n",
        "\n",
        "      if item is \"\":\n",
        "        new_header = item_df.iloc[0] #grab the first row for the header\n",
        "        item_df.columns = new_header #set the header row as the df header\n",
        "        item_df = item_df[1:] #take the data less the header row\n",
        "        item_df.reset_index(inplace=True, drop=True)\n",
        "      \n",
        "      \n",
        "      #print(name, len(dataframe_list), 'tables ', item_df.shape[1], 'Columns')\n",
        "      cmp_df_list.append(item_df)\n",
        "      \n",
        "  #     filename = cmp + '_' + name + '.csv'\n",
        "  #     item_df.to_csv(filename, index = False)\n",
        "  #     !cp $filename drive/My\\ Drive/Research/AB/\n",
        "    \n",
        "    \n",
        "    # Non tabular Profile \n",
        "    profile_url = urlPre + cmp + \"/profile\" + urlSuf + cmp\n",
        "    profile_data = getProfileData(profile_url)\n",
        "    cmp_df_list.append(profile_data)\n",
        "    \n",
        "    cmp_df = pd.DataFrame()\n",
        "    for df in cmp_df_list:\n",
        "      cmp_df = pd.concat([cmp_df,df], axis = 1)\n",
        "    \n",
        "    # Causes problem when company name is \"F\" and it gets replaced everywhere in the column names. Better to do in parse_url\n",
        "    # cmp_df.columns = cmp_df.columns.str.replace(cmp, \"cmp\")\n",
        "    \n",
        "    if columns == None:\n",
        "      columns = cmp_df.columns.tolist()\n",
        "  \n",
        "    #cmp_df.sort_index(axis=1, inplace=True) # not required if string replace done at parsing time\n",
        "    \n",
        "    if (final_df.shape[0] != 0 and final_df.columns.equals(cmp_df.columns) == False ):\n",
        "      # except when final_df is empty. This should return always True. Else column mistmatch (ignore this company)\n",
        "      print('Column mismatch for company: ', cmp, ' Ignoring...')\n",
        "      #print('differences: ', cmp_df.columns.difference(final_df.columns), final_df.columns.difference(cmp_df.columns)) #should always print 0\n",
        "      ignored_cmp.append(cmp)\n",
        "      continue\n",
        "      # MSFT: has current year (2020): typo\n",
        "      # ADBE: has different dates\n",
        "    else:\n",
        "      towriteCmpList.append(cmp)\n",
        "    \n",
        "    \n",
        "    \n",
        "    final_df = pd.concat([final_df, cmp_df], ignore_index = True)\n",
        "\n",
        "  final_df['company'] = towriteCmpList  \n",
        "  final_df = final_df.set_index('company')\n",
        "  print('Final Data: ',final_df.shape)\n",
        "\n",
        "  filename = 'YahooDataSummaryLarge.xlsx'\n",
        "  final_df.to_excel(filename)\n",
        "  !cp $filename drive/My\\ Drive/Research/AB/\n",
        "\n",
        "  if len(ignored_cmp) > 0:\n",
        "    ignored_csv = pd.DataFrame(ignored_cmp)\n",
        "    ignored_filename = 'YahooDataSummaryLarge_ignoredcmp.xlsx'\n",
        "    ignored_csv.to_excel(ignored_filename, index=\"False\")\n",
        "    !cp $ignored_filename drive/My\\ Drive/Research/AB/"
      ],
      "execution_count": 0,
      "outputs": []
    },
    {
      "cell_type": "code",
      "metadata": {
        "id": "3HhKI-9FC1-p",
        "colab_type": "code",
        "colab": {}
      },
      "source": [
        "def writeYahooProfile():\n",
        "  # Parsing data from yahoo finance (profile, analysis, summary)\n",
        "  print(\"\\nWriting Yahoo Profile\")\n",
        "  towriteCmpList = []\n",
        "  ignored_cmp = []\n",
        "  #https://finance.yahoo.com/quote/%5EIXIC/components?p=%5EIXIC\n",
        "\n",
        "  items = ['/profile']\n",
        "  urlPre = 'https://finance.yahoo.com/quote/'\n",
        "  urlSuf = '?p='\n",
        "\n",
        "  columns = None\n",
        "\n",
        "  final_df = pd.DataFrame()\n",
        "\n",
        "  for cmp in cmpList:\n",
        "    cmp_df_list = []\n",
        "    print('\\nCompany: ', cmp)\n",
        "    \n",
        "    for item in items:\n",
        "      url = urlPre + cmp + item + urlSuf + cmp\n",
        "      dataframe_list = parse_url(url, cmp)\n",
        "      \n",
        "      if item is '':\n",
        "        name = 'summary'\n",
        "      else:\n",
        "        name = item[1:len(item)]\n",
        "        \n",
        "      count = 1\n",
        "      \n",
        "      item_df = pd.DataFrame()\n",
        "      \n",
        "      \n",
        "      for df in dataframe_list:\n",
        "      \n",
        "        # Summary (2), Analysis (6), Profile (1)\n",
        "        \n",
        "        \n",
        "        if item is \"\":\n",
        "          df = df.transpose()\n",
        "          item_df = pd.concat([item_df, df], axis = 1, ignore_index = True)\n",
        "          \n",
        "          \n",
        "        if item == \"/analysis\": \n",
        "          cols_total = df.shape[1]\n",
        "          column_heads = []\n",
        "          for head in range(1, cols_total + 1):\n",
        "            column_heads.append(str(head))\n",
        "          \n",
        "          df.columns = column_heads\n",
        "          \n",
        "          df.set_index(df.columns[0], inplace=True)\n",
        "          df = df.replace({pd.np.nan: None})\n",
        "          df = df.unstack().to_frame().sort_index(level=1).T\n",
        "          \n",
        "          df.columns = df.columns.map(\"_\".join)\n",
        "          \n",
        "          item_df = pd.concat([item_df, df], axis = 1)\n",
        "          \n",
        "      \n",
        "        if item == \"/profile\":     \n",
        "          column_Names = df.columns\n",
        "          columns = []\n",
        "          rows = df.shape[0]\n",
        "\n",
        "          for j in range(1, rows + 1):\n",
        "            for i in column_Names:\n",
        "              columns.append(str(i) + \"_\" + str(j))\n",
        "\n",
        "          columns_series = pd.Series(columns, index  = None)\n",
        "          values_series = pd.Series(df.values.flatten(), index = None)\n",
        "          values_list = [df.values.flatten()]\n",
        "          item_df = pd.DataFrame(values_list, columns = columns)\n",
        "\n",
        "      if item is \"\":\n",
        "        new_header = item_df.iloc[0] #grab the first row for the header\n",
        "        item_df.columns = new_header #set the header row as the df header\n",
        "        item_df = item_df[1:] #take the data less the header row\n",
        "        item_df.reset_index(inplace=True, drop=True)\n",
        "      \n",
        "      \n",
        "      #print(name, len(dataframe_list), 'tables ', item_df.shape[1], 'Columns')\n",
        "      cmp_df_list.append(item_df)\n",
        "      \n",
        "  #     filename = cmp + '_' + name + '.csv'\n",
        "  #     item_df.to_csv(filename, index = False)\n",
        "  #     !cp $filename drive/My\\ Drive/Research/AB/\n",
        "    \n",
        "    \n",
        "    # Non tabular Profile \n",
        "    profile_url = urlPre + cmp + \"/profile\" + urlSuf + cmp\n",
        "    profile_data = getProfileData(profile_url)\n",
        "    cmp_df_list.append(profile_data)\n",
        "    \n",
        "    cmp_df = pd.DataFrame()\n",
        "    for df in cmp_df_list:\n",
        "      cmp_df = pd.concat([cmp_df,df], axis = 1)\n",
        "    \n",
        "    # Causes problem when company name is \"F\" and it gets replaced everywhere in the column names. Better to do in parse_url\n",
        "    # cmp_df.columns = cmp_df.columns.str.replace(cmp, \"cmp\")\n",
        "    \n",
        "    if columns == None:\n",
        "      columns = cmp_df.columns.tolist()\n",
        "  \n",
        "    #cmp_df.sort_index(axis=1, inplace=True) # not required if string replace done at parsing time\n",
        "    \n",
        "    if (final_df.shape[0] != 0 and final_df.columns.equals(cmp_df.columns) == False ):\n",
        "      # except when final_df is empty. This should return always True. Else column mistmatch (ignore this company)\n",
        "      print('Column mismatch for company: ', cmp, ' Ignoring...')\n",
        "      #print('differences: ', cmp_df.columns.difference(final_df.columns), final_df.columns.difference(cmp_df.columns)) #should always print 0\n",
        "      ignored_cmp.append(cmp)\n",
        "      continue\n",
        "      # MSFT: has current year (2020): typo\n",
        "      # ADBE: has different dates\n",
        "    else:\n",
        "      towriteCmpList.append(cmp)\n",
        "    \n",
        "    \n",
        "    \n",
        "    final_df = pd.concat([final_df, cmp_df], ignore_index = True)\n",
        "\n",
        "  final_df['company'] = towriteCmpList  \n",
        "  final_df = final_df.set_index('company')\n",
        "  print('Final Data: ',final_df.shape)\n",
        "\n",
        "  filename = 'YahooDataProfileLarge.xlsx'\n",
        "  final_df.to_excel(filename)\n",
        "  !cp $filename drive/My\\ Drive/Research/AB/\n",
        "\n",
        "  if len(ignored_cmp) > 0:\n",
        "    ignored_csv = pd.DataFrame(ignored_cmp)\n",
        "    ignored_filename = 'YahooDataProfileLarge_ignoredcmp.xlsx'\n",
        "    ignored_csv.to_excel(ignored_filename, index=\"False\")\n",
        "    !cp $ignored_filename drive/My\\ Drive/Research/AB/\n"
      ],
      "execution_count": 0,
      "outputs": []
    },
    {
      "cell_type": "code",
      "metadata": {
        "id": "Y8vXhhEhC2sA",
        "colab_type": "code",
        "colab": {}
      },
      "source": [
        "def writeYahooAnalysis():\n",
        "  # Parsing data from yahoo finance (profile, analysis, summary)\n",
        "  print(\"\\nWriting Yahoo Analysis\")\n",
        "  towriteCmpList = []\n",
        "  ignored_cmp = []\n",
        "  #https://finance.yahoo.com/quote/%5EIXIC/components?p=%5EIXIC\n",
        "\n",
        "  items = ['/analysis']\n",
        "  urlPre = 'https://finance.yahoo.com/quote/'\n",
        "  urlSuf = '?p='\n",
        "\n",
        "  columns = None\n",
        "\n",
        "  final_df = pd.DataFrame()\n",
        "\n",
        "  for cmp in cmpList:\n",
        "    cmp_df_list = []\n",
        "    print('\\nCompany: ', cmp)\n",
        "    \n",
        "    for item in items:\n",
        "      url = urlPre + cmp + item + urlSuf + cmp\n",
        "      dataframe_list = parse_url(url, cmp)\n",
        "      \n",
        "      if item is '':\n",
        "        name = 'summary'\n",
        "      else:\n",
        "        name = item[1:len(item)]\n",
        "        \n",
        "      count = 1\n",
        "      \n",
        "      item_df = pd.DataFrame()\n",
        "      \n",
        "      \n",
        "      for df in dataframe_list:\n",
        "      \n",
        "        # Summary (2), Analysis (6), Profile (1)\n",
        "        \n",
        "        \n",
        "        if item is \"\":\n",
        "          df = df.transpose()\n",
        "          item_df = pd.concat([item_df, df], axis = 1, ignore_index = True)\n",
        "          \n",
        "          \n",
        "        if item == \"/analysis\": \n",
        "          cols_total = df.shape[1]\n",
        "          column_heads = []\n",
        "          for head in range(1, cols_total + 1):\n",
        "            column_heads.append(str(head))\n",
        "          \n",
        "          df.columns = column_heads\n",
        "          \n",
        "          df.set_index(df.columns[0], inplace=True)\n",
        "          df = df.replace({pd.np.nan: None})\n",
        "          df = df.unstack().to_frame().sort_index(level=1).T\n",
        "          \n",
        "          df.columns = df.columns.map(\"_\".join)\n",
        "          \n",
        "          item_df = pd.concat([item_df, df], axis = 1)\n",
        "          \n",
        "      \n",
        "        if item == \"/profile\":     \n",
        "          column_Names = df.columns\n",
        "          columns = []\n",
        "          rows = df.shape[0]\n",
        "\n",
        "          for j in range(1, rows + 1):\n",
        "            for i in column_Names:\n",
        "              columns.append(str(i) + \"_\" + str(j))\n",
        "\n",
        "          columns_series = pd.Series(columns, index  = None)\n",
        "          values_series = pd.Series(df.values.flatten(), index = None)\n",
        "          values_list = [df.values.flatten()]\n",
        "          item_df = pd.DataFrame(values_list, columns = columns)\n",
        "\n",
        "      if item is \"\":\n",
        "        new_header = item_df.iloc[0] #grab the first row for the header\n",
        "        item_df.columns = new_header #set the header row as the df header\n",
        "        item_df = item_df[1:] #take the data less the header row\n",
        "        item_df.reset_index(inplace=True, drop=True)\n",
        "      \n",
        "      \n",
        "      #print(name, len(dataframe_list), 'tables ', item_df.shape[1], 'Columns')\n",
        "      cmp_df_list.append(item_df)\n",
        "      \n",
        "  #     filename = cmp + '_' + name + '.csv'\n",
        "  #     item_df.to_csv(filename, index = False)\n",
        "  #     !cp $filename drive/My\\ Drive/Research/AB/\n",
        "    \n",
        "    \n",
        "    # Non tabular Profile \n",
        "    profile_url = urlPre + cmp + \"/profile\" + urlSuf + cmp\n",
        "    profile_data = getProfileData(profile_url)\n",
        "    cmp_df_list.append(profile_data)\n",
        "    \n",
        "    cmp_df = pd.DataFrame()\n",
        "    for df in cmp_df_list:\n",
        "      cmp_df = pd.concat([cmp_df,df], axis = 1)\n",
        "    \n",
        "    # Causes problem when company name is \"F\" and it gets replaced everywhere in the column names. Better to do in parse_url\n",
        "    # cmp_df.columns = cmp_df.columns.str.replace(cmp, \"cmp\")\n",
        "    \n",
        "    if columns == None:\n",
        "      columns = cmp_df.columns.tolist()\n",
        "  \n",
        "    #cmp_df.sort_index(axis=1, inplace=True) # not required if string replace done at parsing time\n",
        "    \n",
        "    if (final_df.shape[0] != 0 and final_df.columns.equals(cmp_df.columns) == False ):\n",
        "      # except when final_df is empty. This should return always True. Else column mistmatch (ignore this company)\n",
        "      print('Column mismatch for company: ', cmp, ' Ignoring...')\n",
        "      #print('differences: ', cmp_df.columns.difference(final_df.columns), final_df.columns.difference(cmp_df.columns)) #should always print 0\n",
        "      ignored_cmp.append(cmp)\n",
        "      continue\n",
        "      # MSFT: has current year (2020): typo\n",
        "      # ADBE: has different dates\n",
        "    else:\n",
        "      towriteCmpList.append(cmp)\n",
        "    \n",
        "    \n",
        "    \n",
        "    final_df = pd.concat([final_df, cmp_df], ignore_index = True)\n",
        "\n",
        "  final_df['company'] = towriteCmpList  \n",
        "  final_df = final_df.set_index('company')\n",
        "  print('Final Data: ',final_df.shape)\n",
        "\n",
        "  filename = 'YahooDataAnalysisLarge.xlsx'\n",
        "  final_df.to_excel(filename)\n",
        "  !cp $filename drive/My\\ Drive/Research/AB/\n",
        "\n",
        "  if len(ignored_cmp) > 0:\n",
        "    ignored_csv = pd.DataFrame(ignored_cmp)\n",
        "    ignored_filename = 'YahooDataAnalysisLarge_ignoredcmp.xlsx'\n",
        "    ignored_csv.to_excel(ignored_filename, index=\"False\")\n",
        "    !cp $ignored_filename drive/My\\ Drive/Research/AB/"
      ],
      "execution_count": 0,
      "outputs": []
    },
    {
      "cell_type": "code",
      "metadata": {
        "id": "88DDkNh_LDXD",
        "colab_type": "code",
        "colab": {}
      },
      "source": [
        "\n",
        "  # Parsing data from marketwatch (financials)\n",
        "def writeMarketWatch():\n",
        "  print(\"\\nWriting Market Watch Financials\")\n",
        "  towriteCmpList = []\n",
        "  ignored_cmp = []\n",
        "  #https://finance.yahoo.com/quote/%5EIXIC/components?p=%5EIXIC\n",
        "\n",
        "  items = ['/financials', '/financials/balance-sheet', '/financials/cash-flow']\n",
        "  # items = ['/financials']\n",
        "  urlPre = 'https://www.marketwatch.com/investing/stock/'\n",
        "\n",
        "  columns = None\n",
        "\n",
        "\n",
        "  final_df = pd.DataFrame()\n",
        "\n",
        "  for cmp in cmpList:\n",
        "    cmp_df_list = []\n",
        "    print('\\nCompany: ', cmp)\n",
        "    \n",
        "    for item in items:\n",
        "      url = urlPre + cmp + item\n",
        "      dataframe_list = parse_url(url, cmp)\n",
        "      \n",
        "     \n",
        "      name = item[1:len(item)]\n",
        "    \n",
        "      count = 1\n",
        "      \n",
        "      item_df = pd.DataFrame()\n",
        "      \n",
        "      for df in dataframe_list:\n",
        "        cols_total = df.shape[1]\n",
        "        column_heads = []\n",
        "        for head in range(cols_total):\n",
        "          column_heads.append(str(head))\n",
        "        \n",
        "        df.columns = column_heads\n",
        "        df.set_index(df.columns[0], inplace=True)\n",
        "        df = df.replace({pd.np.nan: None})\n",
        "        df = df.unstack().to_frame().sort_index(level=1).T\n",
        "        df.columns = df.columns.map(\"_\".join)\n",
        "        item_df = pd.concat([item_df, df], axis = 1)\n",
        "      \n",
        "    \n",
        "      # print(item_df)\n",
        "      # print(name, len(dataframe_list), 'tables ', item_df.shape[1], 'Columns')\n",
        "      cmp_df_list.append(item_df)\n",
        "      \n",
        "  #     filename = cmp + '_' + name + '.csv'\n",
        "  #     item_df.to_csv(filename, index = False)\n",
        "  #     !cp $filename drive/My\\ Drive/Research/AB/\n",
        "    \n",
        "    \n",
        "    \n",
        "    cmp_df = pd.DataFrame()\n",
        "    for df in cmp_df_list:\n",
        "      cmp_df = pd.concat([cmp_df,df], axis = 1)\n",
        "    \n",
        "    # Causes problem when company name is \"F\" and it gets replaced everywhere in the column names. Better to do in parse_url\n",
        "    # cmp_df.columns = cmp_df.columns.str.replace(cmp, \"cmp\")\n",
        "    \n",
        "    if columns == None:\n",
        "      columns = cmp_df.columns.tolist()\n",
        "  \n",
        "    #cmp_df.sort_index(axis=1, inplace=True) # not required if string replace done at parsing time\n",
        "    \n",
        "    if (final_df.shape[0] != 0 and final_df.columns.equals(cmp_df.columns) == False ):\n",
        "      # except when final_df is empty. This should return always True. Else column mistmatch (ignore this company)\n",
        "      print('Column mismatch for company: ', cmp, ' Ignoring...')\n",
        "      #print('differences: ', cmp_df.columns.difference(final_df.columns), final_df.columns.difference(cmp_df.columns)) #should always print 0\n",
        "      ignored_cmp.append(cmp)\n",
        "      continue\n",
        "      # MSFT: has current year (2020): typo\n",
        "      # ADBE: has different dates\n",
        "      # column name different issue fixed. Now different row names causing error\n",
        "    else:\n",
        "      towriteCmpList.append(cmp)\n",
        "    \n",
        "    \n",
        "    \n",
        "    final_df = pd.concat([final_df, cmp_df], ignore_index = True)\n",
        "\n",
        "  final_df['company'] = towriteCmpList  \n",
        "  final_df = final_df.set_index('company')\n",
        "  print('Final Data: ',final_df.shape)\n",
        "\n",
        "  filename = 'MarketWatchDataLarge.xlsx'\n",
        "  final_df.to_excel(filename)\n",
        "  !cp $filename drive/My\\ Drive/Research/AB/\n",
        "\n",
        "  if len(ignored_cmp) > 0:\n",
        "    ignored_csv = pd.DataFrame(ignored_cmp)\n",
        "    ignored_filename = 'MarketWatchDataLarge_ignoredcmp.xlsx'\n",
        "    ignored_csv.to_excel(ignored_filename, index=\"False\")\n",
        "    !cp $ignored_filename drive/My\\ Drive/Research/AB/"
      ],
      "execution_count": 0,
      "outputs": []
    },
    {
      "cell_type": "code",
      "metadata": {
        "id": "qEAUtvOuU334",
        "colab_type": "code",
        "colab": {}
      },
      "source": [
        " def writeYahooFinancial(): \n",
        "  # Parsing data from yahoo (financials)\n",
        "  print(\"\\nWriting Yahoo Financials\")\n",
        "  towriteCmpList = []\n",
        "  ignored_cmp = []\n",
        "  finalcolsize = 376\n",
        "\n",
        "  items = ['/financials?p=', '/balance-sheet?p=', '/cash-flow?p=']\n",
        "  urlPre = 'https://finance.yahoo.com/quote/'\n",
        "\n",
        "  columns = None\n",
        "\n",
        "\n",
        "  final_df = pd.DataFrame()\n",
        "\n",
        "  for cmp in cmpList:\n",
        "    cmp_df_list = []\n",
        "    print('\\nCompany: ', cmp)\n",
        "    \n",
        "    for item in items:\n",
        "      url = urlPre + cmp + item + cmp\n",
        "      # dataframe_list = parse_url(url, cmp)\n",
        "      \n",
        "      \n",
        "      name = item[1:len(item) - 3]\n",
        "      \n",
        "      count = 1\n",
        "      \n",
        "      item_df = getFinanceData(url, name)\n",
        "      \n",
        "    \n",
        "      print(name, len(item_df), 'table ', item_df.shape[1], 'Columns')\n",
        "      cmp_df_list.append(item_df)\n",
        "      \n",
        "  #     filename = cmp + '_' + name + '.csv'\n",
        "  #     item_df.to_csv(filename, index = False)\n",
        "  #     !cp $filename drive/My\\ Drive/Research/AB/\n",
        "    \n",
        "    \n",
        "  \n",
        "    cmp_df = pd.DataFrame()\n",
        "    for df in cmp_df_list:\n",
        "      cmp_df = pd.concat([cmp_df,df], axis = 1)\n",
        "    \n",
        "    # Causes problem when company name is \"F\" and it gets replaced everywhere in the column names. Better to do in parse_url\n",
        "    # cmp_df.columns = cmp_df.columns.str.replace(cmp, \"cmp\")\n",
        "    \n",
        "    if columns == None:\n",
        "      columns = cmp_df.columns.tolist()\n",
        "  \n",
        "    #cmp_df.sort_index(axis=1, inplace=True) # not required if string replace done at parsing time\n",
        "    \n",
        "    if final_df.shape[0] == 0:\n",
        "       if cmp_df.shape[1] != finalcolsize:\n",
        "        # if first cmp, size of columns should match else exact columns match should return always True. Else column mistmatch (ignore this company)\n",
        "        print('Column mismatch for company: ', cmp, ' Ignoring...')\n",
        "        #print('differences: ', cmp_df.columns.difference(final_df.columns), final_df.columns.difference(cmp_df.columns)) #should always print 0\n",
        "        ignored_cmp.append(cmp)\n",
        "        continue\n",
        "      # APPL, TSLA number of columns in balance sheets are different\n",
        "    elif final_df.columns.equals(cmp_df.columns) == False : \n",
        "      print('Column mismatch for company: ', cmp, ' Ignoring...')\n",
        "      #print('differences: ', cmp_df.columns.difference(final_df.columns), final_df.columns.difference(cmp_df.columns)) #should always print 0\n",
        "      ignored_cmp.append(cmp)\n",
        "      continue\n",
        "    \n",
        "    \n",
        "    towriteCmpList.append(cmp)\n",
        "    final_df = pd.concat([final_df, cmp_df], ignore_index = True)\n",
        "\n",
        "\n",
        "  final_df['company'] = towriteCmpList  \n",
        "  final_df = final_df.set_index('company')\n",
        "  print('Final Data: ',final_df.shape)\n",
        "\n",
        "  filename = 'YahooFinancesLarge.xlsx'\n",
        "  final_df.to_excel(filename)\n",
        "  !cp $filename drive/My\\ Drive/Research/AB/\n",
        "\n",
        "  if len(ignored_cmp) > 0:\n",
        "    ignored_csv = pd.DataFrame(ignored_cmp)\n",
        "    ignored_filename = 'YahooFinancesLarge_ignoredcmp.xlsx'\n",
        "    ignored_csv.to_excel(ignored_filename, index=\"False\")\n",
        "    !cp $ignored_filename drive/My\\ Drive/Research/AB/"
      ],
      "execution_count": 0,
      "outputs": []
    },
    {
      "cell_type": "markdown",
      "metadata": {
        "id": "H-C5KK5A4oeb",
        "colab_type": "text"
      },
      "source": [
        ""
      ]
    },
    {
      "cell_type": "code",
      "metadata": {
        "id": "TW1JW1pozJkf",
        "colab_type": "code",
        "outputId": "b562c410-c5a5-45f4-d71c-6de16b22062b",
        "colab": {
          "base_uri": "https://localhost:8080/",
          "height": 1000
        }
      },
      "source": [
        "# writeYahooFinancial()\n",
        "writeYahooAnalysis()\n",
        "writeYahooSummary()\n",
        "writeYahooProfile()\n",
        "writeMarketWatch()"
      ],
      "execution_count": 0,
      "outputs": [
        {
          "output_type": "stream",
          "text": [
            "\n",
            "Writing Yahoo Analysis\n",
            "\n",
            "Company:  A\n"
          ],
          "name": "stdout"
        },
        {
          "output_type": "stream",
          "text": [
            "/usr/local/lib/python3.6/dist-packages/urllib3/connectionpool.py:847: InsecureRequestWarning: Unverified HTTPS request is being made. Adding certificate verification is strongly advised. See: https://urllib3.readthedocs.io/en/latest/advanced-usage.html#ssl-warnings\n",
            "  InsecureRequestWarning)\n"
          ],
          "name": "stderr"
        },
        {
          "output_type": "stream",
          "text": [
            "Parsing https://finance.yahoo.com/quote/A/profile?p=A\n",
            "\n",
            "Company:  AA\n"
          ],
          "name": "stdout"
        },
        {
          "output_type": "stream",
          "text": [
            "/usr/local/lib/python3.6/dist-packages/urllib3/connectionpool.py:847: InsecureRequestWarning: Unverified HTTPS request is being made. Adding certificate verification is strongly advised. See: https://urllib3.readthedocs.io/en/latest/advanced-usage.html#ssl-warnings\n",
            "  InsecureRequestWarning)\n"
          ],
          "name": "stderr"
        },
        {
          "output_type": "stream",
          "text": [
            "Parsing https://finance.yahoo.com/quote/AA/profile?p=AA\n",
            "\n",
            "Company:  AAL\n"
          ],
          "name": "stdout"
        },
        {
          "output_type": "stream",
          "text": [
            "/usr/local/lib/python3.6/dist-packages/urllib3/connectionpool.py:847: InsecureRequestWarning: Unverified HTTPS request is being made. Adding certificate verification is strongly advised. See: https://urllib3.readthedocs.io/en/latest/advanced-usage.html#ssl-warnings\n",
            "  InsecureRequestWarning)\n"
          ],
          "name": "stderr"
        },
        {
          "output_type": "stream",
          "text": [
            "Parsing https://finance.yahoo.com/quote/AAL/profile?p=AAL\n",
            "\n",
            "Company:  AAPL\n"
          ],
          "name": "stdout"
        },
        {
          "output_type": "stream",
          "text": [
            "/usr/local/lib/python3.6/dist-packages/urllib3/connectionpool.py:847: InsecureRequestWarning: Unverified HTTPS request is being made. Adding certificate verification is strongly advised. See: https://urllib3.readthedocs.io/en/latest/advanced-usage.html#ssl-warnings\n",
            "  InsecureRequestWarning)\n"
          ],
          "name": "stderr"
        },
        {
          "output_type": "stream",
          "text": [
            "Parsing https://finance.yahoo.com/quote/AAPL/profile?p=AAPL\n",
            "\n",
            "Company:  ABEV\n"
          ],
          "name": "stdout"
        },
        {
          "output_type": "stream",
          "text": [
            "/usr/local/lib/python3.6/dist-packages/urllib3/connectionpool.py:847: InsecureRequestWarning: Unverified HTTPS request is being made. Adding certificate verification is strongly advised. See: https://urllib3.readthedocs.io/en/latest/advanced-usage.html#ssl-warnings\n",
            "  InsecureRequestWarning)\n"
          ],
          "name": "stderr"
        },
        {
          "output_type": "stream",
          "text": [
            "Parsing https://finance.yahoo.com/quote/ABEV/profile?p=ABEV\n",
            "\n",
            "Company:  ABG\n"
          ],
          "name": "stdout"
        },
        {
          "output_type": "stream",
          "text": [
            "/usr/local/lib/python3.6/dist-packages/urllib3/connectionpool.py:847: InsecureRequestWarning: Unverified HTTPS request is being made. Adding certificate verification is strongly advised. See: https://urllib3.readthedocs.io/en/latest/advanced-usage.html#ssl-warnings\n",
            "  InsecureRequestWarning)\n"
          ],
          "name": "stderr"
        },
        {
          "output_type": "stream",
          "text": [
            "Parsing https://finance.yahoo.com/quote/ABG/profile?p=ABG\n",
            "\n",
            "Company:  ABIO\n"
          ],
          "name": "stdout"
        },
        {
          "output_type": "stream",
          "text": [
            "/usr/local/lib/python3.6/dist-packages/urllib3/connectionpool.py:847: InsecureRequestWarning: Unverified HTTPS request is being made. Adding certificate verification is strongly advised. See: https://urllib3.readthedocs.io/en/latest/advanced-usage.html#ssl-warnings\n",
            "  InsecureRequestWarning)\n"
          ],
          "name": "stderr"
        },
        {
          "output_type": "stream",
          "text": [
            "Parsing https://finance.yahoo.com/quote/ABIO/profile?p=ABIO\n",
            "\n",
            "Company:  ACH\n"
          ],
          "name": "stdout"
        },
        {
          "output_type": "stream",
          "text": [
            "/usr/local/lib/python3.6/dist-packages/urllib3/connectionpool.py:847: InsecureRequestWarning: Unverified HTTPS request is being made. Adding certificate verification is strongly advised. See: https://urllib3.readthedocs.io/en/latest/advanced-usage.html#ssl-warnings\n",
            "  InsecureRequestWarning)\n"
          ],
          "name": "stderr"
        },
        {
          "output_type": "stream",
          "text": [
            "Parsing https://finance.yahoo.com/quote/ACH/profile?p=ACH\n",
            "\n",
            "Company:  ACHV\n"
          ],
          "name": "stdout"
        },
        {
          "output_type": "stream",
          "text": [
            "/usr/local/lib/python3.6/dist-packages/urllib3/connectionpool.py:847: InsecureRequestWarning: Unverified HTTPS request is being made. Adding certificate verification is strongly advised. See: https://urllib3.readthedocs.io/en/latest/advanced-usage.html#ssl-warnings\n",
            "  InsecureRequestWarning)\n"
          ],
          "name": "stderr"
        },
        {
          "output_type": "stream",
          "text": [
            "Parsing https://finance.yahoo.com/quote/ACHV/profile?p=ACHV\n",
            "\n",
            "Company:  ACIW\n"
          ],
          "name": "stdout"
        },
        {
          "output_type": "stream",
          "text": [
            "/usr/local/lib/python3.6/dist-packages/urllib3/connectionpool.py:847: InsecureRequestWarning: Unverified HTTPS request is being made. Adding certificate verification is strongly advised. See: https://urllib3.readthedocs.io/en/latest/advanced-usage.html#ssl-warnings\n",
            "  InsecureRequestWarning)\n"
          ],
          "name": "stderr"
        },
        {
          "output_type": "stream",
          "text": [
            "Parsing https://finance.yahoo.com/quote/ACIW/profile?p=ACIW\n",
            "\n",
            "Company:  ACN\n"
          ],
          "name": "stdout"
        },
        {
          "output_type": "stream",
          "text": [
            "/usr/local/lib/python3.6/dist-packages/urllib3/connectionpool.py:847: InsecureRequestWarning: Unverified HTTPS request is being made. Adding certificate verification is strongly advised. See: https://urllib3.readthedocs.io/en/latest/advanced-usage.html#ssl-warnings\n",
            "  InsecureRequestWarning)\n"
          ],
          "name": "stderr"
        },
        {
          "output_type": "stream",
          "text": [
            "Parsing https://finance.yahoo.com/quote/ACN/profile?p=ACN\n",
            "\n",
            "Company:  ACOR\n"
          ],
          "name": "stdout"
        },
        {
          "output_type": "stream",
          "text": [
            "/usr/local/lib/python3.6/dist-packages/urllib3/connectionpool.py:847: InsecureRequestWarning: Unverified HTTPS request is being made. Adding certificate verification is strongly advised. See: https://urllib3.readthedocs.io/en/latest/advanced-usage.html#ssl-warnings\n",
            "  InsecureRequestWarning)\n"
          ],
          "name": "stderr"
        },
        {
          "output_type": "stream",
          "text": [
            "Parsing https://finance.yahoo.com/quote/ACOR/profile?p=ACOR\n",
            "\n",
            "Company:  ADAP\n"
          ],
          "name": "stdout"
        },
        {
          "output_type": "stream",
          "text": [
            "/usr/local/lib/python3.6/dist-packages/urllib3/connectionpool.py:847: InsecureRequestWarning: Unverified HTTPS request is being made. Adding certificate verification is strongly advised. See: https://urllib3.readthedocs.io/en/latest/advanced-usage.html#ssl-warnings\n",
            "  InsecureRequestWarning)\n"
          ],
          "name": "stderr"
        },
        {
          "output_type": "stream",
          "text": [
            "Parsing https://finance.yahoo.com/quote/ADAP/profile?p=ADAP\n",
            "\n",
            "Company:  ADBE\n"
          ],
          "name": "stdout"
        },
        {
          "output_type": "stream",
          "text": [
            "/usr/local/lib/python3.6/dist-packages/urllib3/connectionpool.py:847: InsecureRequestWarning: Unverified HTTPS request is being made. Adding certificate verification is strongly advised. See: https://urllib3.readthedocs.io/en/latest/advanced-usage.html#ssl-warnings\n",
            "  InsecureRequestWarning)\n"
          ],
          "name": "stderr"
        },
        {
          "output_type": "stream",
          "text": [
            "Parsing https://finance.yahoo.com/quote/ADBE/profile?p=ADBE\n",
            "\n",
            "Company:  ADMA\n"
          ],
          "name": "stdout"
        },
        {
          "output_type": "stream",
          "text": [
            "/usr/local/lib/python3.6/dist-packages/urllib3/connectionpool.py:847: InsecureRequestWarning: Unverified HTTPS request is being made. Adding certificate verification is strongly advised. See: https://urllib3.readthedocs.io/en/latest/advanced-usage.html#ssl-warnings\n",
            "  InsecureRequestWarning)\n"
          ],
          "name": "stderr"
        },
        {
          "output_type": "stream",
          "text": [
            "Parsing https://finance.yahoo.com/quote/ADMA/profile?p=ADMA\n",
            "\n",
            "Company:  ADNT\n"
          ],
          "name": "stdout"
        },
        {
          "output_type": "stream",
          "text": [
            "/usr/local/lib/python3.6/dist-packages/urllib3/connectionpool.py:847: InsecureRequestWarning: Unverified HTTPS request is being made. Adding certificate verification is strongly advised. See: https://urllib3.readthedocs.io/en/latest/advanced-usage.html#ssl-warnings\n",
            "  InsecureRequestWarning)\n"
          ],
          "name": "stderr"
        },
        {
          "output_type": "stream",
          "text": [
            "Parsing https://finance.yahoo.com/quote/ADNT/profile?p=ADNT\n",
            "\n",
            "Company:  ADOM\n"
          ],
          "name": "stdout"
        },
        {
          "output_type": "stream",
          "text": [
            "/usr/local/lib/python3.6/dist-packages/urllib3/connectionpool.py:847: InsecureRequestWarning: Unverified HTTPS request is being made. Adding certificate verification is strongly advised. See: https://urllib3.readthedocs.io/en/latest/advanced-usage.html#ssl-warnings\n",
            "  InsecureRequestWarning)\n"
          ],
          "name": "stderr"
        },
        {
          "output_type": "stream",
          "text": [
            "Parsing https://finance.yahoo.com/quote/ADOM/profile?p=ADOM\n",
            "\n",
            "Company:  ADS\n"
          ],
          "name": "stdout"
        },
        {
          "output_type": "stream",
          "text": [
            "/usr/local/lib/python3.6/dist-packages/urllib3/connectionpool.py:847: InsecureRequestWarning: Unverified HTTPS request is being made. Adding certificate verification is strongly advised. See: https://urllib3.readthedocs.io/en/latest/advanced-usage.html#ssl-warnings\n",
            "  InsecureRequestWarning)\n"
          ],
          "name": "stderr"
        },
        {
          "output_type": "stream",
          "text": [
            "Parsing https://finance.yahoo.com/quote/ADS/profile?p=ADS\n",
            "\n",
            "Company:  ADSK\n"
          ],
          "name": "stdout"
        },
        {
          "output_type": "stream",
          "text": [
            "/usr/local/lib/python3.6/dist-packages/urllib3/connectionpool.py:847: InsecureRequestWarning: Unverified HTTPS request is being made. Adding certificate verification is strongly advised. See: https://urllib3.readthedocs.io/en/latest/advanced-usage.html#ssl-warnings\n",
            "  InsecureRequestWarning)\n"
          ],
          "name": "stderr"
        },
        {
          "output_type": "stream",
          "text": [
            "Parsing https://finance.yahoo.com/quote/ADSK/profile?p=ADSK\n",
            "\n",
            "Company:  ADVM\n"
          ],
          "name": "stdout"
        },
        {
          "output_type": "stream",
          "text": [
            "/usr/local/lib/python3.6/dist-packages/urllib3/connectionpool.py:847: InsecureRequestWarning: Unverified HTTPS request is being made. Adding certificate verification is strongly advised. See: https://urllib3.readthedocs.io/en/latest/advanced-usage.html#ssl-warnings\n",
            "  InsecureRequestWarning)\n"
          ],
          "name": "stderr"
        },
        {
          "output_type": "stream",
          "text": [
            "Parsing https://finance.yahoo.com/quote/ADVM/profile?p=ADVM\n",
            "\n",
            "Company:  AEMD\n"
          ],
          "name": "stdout"
        },
        {
          "output_type": "stream",
          "text": [
            "/usr/local/lib/python3.6/dist-packages/urllib3/connectionpool.py:847: InsecureRequestWarning: Unverified HTTPS request is being made. Adding certificate verification is strongly advised. See: https://urllib3.readthedocs.io/en/latest/advanced-usage.html#ssl-warnings\n",
            "  InsecureRequestWarning)\n"
          ],
          "name": "stderr"
        },
        {
          "output_type": "stream",
          "text": [
            "Parsing https://finance.yahoo.com/quote/AEMD/profile?p=AEMD\n",
            "\n",
            "Company:  AEO\n"
          ],
          "name": "stdout"
        },
        {
          "output_type": "stream",
          "text": [
            "/usr/local/lib/python3.6/dist-packages/urllib3/connectionpool.py:847: InsecureRequestWarning: Unverified HTTPS request is being made. Adding certificate verification is strongly advised. See: https://urllib3.readthedocs.io/en/latest/advanced-usage.html#ssl-warnings\n",
            "  InsecureRequestWarning)\n"
          ],
          "name": "stderr"
        },
        {
          "output_type": "stream",
          "text": [
            "Parsing https://finance.yahoo.com/quote/AEO/profile?p=AEO\n",
            "\n",
            "Company:  AERI\n"
          ],
          "name": "stdout"
        },
        {
          "output_type": "stream",
          "text": [
            "/usr/local/lib/python3.6/dist-packages/urllib3/connectionpool.py:847: InsecureRequestWarning: Unverified HTTPS request is being made. Adding certificate verification is strongly advised. See: https://urllib3.readthedocs.io/en/latest/advanced-usage.html#ssl-warnings\n",
            "  InsecureRequestWarning)\n"
          ],
          "name": "stderr"
        },
        {
          "output_type": "stream",
          "text": [
            "Parsing https://finance.yahoo.com/quote/AERI/profile?p=AERI\n",
            "\n",
            "Company:  AEYE\n"
          ],
          "name": "stdout"
        },
        {
          "output_type": "stream",
          "text": [
            "/usr/local/lib/python3.6/dist-packages/urllib3/connectionpool.py:847: InsecureRequestWarning: Unverified HTTPS request is being made. Adding certificate verification is strongly advised. See: https://urllib3.readthedocs.io/en/latest/advanced-usage.html#ssl-warnings\n",
            "  InsecureRequestWarning)\n"
          ],
          "name": "stderr"
        },
        {
          "output_type": "stream",
          "text": [
            "Parsing https://finance.yahoo.com/quote/AEYE/profile?p=AEYE\n",
            "\n",
            "Company:  AFL\n"
          ],
          "name": "stdout"
        },
        {
          "output_type": "stream",
          "text": [
            "/usr/local/lib/python3.6/dist-packages/urllib3/connectionpool.py:847: InsecureRequestWarning: Unverified HTTPS request is being made. Adding certificate verification is strongly advised. See: https://urllib3.readthedocs.io/en/latest/advanced-usage.html#ssl-warnings\n",
            "  InsecureRequestWarning)\n"
          ],
          "name": "stderr"
        },
        {
          "output_type": "stream",
          "text": [
            "Parsing https://finance.yahoo.com/quote/AFL/profile?p=AFL\n",
            "\n",
            "Company:  AGEN\n"
          ],
          "name": "stdout"
        },
        {
          "output_type": "stream",
          "text": [
            "/usr/local/lib/python3.6/dist-packages/urllib3/connectionpool.py:847: InsecureRequestWarning: Unverified HTTPS request is being made. Adding certificate verification is strongly advised. See: https://urllib3.readthedocs.io/en/latest/advanced-usage.html#ssl-warnings\n",
            "  InsecureRequestWarning)\n"
          ],
          "name": "stderr"
        },
        {
          "output_type": "stream",
          "text": [
            "Parsing https://finance.yahoo.com/quote/AGEN/profile?p=AGEN\n",
            "\n",
            "Company:  AGFS\n"
          ],
          "name": "stdout"
        },
        {
          "output_type": "stream",
          "text": [
            "/usr/local/lib/python3.6/dist-packages/urllib3/connectionpool.py:847: InsecureRequestWarning: Unverified HTTPS request is being made. Adding certificate verification is strongly advised. See: https://urllib3.readthedocs.io/en/latest/advanced-usage.html#ssl-warnings\n",
            "  InsecureRequestWarning)\n"
          ],
          "name": "stderr"
        },
        {
          "output_type": "stream",
          "text": [
            "Parsing https://finance.yahoo.com/quote/AGFS/profile?p=AGFS\n",
            "\n",
            "Company:  AGTC\n"
          ],
          "name": "stdout"
        },
        {
          "output_type": "stream",
          "text": [
            "/usr/local/lib/python3.6/dist-packages/urllib3/connectionpool.py:847: InsecureRequestWarning: Unverified HTTPS request is being made. Adding certificate verification is strongly advised. See: https://urllib3.readthedocs.io/en/latest/advanced-usage.html#ssl-warnings\n",
            "  InsecureRequestWarning)\n"
          ],
          "name": "stderr"
        },
        {
          "output_type": "stream",
          "text": [
            "Parsing https://finance.yahoo.com/quote/AGTC/profile?p=AGTC\n",
            "\n",
            "Company:  AIR\n"
          ],
          "name": "stdout"
        },
        {
          "output_type": "stream",
          "text": [
            "/usr/local/lib/python3.6/dist-packages/urllib3/connectionpool.py:847: InsecureRequestWarning: Unverified HTTPS request is being made. Adding certificate verification is strongly advised. See: https://urllib3.readthedocs.io/en/latest/advanced-usage.html#ssl-warnings\n",
            "  InsecureRequestWarning)\n"
          ],
          "name": "stderr"
        },
        {
          "output_type": "stream",
          "text": [
            "Parsing https://finance.yahoo.com/quote/AIR/profile?p=AIR\n",
            "\n",
            "Company:  AIRT\n"
          ],
          "name": "stdout"
        },
        {
          "output_type": "stream",
          "text": [
            "/usr/local/lib/python3.6/dist-packages/urllib3/connectionpool.py:847: InsecureRequestWarning: Unverified HTTPS request is being made. Adding certificate verification is strongly advised. See: https://urllib3.readthedocs.io/en/latest/advanced-usage.html#ssl-warnings\n",
            "  InsecureRequestWarning)\n"
          ],
          "name": "stderr"
        },
        {
          "output_type": "stream",
          "text": [
            "Parsing https://finance.yahoo.com/quote/AIRT/profile?p=AIRT\n",
            "\n",
            "Company:  AIZ\n"
          ],
          "name": "stdout"
        },
        {
          "output_type": "stream",
          "text": [
            "/usr/local/lib/python3.6/dist-packages/urllib3/connectionpool.py:847: InsecureRequestWarning: Unverified HTTPS request is being made. Adding certificate verification is strongly advised. See: https://urllib3.readthedocs.io/en/latest/advanced-usage.html#ssl-warnings\n",
            "  InsecureRequestWarning)\n"
          ],
          "name": "stderr"
        },
        {
          "output_type": "stream",
          "text": [
            "Parsing https://finance.yahoo.com/quote/AIZ/profile?p=AIZ\n",
            "\n",
            "Company:  AIZP\n"
          ],
          "name": "stdout"
        },
        {
          "output_type": "stream",
          "text": [
            "/usr/local/lib/python3.6/dist-packages/urllib3/connectionpool.py:847: InsecureRequestWarning: Unverified HTTPS request is being made. Adding certificate verification is strongly advised. See: https://urllib3.readthedocs.io/en/latest/advanced-usage.html#ssl-warnings\n",
            "  InsecureRequestWarning)\n"
          ],
          "name": "stderr"
        },
        {
          "output_type": "stream",
          "text": [
            "Parsing https://finance.yahoo.com/quote/AIZP/profile?p=AIZP\n",
            "Column mismatch for company:  AIZP  Ignoring...\n",
            "\n",
            "Company:  AKAM\n"
          ],
          "name": "stdout"
        },
        {
          "output_type": "stream",
          "text": [
            "/usr/local/lib/python3.6/dist-packages/urllib3/connectionpool.py:847: InsecureRequestWarning: Unverified HTTPS request is being made. Adding certificate verification is strongly advised. See: https://urllib3.readthedocs.io/en/latest/advanced-usage.html#ssl-warnings\n",
            "  InsecureRequestWarning)\n"
          ],
          "name": "stderr"
        },
        {
          "output_type": "stream",
          "text": [
            "Parsing https://finance.yahoo.com/quote/AKAM/profile?p=AKAM\n",
            "\n",
            "Company:  AKER\n"
          ],
          "name": "stdout"
        },
        {
          "output_type": "stream",
          "text": [
            "/usr/local/lib/python3.6/dist-packages/urllib3/connectionpool.py:847: InsecureRequestWarning: Unverified HTTPS request is being made. Adding certificate verification is strongly advised. See: https://urllib3.readthedocs.io/en/latest/advanced-usage.html#ssl-warnings\n",
            "  InsecureRequestWarning)\n"
          ],
          "name": "stderr"
        },
        {
          "output_type": "stream",
          "text": [
            "Parsing https://finance.yahoo.com/quote/AKER/profile?p=AKER\n",
            "\n",
            "Company:  ALGR\n"
          ],
          "name": "stdout"
        },
        {
          "output_type": "stream",
          "text": [
            "/usr/local/lib/python3.6/dist-packages/urllib3/connectionpool.py:847: InsecureRequestWarning: Unverified HTTPS request is being made. Adding certificate verification is strongly advised. See: https://urllib3.readthedocs.io/en/latest/advanced-usage.html#ssl-warnings\n",
            "  InsecureRequestWarning)\n"
          ],
          "name": "stderr"
        },
        {
          "output_type": "stream",
          "text": [
            "Parsing https://finance.yahoo.com/quote/ALGR/profile?p=ALGR\n",
            "Error in profile non tabular data\n",
            "Column mismatch for company:  ALGR  Ignoring...\n",
            "\n",
            "Company:  ALGT\n"
          ],
          "name": "stdout"
        },
        {
          "output_type": "stream",
          "text": [
            "/usr/local/lib/python3.6/dist-packages/urllib3/connectionpool.py:847: InsecureRequestWarning: Unverified HTTPS request is being made. Adding certificate verification is strongly advised. See: https://urllib3.readthedocs.io/en/latest/advanced-usage.html#ssl-warnings\n",
            "  InsecureRequestWarning)\n"
          ],
          "name": "stderr"
        },
        {
          "output_type": "stream",
          "text": [
            "Parsing https://finance.yahoo.com/quote/ALGT/profile?p=ALGT\n",
            "\n",
            "Company:  ALJJ\n"
          ],
          "name": "stdout"
        },
        {
          "output_type": "stream",
          "text": [
            "/usr/local/lib/python3.6/dist-packages/urllib3/connectionpool.py:847: InsecureRequestWarning: Unverified HTTPS request is being made. Adding certificate verification is strongly advised. See: https://urllib3.readthedocs.io/en/latest/advanced-usage.html#ssl-warnings\n",
            "  InsecureRequestWarning)\n"
          ],
          "name": "stderr"
        },
        {
          "output_type": "stream",
          "text": [
            "Parsing https://finance.yahoo.com/quote/ALJJ/profile?p=ALJJ\n",
            "\n",
            "Company:  ALK\n"
          ],
          "name": "stdout"
        },
        {
          "output_type": "stream",
          "text": [
            "/usr/local/lib/python3.6/dist-packages/urllib3/connectionpool.py:847: InsecureRequestWarning: Unverified HTTPS request is being made. Adding certificate verification is strongly advised. See: https://urllib3.readthedocs.io/en/latest/advanced-usage.html#ssl-warnings\n",
            "  InsecureRequestWarning)\n"
          ],
          "name": "stderr"
        },
        {
          "output_type": "stream",
          "text": [
            "Parsing https://finance.yahoo.com/quote/ALK/profile?p=ALK\n",
            "\n",
            "Company:  ALLO\n"
          ],
          "name": "stdout"
        },
        {
          "output_type": "stream",
          "text": [
            "/usr/local/lib/python3.6/dist-packages/urllib3/connectionpool.py:847: InsecureRequestWarning: Unverified HTTPS request is being made. Adding certificate verification is strongly advised. See: https://urllib3.readthedocs.io/en/latest/advanced-usage.html#ssl-warnings\n",
            "  InsecureRequestWarning)\n"
          ],
          "name": "stderr"
        },
        {
          "output_type": "stream",
          "text": [
            "Parsing https://finance.yahoo.com/quote/ALLO/profile?p=ALLO\n",
            "\n",
            "Company:  ALLT\n"
          ],
          "name": "stdout"
        },
        {
          "output_type": "stream",
          "text": [
            "/usr/local/lib/python3.6/dist-packages/urllib3/connectionpool.py:847: InsecureRequestWarning: Unverified HTTPS request is being made. Adding certificate verification is strongly advised. See: https://urllib3.readthedocs.io/en/latest/advanced-usage.html#ssl-warnings\n",
            "  InsecureRequestWarning)\n"
          ],
          "name": "stderr"
        },
        {
          "output_type": "stream",
          "text": [
            "Parsing https://finance.yahoo.com/quote/ALLT/profile?p=ALLT\n",
            "\n",
            "Company:  ALNA\n"
          ],
          "name": "stdout"
        },
        {
          "output_type": "stream",
          "text": [
            "/usr/local/lib/python3.6/dist-packages/urllib3/connectionpool.py:847: InsecureRequestWarning: Unverified HTTPS request is being made. Adding certificate verification is strongly advised. See: https://urllib3.readthedocs.io/en/latest/advanced-usage.html#ssl-warnings\n",
            "  InsecureRequestWarning)\n"
          ],
          "name": "stderr"
        },
        {
          "output_type": "stream",
          "text": [
            "Parsing https://finance.yahoo.com/quote/ALNA/profile?p=ALNA\n",
            "\n",
            "Company:  ALOT\n"
          ],
          "name": "stdout"
        },
        {
          "output_type": "stream",
          "text": [
            "/usr/local/lib/python3.6/dist-packages/urllib3/connectionpool.py:847: InsecureRequestWarning: Unverified HTTPS request is being made. Adding certificate verification is strongly advised. See: https://urllib3.readthedocs.io/en/latest/advanced-usage.html#ssl-warnings\n",
            "  InsecureRequestWarning)\n"
          ],
          "name": "stderr"
        },
        {
          "output_type": "stream",
          "text": [
            "Parsing https://finance.yahoo.com/quote/ALOT/profile?p=ALOT\n",
            "\n",
            "Company:  ALRM\n"
          ],
          "name": "stdout"
        },
        {
          "output_type": "stream",
          "text": [
            "/usr/local/lib/python3.6/dist-packages/urllib3/connectionpool.py:847: InsecureRequestWarning: Unverified HTTPS request is being made. Adding certificate verification is strongly advised. See: https://urllib3.readthedocs.io/en/latest/advanced-usage.html#ssl-warnings\n",
            "  InsecureRequestWarning)\n"
          ],
          "name": "stderr"
        },
        {
          "output_type": "stream",
          "text": [
            "Parsing https://finance.yahoo.com/quote/ALRM/profile?p=ALRM\n",
            "\n",
            "Company:  ALSN\n"
          ],
          "name": "stdout"
        },
        {
          "output_type": "stream",
          "text": [
            "/usr/local/lib/python3.6/dist-packages/urllib3/connectionpool.py:847: InsecureRequestWarning: Unverified HTTPS request is being made. Adding certificate verification is strongly advised. See: https://urllib3.readthedocs.io/en/latest/advanced-usage.html#ssl-warnings\n",
            "  InsecureRequestWarning)\n"
          ],
          "name": "stderr"
        },
        {
          "output_type": "stream",
          "text": [
            "Parsing https://finance.yahoo.com/quote/ALSN/profile?p=ALSN\n",
            "\n",
            "Company:  ALTR\n"
          ],
          "name": "stdout"
        },
        {
          "output_type": "stream",
          "text": [
            "/usr/local/lib/python3.6/dist-packages/urllib3/connectionpool.py:847: InsecureRequestWarning: Unverified HTTPS request is being made. Adding certificate verification is strongly advised. See: https://urllib3.readthedocs.io/en/latest/advanced-usage.html#ssl-warnings\n",
            "  InsecureRequestWarning)\n"
          ],
          "name": "stderr"
        },
        {
          "output_type": "stream",
          "text": [
            "Parsing https://finance.yahoo.com/quote/ALTR/profile?p=ALTR\n",
            "\n",
            "Company:  ALV\n"
          ],
          "name": "stdout"
        },
        {
          "output_type": "stream",
          "text": [
            "/usr/local/lib/python3.6/dist-packages/urllib3/connectionpool.py:847: InsecureRequestWarning: Unverified HTTPS request is being made. Adding certificate verification is strongly advised. See: https://urllib3.readthedocs.io/en/latest/advanced-usage.html#ssl-warnings\n",
            "  InsecureRequestWarning)\n"
          ],
          "name": "stderr"
        },
        {
          "output_type": "stream",
          "text": [
            "Parsing https://finance.yahoo.com/quote/ALV/profile?p=ALV\n",
            "\n",
            "Company:  AMGN\n"
          ],
          "name": "stdout"
        },
        {
          "output_type": "stream",
          "text": [
            "/usr/local/lib/python3.6/dist-packages/urllib3/connectionpool.py:847: InsecureRequestWarning: Unverified HTTPS request is being made. Adding certificate verification is strongly advised. See: https://urllib3.readthedocs.io/en/latest/advanced-usage.html#ssl-warnings\n",
            "  InsecureRequestWarning)\n"
          ],
          "name": "stderr"
        },
        {
          "output_type": "stream",
          "text": [
            "Parsing https://finance.yahoo.com/quote/AMGN/profile?p=AMGN\n",
            "\n",
            "Company:  AMSWA\n"
          ],
          "name": "stdout"
        },
        {
          "output_type": "stream",
          "text": [
            "/usr/local/lib/python3.6/dist-packages/urllib3/connectionpool.py:847: InsecureRequestWarning: Unverified HTTPS request is being made. Adding certificate verification is strongly advised. See: https://urllib3.readthedocs.io/en/latest/advanced-usage.html#ssl-warnings\n",
            "  InsecureRequestWarning)\n"
          ],
          "name": "stderr"
        },
        {
          "output_type": "stream",
          "text": [
            "Parsing https://finance.yahoo.com/quote/AMSWA/profile?p=AMSWA\n",
            "\n",
            "Company:  AMZN\n"
          ],
          "name": "stdout"
        },
        {
          "output_type": "stream",
          "text": [
            "/usr/local/lib/python3.6/dist-packages/urllib3/connectionpool.py:847: InsecureRequestWarning: Unverified HTTPS request is being made. Adding certificate verification is strongly advised. See: https://urllib3.readthedocs.io/en/latest/advanced-usage.html#ssl-warnings\n",
            "  InsecureRequestWarning)\n"
          ],
          "name": "stderr"
        },
        {
          "output_type": "stream",
          "text": [
            "Parsing https://finance.yahoo.com/quote/AMZN/profile?p=AMZN\n",
            "\n",
            "Company:  AN\n"
          ],
          "name": "stdout"
        },
        {
          "output_type": "stream",
          "text": [
            "/usr/local/lib/python3.6/dist-packages/urllib3/connectionpool.py:847: InsecureRequestWarning: Unverified HTTPS request is being made. Adding certificate verification is strongly advised. See: https://urllib3.readthedocs.io/en/latest/advanced-usage.html#ssl-warnings\n",
            "  InsecureRequestWarning)\n"
          ],
          "name": "stderr"
        },
        {
          "output_type": "stream",
          "text": [
            "Parsing https://finance.yahoo.com/quote/AN/profile?p=AN\n",
            "\n",
            "Company:  ANET\n"
          ],
          "name": "stdout"
        },
        {
          "output_type": "stream",
          "text": [
            "/usr/local/lib/python3.6/dist-packages/urllib3/connectionpool.py:847: InsecureRequestWarning: Unverified HTTPS request is being made. Adding certificate verification is strongly advised. See: https://urllib3.readthedocs.io/en/latest/advanced-usage.html#ssl-warnings\n",
            "  InsecureRequestWarning)\n"
          ],
          "name": "stderr"
        },
        {
          "output_type": "stream",
          "text": [
            "Parsing https://finance.yahoo.com/quote/ANET/profile?p=ANET\n",
            "\n",
            "Company:  ANF\n"
          ],
          "name": "stdout"
        },
        {
          "output_type": "stream",
          "text": [
            "/usr/local/lib/python3.6/dist-packages/urllib3/connectionpool.py:847: InsecureRequestWarning: Unverified HTTPS request is being made. Adding certificate verification is strongly advised. See: https://urllib3.readthedocs.io/en/latest/advanced-usage.html#ssl-warnings\n",
            "  InsecureRequestWarning)\n"
          ],
          "name": "stderr"
        },
        {
          "output_type": "stream",
          "text": [
            "Parsing https://finance.yahoo.com/quote/ANF/profile?p=ANF\n",
            "\n",
            "Company:  ANGI\n"
          ],
          "name": "stdout"
        },
        {
          "output_type": "stream",
          "text": [
            "/usr/local/lib/python3.6/dist-packages/urllib3/connectionpool.py:847: InsecureRequestWarning: Unverified HTTPS request is being made. Adding certificate verification is strongly advised. See: https://urllib3.readthedocs.io/en/latest/advanced-usage.html#ssl-warnings\n",
            "  InsecureRequestWarning)\n"
          ],
          "name": "stderr"
        },
        {
          "output_type": "stream",
          "text": [
            "Parsing https://finance.yahoo.com/quote/ANGI/profile?p=ANGI\n",
            "\n",
            "Company:  ANSS\n"
          ],
          "name": "stdout"
        },
        {
          "output_type": "stream",
          "text": [
            "/usr/local/lib/python3.6/dist-packages/urllib3/connectionpool.py:847: InsecureRequestWarning: Unverified HTTPS request is being made. Adding certificate verification is strongly advised. See: https://urllib3.readthedocs.io/en/latest/advanced-usage.html#ssl-warnings\n",
            "  InsecureRequestWarning)\n"
          ],
          "name": "stderr"
        },
        {
          "output_type": "stream",
          "text": [
            "Parsing https://finance.yahoo.com/quote/ANSS/profile?p=ANSS\n",
            "\n",
            "Company:  AOS\n"
          ],
          "name": "stdout"
        },
        {
          "output_type": "stream",
          "text": [
            "/usr/local/lib/python3.6/dist-packages/urllib3/connectionpool.py:847: InsecureRequestWarning: Unverified HTTPS request is being made. Adding certificate verification is strongly advised. See: https://urllib3.readthedocs.io/en/latest/advanced-usage.html#ssl-warnings\n",
            "  InsecureRequestWarning)\n"
          ],
          "name": "stderr"
        },
        {
          "output_type": "stream",
          "text": [
            "Parsing https://finance.yahoo.com/quote/AOS/profile?p=AOS\n",
            "\n",
            "Company:  APOG\n"
          ],
          "name": "stdout"
        },
        {
          "output_type": "stream",
          "text": [
            "/usr/local/lib/python3.6/dist-packages/urllib3/connectionpool.py:847: InsecureRequestWarning: Unverified HTTPS request is being made. Adding certificate verification is strongly advised. See: https://urllib3.readthedocs.io/en/latest/advanced-usage.html#ssl-warnings\n",
            "  InsecureRequestWarning)\n"
          ],
          "name": "stderr"
        },
        {
          "output_type": "stream",
          "text": [
            "Parsing https://finance.yahoo.com/quote/APOG/profile?p=APOG\n",
            "\n",
            "Company:  APPF\n"
          ],
          "name": "stdout"
        },
        {
          "output_type": "stream",
          "text": [
            "/usr/local/lib/python3.6/dist-packages/urllib3/connectionpool.py:847: InsecureRequestWarning: Unverified HTTPS request is being made. Adding certificate verification is strongly advised. See: https://urllib3.readthedocs.io/en/latest/advanced-usage.html#ssl-warnings\n",
            "  InsecureRequestWarning)\n"
          ],
          "name": "stderr"
        },
        {
          "output_type": "stream",
          "text": [
            "Parsing https://finance.yahoo.com/quote/APPF/profile?p=APPF\n",
            "\n",
            "Company:  APPN\n"
          ],
          "name": "stdout"
        },
        {
          "output_type": "stream",
          "text": [
            "/usr/local/lib/python3.6/dist-packages/urllib3/connectionpool.py:847: InsecureRequestWarning: Unverified HTTPS request is being made. Adding certificate verification is strongly advised. See: https://urllib3.readthedocs.io/en/latest/advanced-usage.html#ssl-warnings\n",
            "  InsecureRequestWarning)\n"
          ],
          "name": "stderr"
        },
        {
          "output_type": "stream",
          "text": [
            "Parsing https://finance.yahoo.com/quote/APPN/profile?p=APPN\n",
            "\n",
            "Company:  APRN\n"
          ],
          "name": "stdout"
        },
        {
          "output_type": "stream",
          "text": [
            "/usr/local/lib/python3.6/dist-packages/urllib3/connectionpool.py:847: InsecureRequestWarning: Unverified HTTPS request is being made. Adding certificate verification is strongly advised. See: https://urllib3.readthedocs.io/en/latest/advanced-usage.html#ssl-warnings\n",
            "  InsecureRequestWarning)\n"
          ],
          "name": "stderr"
        },
        {
          "output_type": "stream",
          "text": [
            "Parsing https://finance.yahoo.com/quote/APRN/profile?p=APRN\n",
            "\n",
            "Company:  APTO\n"
          ],
          "name": "stdout"
        },
        {
          "output_type": "stream",
          "text": [
            "/usr/local/lib/python3.6/dist-packages/urllib3/connectionpool.py:847: InsecureRequestWarning: Unverified HTTPS request is being made. Adding certificate verification is strongly advised. See: https://urllib3.readthedocs.io/en/latest/advanced-usage.html#ssl-warnings\n",
            "  InsecureRequestWarning)\n"
          ],
          "name": "stderr"
        },
        {
          "output_type": "stream",
          "text": [
            "Parsing https://finance.yahoo.com/quote/APTO/profile?p=APTO\n",
            "\n",
            "Company:  APTV\n"
          ],
          "name": "stdout"
        },
        {
          "output_type": "stream",
          "text": [
            "/usr/local/lib/python3.6/dist-packages/urllib3/connectionpool.py:847: InsecureRequestWarning: Unverified HTTPS request is being made. Adding certificate verification is strongly advised. See: https://urllib3.readthedocs.io/en/latest/advanced-usage.html#ssl-warnings\n",
            "  InsecureRequestWarning)\n"
          ],
          "name": "stderr"
        },
        {
          "output_type": "stream",
          "text": [
            "Parsing https://finance.yahoo.com/quote/APTV/profile?p=APTV\n",
            "\n",
            "Company:  ARCH\n"
          ],
          "name": "stdout"
        },
        {
          "output_type": "stream",
          "text": [
            "/usr/local/lib/python3.6/dist-packages/urllib3/connectionpool.py:847: InsecureRequestWarning: Unverified HTTPS request is being made. Adding certificate verification is strongly advised. See: https://urllib3.readthedocs.io/en/latest/advanced-usage.html#ssl-warnings\n",
            "  InsecureRequestWarning)\n"
          ],
          "name": "stderr"
        },
        {
          "output_type": "stream",
          "text": [
            "Parsing https://finance.yahoo.com/quote/ARCH/profile?p=ARCH\n",
            "\n",
            "Company:  ARGX\n"
          ],
          "name": "stdout"
        },
        {
          "output_type": "stream",
          "text": [
            "/usr/local/lib/python3.6/dist-packages/urllib3/connectionpool.py:847: InsecureRequestWarning: Unverified HTTPS request is being made. Adding certificate verification is strongly advised. See: https://urllib3.readthedocs.io/en/latest/advanced-usage.html#ssl-warnings\n",
            "  InsecureRequestWarning)\n"
          ],
          "name": "stderr"
        },
        {
          "output_type": "stream",
          "text": [
            "Parsing https://finance.yahoo.com/quote/ARGX/profile?p=ARGX\n",
            "\n",
            "Company:  ARLO\n"
          ],
          "name": "stdout"
        },
        {
          "output_type": "stream",
          "text": [
            "/usr/local/lib/python3.6/dist-packages/urllib3/connectionpool.py:847: InsecureRequestWarning: Unverified HTTPS request is being made. Adding certificate verification is strongly advised. See: https://urllib3.readthedocs.io/en/latest/advanced-usage.html#ssl-warnings\n",
            "  InsecureRequestWarning)\n"
          ],
          "name": "stderr"
        },
        {
          "output_type": "stream",
          "text": [
            "Parsing https://finance.yahoo.com/quote/ARLO/profile?p=ARLO\n",
            "\n",
            "Company:  ARLP\n"
          ],
          "name": "stdout"
        },
        {
          "output_type": "stream",
          "text": [
            "/usr/local/lib/python3.6/dist-packages/urllib3/connectionpool.py:847: InsecureRequestWarning: Unverified HTTPS request is being made. Adding certificate verification is strongly advised. See: https://urllib3.readthedocs.io/en/latest/advanced-usage.html#ssl-warnings\n",
            "  InsecureRequestWarning)\n"
          ],
          "name": "stderr"
        },
        {
          "output_type": "stream",
          "text": [
            "Parsing https://finance.yahoo.com/quote/ARLP/profile?p=ARLP\n",
            "\n",
            "Company:  ASNA\n"
          ],
          "name": "stdout"
        },
        {
          "output_type": "stream",
          "text": [
            "/usr/local/lib/python3.6/dist-packages/urllib3/connectionpool.py:847: InsecureRequestWarning: Unverified HTTPS request is being made. Adding certificate verification is strongly advised. See: https://urllib3.readthedocs.io/en/latest/advanced-usage.html#ssl-warnings\n",
            "  InsecureRequestWarning)\n"
          ],
          "name": "stderr"
        },
        {
          "output_type": "stream",
          "text": [
            "Parsing https://finance.yahoo.com/quote/ASNA/profile?p=ASNA\n",
            "\n",
            "Company:  ASR\n"
          ],
          "name": "stdout"
        },
        {
          "output_type": "stream",
          "text": [
            "/usr/local/lib/python3.6/dist-packages/urllib3/connectionpool.py:847: InsecureRequestWarning: Unverified HTTPS request is being made. Adding certificate verification is strongly advised. See: https://urllib3.readthedocs.io/en/latest/advanced-usage.html#ssl-warnings\n",
            "  InsecureRequestWarning)\n"
          ],
          "name": "stderr"
        },
        {
          "output_type": "stream",
          "text": [
            "Parsing https://finance.yahoo.com/quote/ASR/profile?p=ASR\n",
            "\n",
            "Company:  AST\n"
          ],
          "name": "stdout"
        },
        {
          "output_type": "stream",
          "text": [
            "/usr/local/lib/python3.6/dist-packages/urllib3/connectionpool.py:847: InsecureRequestWarning: Unverified HTTPS request is being made. Adding certificate verification is strongly advised. See: https://urllib3.readthedocs.io/en/latest/advanced-usage.html#ssl-warnings\n",
            "  InsecureRequestWarning)\n",
            "/usr/local/lib/python3.6/dist-packages/urllib3/connectionpool.py:847: InsecureRequestWarning: Unverified HTTPS request is being made. Adding certificate verification is strongly advised. See: https://urllib3.readthedocs.io/en/latest/advanced-usage.html#ssl-warnings\n",
            "  InsecureRequestWarning)\n"
          ],
          "name": "stderr"
        },
        {
          "output_type": "stream",
          "text": [
            "Parsing https://finance.yahoo.com/quote/AST/profile?p=AST\n",
            "Column mismatch for company:  AST  Ignoring...\n",
            "\n",
            "Company:  ASTC\n"
          ],
          "name": "stdout"
        },
        {
          "output_type": "stream",
          "text": [
            "/usr/local/lib/python3.6/dist-packages/urllib3/connectionpool.py:847: InsecureRequestWarning: Unverified HTTPS request is being made. Adding certificate verification is strongly advised. See: https://urllib3.readthedocs.io/en/latest/advanced-usage.html#ssl-warnings\n",
            "  InsecureRequestWarning)\n"
          ],
          "name": "stderr"
        },
        {
          "output_type": "stream",
          "text": [
            "Parsing https://finance.yahoo.com/quote/ASTC/profile?p=ASTC\n",
            "\n",
            "Company:  ASTE\n"
          ],
          "name": "stdout"
        },
        {
          "output_type": "stream",
          "text": [
            "/usr/local/lib/python3.6/dist-packages/urllib3/connectionpool.py:847: InsecureRequestWarning: Unverified HTTPS request is being made. Adding certificate verification is strongly advised. See: https://urllib3.readthedocs.io/en/latest/advanced-usage.html#ssl-warnings\n",
            "  InsecureRequestWarning)\n"
          ],
          "name": "stderr"
        },
        {
          "output_type": "stream",
          "text": [
            "Parsing https://finance.yahoo.com/quote/ASTE/profile?p=ASTE\n",
            "\n",
            "Company:  ATEN\n"
          ],
          "name": "stdout"
        },
        {
          "output_type": "stream",
          "text": [
            "/usr/local/lib/python3.6/dist-packages/urllib3/connectionpool.py:847: InsecureRequestWarning: Unverified HTTPS request is being made. Adding certificate verification is strongly advised. See: https://urllib3.readthedocs.io/en/latest/advanced-usage.html#ssl-warnings\n",
            "  InsecureRequestWarning)\n"
          ],
          "name": "stderr"
        },
        {
          "output_type": "stream",
          "text": [
            "Parsing https://finance.yahoo.com/quote/ATEN/profile?p=ATEN\n",
            "\n",
            "Company:  ATRA\n"
          ],
          "name": "stdout"
        },
        {
          "output_type": "stream",
          "text": [
            "/usr/local/lib/python3.6/dist-packages/urllib3/connectionpool.py:847: InsecureRequestWarning: Unverified HTTPS request is being made. Adding certificate verification is strongly advised. See: https://urllib3.readthedocs.io/en/latest/advanced-usage.html#ssl-warnings\n",
            "  InsecureRequestWarning)\n"
          ],
          "name": "stderr"
        },
        {
          "output_type": "stream",
          "text": [
            "Parsing https://finance.yahoo.com/quote/ATRA/profile?p=ATRA\n",
            "\n",
            "Company:  ATSG\n"
          ],
          "name": "stdout"
        },
        {
          "output_type": "stream",
          "text": [
            "/usr/local/lib/python3.6/dist-packages/urllib3/connectionpool.py:847: InsecureRequestWarning: Unverified HTTPS request is being made. Adding certificate verification is strongly advised. See: https://urllib3.readthedocs.io/en/latest/advanced-usage.html#ssl-warnings\n",
            "  InsecureRequestWarning)\n"
          ],
          "name": "stderr"
        },
        {
          "output_type": "stream",
          "text": [
            "Parsing https://finance.yahoo.com/quote/ATSG/profile?p=ATSG\n",
            "\n",
            "Company:  ATVI\n"
          ],
          "name": "stdout"
        },
        {
          "output_type": "stream",
          "text": [
            "/usr/local/lib/python3.6/dist-packages/urllib3/connectionpool.py:847: InsecureRequestWarning: Unverified HTTPS request is being made. Adding certificate verification is strongly advised. See: https://urllib3.readthedocs.io/en/latest/advanced-usage.html#ssl-warnings\n",
            "  InsecureRequestWarning)\n"
          ],
          "name": "stderr"
        },
        {
          "output_type": "stream",
          "text": [
            "Parsing https://finance.yahoo.com/quote/ATVI/profile?p=ATVI\n",
            "\n",
            "Company:  AUTL\n"
          ],
          "name": "stdout"
        },
        {
          "output_type": "stream",
          "text": [
            "/usr/local/lib/python3.6/dist-packages/urllib3/connectionpool.py:847: InsecureRequestWarning: Unverified HTTPS request is being made. Adding certificate verification is strongly advised. See: https://urllib3.readthedocs.io/en/latest/advanced-usage.html#ssl-warnings\n",
            "  InsecureRequestWarning)\n"
          ],
          "name": "stderr"
        },
        {
          "output_type": "stream",
          "text": [
            "Parsing https://finance.yahoo.com/quote/AUTL/profile?p=AUTL\n",
            "Error in profile non tabular data\n",
            "Column mismatch for company:  AUTL  Ignoring...\n",
            "\n",
            "Company:  AUTO\n"
          ],
          "name": "stdout"
        },
        {
          "output_type": "stream",
          "text": [
            "/usr/local/lib/python3.6/dist-packages/urllib3/connectionpool.py:847: InsecureRequestWarning: Unverified HTTPS request is being made. Adding certificate verification is strongly advised. See: https://urllib3.readthedocs.io/en/latest/advanced-usage.html#ssl-warnings\n",
            "  InsecureRequestWarning)\n"
          ],
          "name": "stderr"
        },
        {
          "output_type": "stream",
          "text": [
            "Parsing https://finance.yahoo.com/quote/AUTO/profile?p=AUTO\n",
            "\n",
            "Company:  AVAL\n"
          ],
          "name": "stdout"
        },
        {
          "output_type": "stream",
          "text": [
            "/usr/local/lib/python3.6/dist-packages/urllib3/connectionpool.py:847: InsecureRequestWarning: Unverified HTTPS request is being made. Adding certificate verification is strongly advised. See: https://urllib3.readthedocs.io/en/latest/advanced-usage.html#ssl-warnings\n",
            "  InsecureRequestWarning)\n"
          ],
          "name": "stderr"
        },
        {
          "output_type": "stream",
          "text": [
            "Parsing https://finance.yahoo.com/quote/AVAL/profile?p=AVAL\n",
            "Error in profile non tabular data\n",
            "Column mismatch for company:  AVAL  Ignoring...\n",
            "\n",
            "Company:  AVAV\n"
          ],
          "name": "stdout"
        },
        {
          "output_type": "stream",
          "text": [
            "/usr/local/lib/python3.6/dist-packages/urllib3/connectionpool.py:847: InsecureRequestWarning: Unverified HTTPS request is being made. Adding certificate verification is strongly advised. See: https://urllib3.readthedocs.io/en/latest/advanced-usage.html#ssl-warnings\n",
            "  InsecureRequestWarning)\n"
          ],
          "name": "stderr"
        },
        {
          "output_type": "stream",
          "text": [
            "Parsing https://finance.yahoo.com/quote/AVAV/profile?p=AVAV\n",
            "\n",
            "Company:  AVD\n"
          ],
          "name": "stdout"
        },
        {
          "output_type": "stream",
          "text": [
            "/usr/local/lib/python3.6/dist-packages/urllib3/connectionpool.py:847: InsecureRequestWarning: Unverified HTTPS request is being made. Adding certificate verification is strongly advised. See: https://urllib3.readthedocs.io/en/latest/advanced-usage.html#ssl-warnings\n",
            "  InsecureRequestWarning)\n"
          ],
          "name": "stderr"
        },
        {
          "output_type": "stream",
          "text": [
            "Parsing https://finance.yahoo.com/quote/AVD/profile?p=AVD\n",
            "\n",
            "Company:  AVH\n"
          ],
          "name": "stdout"
        },
        {
          "output_type": "stream",
          "text": [
            "/usr/local/lib/python3.6/dist-packages/urllib3/connectionpool.py:847: InsecureRequestWarning: Unverified HTTPS request is being made. Adding certificate verification is strongly advised. See: https://urllib3.readthedocs.io/en/latest/advanced-usage.html#ssl-warnings\n",
            "  InsecureRequestWarning)\n"
          ],
          "name": "stderr"
        },
        {
          "output_type": "stream",
          "text": [
            "Parsing https://finance.yahoo.com/quote/AVH/profile?p=AVH\n",
            "\n",
            "Company:  AVID\n"
          ],
          "name": "stdout"
        },
        {
          "output_type": "stream",
          "text": [
            "/usr/local/lib/python3.6/dist-packages/urllib3/connectionpool.py:847: InsecureRequestWarning: Unverified HTTPS request is being made. Adding certificate verification is strongly advised. See: https://urllib3.readthedocs.io/en/latest/advanced-usage.html#ssl-warnings\n",
            "  InsecureRequestWarning)\n"
          ],
          "name": "stderr"
        },
        {
          "output_type": "stream",
          "text": [
            "Parsing https://finance.yahoo.com/quote/AVID/profile?p=AVID\n",
            "\n",
            "Company:  AVLR\n"
          ],
          "name": "stdout"
        },
        {
          "output_type": "stream",
          "text": [
            "/usr/local/lib/python3.6/dist-packages/urllib3/connectionpool.py:847: InsecureRequestWarning: Unverified HTTPS request is being made. Adding certificate verification is strongly advised. See: https://urllib3.readthedocs.io/en/latest/advanced-usage.html#ssl-warnings\n",
            "  InsecureRequestWarning)\n"
          ],
          "name": "stderr"
        },
        {
          "output_type": "stream",
          "text": [
            "Parsing https://finance.yahoo.com/quote/AVLR/profile?p=AVLR\n",
            "\n",
            "Company:  AVRO\n"
          ],
          "name": "stdout"
        },
        {
          "output_type": "stream",
          "text": [
            "/usr/local/lib/python3.6/dist-packages/urllib3/connectionpool.py:847: InsecureRequestWarning: Unverified HTTPS request is being made. Adding certificate verification is strongly advised. See: https://urllib3.readthedocs.io/en/latest/advanced-usage.html#ssl-warnings\n",
            "  InsecureRequestWarning)\n"
          ],
          "name": "stderr"
        },
        {
          "output_type": "stream",
          "text": [
            "Parsing https://finance.yahoo.com/quote/AVRO/profile?p=AVRO\n",
            "\n",
            "Company:  AVXL\n"
          ],
          "name": "stdout"
        },
        {
          "output_type": "stream",
          "text": [
            "/usr/local/lib/python3.6/dist-packages/urllib3/connectionpool.py:847: InsecureRequestWarning: Unverified HTTPS request is being made. Adding certificate verification is strongly advised. See: https://urllib3.readthedocs.io/en/latest/advanced-usage.html#ssl-warnings\n",
            "  InsecureRequestWarning)\n"
          ],
          "name": "stderr"
        },
        {
          "output_type": "stream",
          "text": [
            "Parsing https://finance.yahoo.com/quote/AVXL/profile?p=AVXL\n",
            "\n",
            "Company:  AWRE\n"
          ],
          "name": "stdout"
        },
        {
          "output_type": "stream",
          "text": [
            "/usr/local/lib/python3.6/dist-packages/urllib3/connectionpool.py:847: InsecureRequestWarning: Unverified HTTPS request is being made. Adding certificate verification is strongly advised. See: https://urllib3.readthedocs.io/en/latest/advanced-usage.html#ssl-warnings\n",
            "  InsecureRequestWarning)\n"
          ],
          "name": "stderr"
        },
        {
          "output_type": "stream",
          "text": [
            "Parsing https://finance.yahoo.com/quote/AWRE/profile?p=AWRE\n",
            "\n",
            "Company:  AXDX\n"
          ],
          "name": "stdout"
        },
        {
          "output_type": "stream",
          "text": [
            "/usr/local/lib/python3.6/dist-packages/urllib3/connectionpool.py:847: InsecureRequestWarning: Unverified HTTPS request is being made. Adding certificate verification is strongly advised. See: https://urllib3.readthedocs.io/en/latest/advanced-usage.html#ssl-warnings\n",
            "  InsecureRequestWarning)\n"
          ],
          "name": "stderr"
        },
        {
          "output_type": "stream",
          "text": [
            "Parsing https://finance.yahoo.com/quote/AXDX/profile?p=AXDX\n",
            "\n",
            "Company:  AXGN\n"
          ],
          "name": "stdout"
        },
        {
          "output_type": "stream",
          "text": [
            "/usr/local/lib/python3.6/dist-packages/urllib3/connectionpool.py:847: InsecureRequestWarning: Unverified HTTPS request is being made. Adding certificate verification is strongly advised. See: https://urllib3.readthedocs.io/en/latest/advanced-usage.html#ssl-warnings\n",
            "  InsecureRequestWarning)\n"
          ],
          "name": "stderr"
        },
        {
          "output_type": "stream",
          "text": [
            "Parsing https://finance.yahoo.com/quote/AXGN/profile?p=AXGN\n",
            "\n",
            "Company:  AXL\n"
          ],
          "name": "stdout"
        },
        {
          "output_type": "stream",
          "text": [
            "/usr/local/lib/python3.6/dist-packages/urllib3/connectionpool.py:847: InsecureRequestWarning: Unverified HTTPS request is being made. Adding certificate verification is strongly advised. See: https://urllib3.readthedocs.io/en/latest/advanced-usage.html#ssl-warnings\n",
            "  InsecureRequestWarning)\n"
          ],
          "name": "stderr"
        },
        {
          "output_type": "stream",
          "text": [
            "Parsing https://finance.yahoo.com/quote/AXL/profile?p=AXL\n",
            "\n",
            "Company:  AYI\n"
          ],
          "name": "stdout"
        },
        {
          "output_type": "stream",
          "text": [
            "/usr/local/lib/python3.6/dist-packages/urllib3/connectionpool.py:847: InsecureRequestWarning: Unverified HTTPS request is being made. Adding certificate verification is strongly advised. See: https://urllib3.readthedocs.io/en/latest/advanced-usage.html#ssl-warnings\n",
            "  InsecureRequestWarning)\n"
          ],
          "name": "stderr"
        },
        {
          "output_type": "stream",
          "text": [
            "Parsing https://finance.yahoo.com/quote/AYI/profile?p=AYI\n",
            "\n",
            "Company:  AYX\n"
          ],
          "name": "stdout"
        },
        {
          "output_type": "stream",
          "text": [
            "/usr/local/lib/python3.6/dist-packages/urllib3/connectionpool.py:847: InsecureRequestWarning: Unverified HTTPS request is being made. Adding certificate verification is strongly advised. See: https://urllib3.readthedocs.io/en/latest/advanced-usage.html#ssl-warnings\n",
            "  InsecureRequestWarning)\n"
          ],
          "name": "stderr"
        },
        {
          "output_type": "stream",
          "text": [
            "Parsing https://finance.yahoo.com/quote/AYX/profile?p=AYX\n",
            "\n",
            "Company:  AZUL\n"
          ],
          "name": "stdout"
        },
        {
          "output_type": "stream",
          "text": [
            "/usr/local/lib/python3.6/dist-packages/urllib3/connectionpool.py:847: InsecureRequestWarning: Unverified HTTPS request is being made. Adding certificate verification is strongly advised. See: https://urllib3.readthedocs.io/en/latest/advanced-usage.html#ssl-warnings\n",
            "  InsecureRequestWarning)\n"
          ],
          "name": "stderr"
        },
        {
          "output_type": "stream",
          "text": [
            "Parsing https://finance.yahoo.com/quote/AZUL/profile?p=AZUL\n",
            "\n",
            "Company:  AZZ\n"
          ],
          "name": "stdout"
        },
        {
          "output_type": "stream",
          "text": [
            "/usr/local/lib/python3.6/dist-packages/urllib3/connectionpool.py:847: InsecureRequestWarning: Unverified HTTPS request is being made. Adding certificate verification is strongly advised. See: https://urllib3.readthedocs.io/en/latest/advanced-usage.html#ssl-warnings\n",
            "  InsecureRequestWarning)\n"
          ],
          "name": "stderr"
        },
        {
          "output_type": "stream",
          "text": [
            "Parsing https://finance.yahoo.com/quote/AZZ/profile?p=AZZ\n",
            "\n",
            "Company:  BA\n"
          ],
          "name": "stdout"
        },
        {
          "output_type": "stream",
          "text": [
            "/usr/local/lib/python3.6/dist-packages/urllib3/connectionpool.py:847: InsecureRequestWarning: Unverified HTTPS request is being made. Adding certificate verification is strongly advised. See: https://urllib3.readthedocs.io/en/latest/advanced-usage.html#ssl-warnings\n",
            "  InsecureRequestWarning)\n"
          ],
          "name": "stderr"
        },
        {
          "output_type": "stream",
          "text": [
            "Parsing https://finance.yahoo.com/quote/BA/profile?p=BA\n",
            "\n",
            "Company:  BABA\n"
          ],
          "name": "stdout"
        },
        {
          "output_type": "stream",
          "text": [
            "/usr/local/lib/python3.6/dist-packages/urllib3/connectionpool.py:847: InsecureRequestWarning: Unverified HTTPS request is being made. Adding certificate verification is strongly advised. See: https://urllib3.readthedocs.io/en/latest/advanced-usage.html#ssl-warnings\n",
            "  InsecureRequestWarning)\n"
          ],
          "name": "stderr"
        },
        {
          "output_type": "stream",
          "text": [
            "Parsing https://finance.yahoo.com/quote/BABA/profile?p=BABA\n",
            "\n",
            "Company:  BABY\n"
          ],
          "name": "stdout"
        },
        {
          "output_type": "stream",
          "text": [
            "/usr/local/lib/python3.6/dist-packages/urllib3/connectionpool.py:847: InsecureRequestWarning: Unverified HTTPS request is being made. Adding certificate verification is strongly advised. See: https://urllib3.readthedocs.io/en/latest/advanced-usage.html#ssl-warnings\n",
            "  InsecureRequestWarning)\n",
            "/usr/local/lib/python3.6/dist-packages/urllib3/connectionpool.py:847: InsecureRequestWarning: Unverified HTTPS request is being made. Adding certificate verification is strongly advised. See: https://urllib3.readthedocs.io/en/latest/advanced-usage.html#ssl-warnings\n",
            "  InsecureRequestWarning)\n"
          ],
          "name": "stderr"
        },
        {
          "output_type": "stream",
          "text": [
            "Parsing https://finance.yahoo.com/quote/BABY/profile?p=BABY\n",
            "Column mismatch for company:  BABY  Ignoring...\n",
            "\n",
            "Company:  BAM\n"
          ],
          "name": "stdout"
        },
        {
          "output_type": "stream",
          "text": [
            "/usr/local/lib/python3.6/dist-packages/urllib3/connectionpool.py:847: InsecureRequestWarning: Unverified HTTPS request is being made. Adding certificate verification is strongly advised. See: https://urllib3.readthedocs.io/en/latest/advanced-usage.html#ssl-warnings\n",
            "  InsecureRequestWarning)\n"
          ],
          "name": "stderr"
        },
        {
          "output_type": "stream",
          "text": [
            "Parsing https://finance.yahoo.com/quote/BAM/profile?p=BAM\n",
            "\n",
            "Company:  BAND\n"
          ],
          "name": "stdout"
        },
        {
          "output_type": "stream",
          "text": [
            "/usr/local/lib/python3.6/dist-packages/urllib3/connectionpool.py:847: InsecureRequestWarning: Unverified HTTPS request is being made. Adding certificate verification is strongly advised. See: https://urllib3.readthedocs.io/en/latest/advanced-usage.html#ssl-warnings\n",
            "  InsecureRequestWarning)\n"
          ],
          "name": "stderr"
        },
        {
          "output_type": "stream",
          "text": [
            "Parsing https://finance.yahoo.com/quote/BAND/profile?p=BAND\n",
            "\n",
            "Company:  BAP\n"
          ],
          "name": "stdout"
        },
        {
          "output_type": "stream",
          "text": [
            "/usr/local/lib/python3.6/dist-packages/urllib3/connectionpool.py:847: InsecureRequestWarning: Unverified HTTPS request is being made. Adding certificate verification is strongly advised. See: https://urllib3.readthedocs.io/en/latest/advanced-usage.html#ssl-warnings\n",
            "  InsecureRequestWarning)\n"
          ],
          "name": "stderr"
        },
        {
          "output_type": "stream",
          "text": [
            "Parsing https://finance.yahoo.com/quote/BAP/profile?p=BAP\n",
            "\n",
            "Company:  BASI\n"
          ],
          "name": "stdout"
        },
        {
          "output_type": "stream",
          "text": [
            "/usr/local/lib/python3.6/dist-packages/urllib3/connectionpool.py:847: InsecureRequestWarning: Unverified HTTPS request is being made. Adding certificate verification is strongly advised. See: https://urllib3.readthedocs.io/en/latest/advanced-usage.html#ssl-warnings\n",
            "  InsecureRequestWarning)\n"
          ],
          "name": "stderr"
        },
        {
          "output_type": "stream",
          "text": [
            "Parsing https://finance.yahoo.com/quote/BASI/profile?p=BASI\n",
            "\n",
            "Company:  BATRA\n"
          ],
          "name": "stdout"
        },
        {
          "output_type": "stream",
          "text": [
            "/usr/local/lib/python3.6/dist-packages/urllib3/connectionpool.py:847: InsecureRequestWarning: Unverified HTTPS request is being made. Adding certificate verification is strongly advised. See: https://urllib3.readthedocs.io/en/latest/advanced-usage.html#ssl-warnings\n",
            "  InsecureRequestWarning)\n"
          ],
          "name": "stderr"
        },
        {
          "output_type": "stream",
          "text": [
            "Parsing https://finance.yahoo.com/quote/BATRA/profile?p=BATRA\n",
            "Error in profile non tabular data\n",
            "Column mismatch for company:  BATRA  Ignoring...\n",
            "Final Data:  (93, 126)\n",
            "\n",
            "Writing Yahoo Summary\n",
            "\n",
            "Company:  A\n"
          ],
          "name": "stdout"
        },
        {
          "output_type": "stream",
          "text": [
            "/usr/local/lib/python3.6/dist-packages/urllib3/connectionpool.py:847: InsecureRequestWarning: Unverified HTTPS request is being made. Adding certificate verification is strongly advised. See: https://urllib3.readthedocs.io/en/latest/advanced-usage.html#ssl-warnings\n",
            "  InsecureRequestWarning)\n"
          ],
          "name": "stderr"
        },
        {
          "output_type": "stream",
          "text": [
            "Parsing https://finance.yahoo.com/quote/A/profile?p=A\n",
            "\n",
            "Company:  AA\n"
          ],
          "name": "stdout"
        },
        {
          "output_type": "stream",
          "text": [
            "/usr/local/lib/python3.6/dist-packages/urllib3/connectionpool.py:847: InsecureRequestWarning: Unverified HTTPS request is being made. Adding certificate verification is strongly advised. See: https://urllib3.readthedocs.io/en/latest/advanced-usage.html#ssl-warnings\n",
            "  InsecureRequestWarning)\n"
          ],
          "name": "stderr"
        },
        {
          "output_type": "stream",
          "text": [
            "Parsing https://finance.yahoo.com/quote/AA/profile?p=AA\n",
            "\n",
            "Company:  AAL\n"
          ],
          "name": "stdout"
        },
        {
          "output_type": "stream",
          "text": [
            "/usr/local/lib/python3.6/dist-packages/urllib3/connectionpool.py:847: InsecureRequestWarning: Unverified HTTPS request is being made. Adding certificate verification is strongly advised. See: https://urllib3.readthedocs.io/en/latest/advanced-usage.html#ssl-warnings\n",
            "  InsecureRequestWarning)\n"
          ],
          "name": "stderr"
        },
        {
          "output_type": "stream",
          "text": [
            "Parsing https://finance.yahoo.com/quote/AAL/profile?p=AAL\n",
            "\n",
            "Company:  AAPL\n"
          ],
          "name": "stdout"
        },
        {
          "output_type": "stream",
          "text": [
            "/usr/local/lib/python3.6/dist-packages/urllib3/connectionpool.py:847: InsecureRequestWarning: Unverified HTTPS request is being made. Adding certificate verification is strongly advised. See: https://urllib3.readthedocs.io/en/latest/advanced-usage.html#ssl-warnings\n",
            "  InsecureRequestWarning)\n"
          ],
          "name": "stderr"
        },
        {
          "output_type": "stream",
          "text": [
            "Parsing https://finance.yahoo.com/quote/AAPL/profile?p=AAPL\n",
            "\n",
            "Company:  ABEV\n"
          ],
          "name": "stdout"
        },
        {
          "output_type": "stream",
          "text": [
            "/usr/local/lib/python3.6/dist-packages/urllib3/connectionpool.py:847: InsecureRequestWarning: Unverified HTTPS request is being made. Adding certificate verification is strongly advised. See: https://urllib3.readthedocs.io/en/latest/advanced-usage.html#ssl-warnings\n",
            "  InsecureRequestWarning)\n"
          ],
          "name": "stderr"
        },
        {
          "output_type": "stream",
          "text": [
            "Parsing https://finance.yahoo.com/quote/ABEV/profile?p=ABEV\n",
            "\n",
            "Company:  ABG\n"
          ],
          "name": "stdout"
        },
        {
          "output_type": "stream",
          "text": [
            "/usr/local/lib/python3.6/dist-packages/urllib3/connectionpool.py:847: InsecureRequestWarning: Unverified HTTPS request is being made. Adding certificate verification is strongly advised. See: https://urllib3.readthedocs.io/en/latest/advanced-usage.html#ssl-warnings\n",
            "  InsecureRequestWarning)\n"
          ],
          "name": "stderr"
        },
        {
          "output_type": "stream",
          "text": [
            "Parsing https://finance.yahoo.com/quote/ABG/profile?p=ABG\n",
            "\n",
            "Company:  ABIO\n"
          ],
          "name": "stdout"
        },
        {
          "output_type": "stream",
          "text": [
            "/usr/local/lib/python3.6/dist-packages/urllib3/connectionpool.py:847: InsecureRequestWarning: Unverified HTTPS request is being made. Adding certificate verification is strongly advised. See: https://urllib3.readthedocs.io/en/latest/advanced-usage.html#ssl-warnings\n",
            "  InsecureRequestWarning)\n"
          ],
          "name": "stderr"
        },
        {
          "output_type": "stream",
          "text": [
            "Parsing https://finance.yahoo.com/quote/ABIO/profile?p=ABIO\n",
            "\n",
            "Company:  ACH\n"
          ],
          "name": "stdout"
        },
        {
          "output_type": "stream",
          "text": [
            "/usr/local/lib/python3.6/dist-packages/urllib3/connectionpool.py:847: InsecureRequestWarning: Unverified HTTPS request is being made. Adding certificate verification is strongly advised. See: https://urllib3.readthedocs.io/en/latest/advanced-usage.html#ssl-warnings\n",
            "  InsecureRequestWarning)\n"
          ],
          "name": "stderr"
        },
        {
          "output_type": "stream",
          "text": [
            "Parsing https://finance.yahoo.com/quote/ACH/profile?p=ACH\n",
            "\n",
            "Company:  ACHV\n"
          ],
          "name": "stdout"
        },
        {
          "output_type": "stream",
          "text": [
            "/usr/local/lib/python3.6/dist-packages/urllib3/connectionpool.py:847: InsecureRequestWarning: Unverified HTTPS request is being made. Adding certificate verification is strongly advised. See: https://urllib3.readthedocs.io/en/latest/advanced-usage.html#ssl-warnings\n",
            "  InsecureRequestWarning)\n"
          ],
          "name": "stderr"
        },
        {
          "output_type": "stream",
          "text": [
            "Parsing https://finance.yahoo.com/quote/ACHV/profile?p=ACHV\n",
            "\n",
            "Company:  ACIW\n"
          ],
          "name": "stdout"
        },
        {
          "output_type": "stream",
          "text": [
            "/usr/local/lib/python3.6/dist-packages/urllib3/connectionpool.py:847: InsecureRequestWarning: Unverified HTTPS request is being made. Adding certificate verification is strongly advised. See: https://urllib3.readthedocs.io/en/latest/advanced-usage.html#ssl-warnings\n",
            "  InsecureRequestWarning)\n"
          ],
          "name": "stderr"
        },
        {
          "output_type": "stream",
          "text": [
            "Parsing https://finance.yahoo.com/quote/ACIW/profile?p=ACIW\n",
            "\n",
            "Company:  ACN\n"
          ],
          "name": "stdout"
        },
        {
          "output_type": "stream",
          "text": [
            "/usr/local/lib/python3.6/dist-packages/urllib3/connectionpool.py:847: InsecureRequestWarning: Unverified HTTPS request is being made. Adding certificate verification is strongly advised. See: https://urllib3.readthedocs.io/en/latest/advanced-usage.html#ssl-warnings\n",
            "  InsecureRequestWarning)\n"
          ],
          "name": "stderr"
        },
        {
          "output_type": "stream",
          "text": [
            "Parsing https://finance.yahoo.com/quote/ACN/profile?p=ACN\n",
            "\n",
            "Company:  ACOR\n"
          ],
          "name": "stdout"
        },
        {
          "output_type": "stream",
          "text": [
            "/usr/local/lib/python3.6/dist-packages/urllib3/connectionpool.py:847: InsecureRequestWarning: Unverified HTTPS request is being made. Adding certificate verification is strongly advised. See: https://urllib3.readthedocs.io/en/latest/advanced-usage.html#ssl-warnings\n",
            "  InsecureRequestWarning)\n"
          ],
          "name": "stderr"
        },
        {
          "output_type": "stream",
          "text": [
            "Parsing https://finance.yahoo.com/quote/ACOR/profile?p=ACOR\n",
            "\n",
            "Company:  ADAP\n"
          ],
          "name": "stdout"
        },
        {
          "output_type": "stream",
          "text": [
            "/usr/local/lib/python3.6/dist-packages/urllib3/connectionpool.py:847: InsecureRequestWarning: Unverified HTTPS request is being made. Adding certificate verification is strongly advised. See: https://urllib3.readthedocs.io/en/latest/advanced-usage.html#ssl-warnings\n",
            "  InsecureRequestWarning)\n"
          ],
          "name": "stderr"
        },
        {
          "output_type": "stream",
          "text": [
            "Parsing https://finance.yahoo.com/quote/ADAP/profile?p=ADAP\n",
            "\n",
            "Company:  ADBE\n"
          ],
          "name": "stdout"
        },
        {
          "output_type": "stream",
          "text": [
            "/usr/local/lib/python3.6/dist-packages/urllib3/connectionpool.py:847: InsecureRequestWarning: Unverified HTTPS request is being made. Adding certificate verification is strongly advised. See: https://urllib3.readthedocs.io/en/latest/advanced-usage.html#ssl-warnings\n",
            "  InsecureRequestWarning)\n"
          ],
          "name": "stderr"
        },
        {
          "output_type": "stream",
          "text": [
            "Parsing https://finance.yahoo.com/quote/ADBE/profile?p=ADBE\n",
            "\n",
            "Company:  ADMA\n"
          ],
          "name": "stdout"
        },
        {
          "output_type": "stream",
          "text": [
            "/usr/local/lib/python3.6/dist-packages/urllib3/connectionpool.py:847: InsecureRequestWarning: Unverified HTTPS request is being made. Adding certificate verification is strongly advised. See: https://urllib3.readthedocs.io/en/latest/advanced-usage.html#ssl-warnings\n",
            "  InsecureRequestWarning)\n"
          ],
          "name": "stderr"
        },
        {
          "output_type": "stream",
          "text": [
            "Parsing https://finance.yahoo.com/quote/ADMA/profile?p=ADMA\n",
            "\n",
            "Company:  ADNT\n"
          ],
          "name": "stdout"
        },
        {
          "output_type": "stream",
          "text": [
            "/usr/local/lib/python3.6/dist-packages/urllib3/connectionpool.py:847: InsecureRequestWarning: Unverified HTTPS request is being made. Adding certificate verification is strongly advised. See: https://urllib3.readthedocs.io/en/latest/advanced-usage.html#ssl-warnings\n",
            "  InsecureRequestWarning)\n"
          ],
          "name": "stderr"
        },
        {
          "output_type": "stream",
          "text": [
            "Parsing https://finance.yahoo.com/quote/ADNT/profile?p=ADNT\n",
            "\n",
            "Company:  ADOM\n"
          ],
          "name": "stdout"
        },
        {
          "output_type": "stream",
          "text": [
            "/usr/local/lib/python3.6/dist-packages/urllib3/connectionpool.py:847: InsecureRequestWarning: Unverified HTTPS request is being made. Adding certificate verification is strongly advised. See: https://urllib3.readthedocs.io/en/latest/advanced-usage.html#ssl-warnings\n",
            "  InsecureRequestWarning)\n"
          ],
          "name": "stderr"
        },
        {
          "output_type": "stream",
          "text": [
            "Parsing https://finance.yahoo.com/quote/ADOM/profile?p=ADOM\n",
            "\n",
            "Company:  ADS\n"
          ],
          "name": "stdout"
        },
        {
          "output_type": "stream",
          "text": [
            "/usr/local/lib/python3.6/dist-packages/urllib3/connectionpool.py:847: InsecureRequestWarning: Unverified HTTPS request is being made. Adding certificate verification is strongly advised. See: https://urllib3.readthedocs.io/en/latest/advanced-usage.html#ssl-warnings\n",
            "  InsecureRequestWarning)\n"
          ],
          "name": "stderr"
        },
        {
          "output_type": "stream",
          "text": [
            "Parsing https://finance.yahoo.com/quote/ADS/profile?p=ADS\n",
            "\n",
            "Company:  ADSK\n"
          ],
          "name": "stdout"
        },
        {
          "output_type": "stream",
          "text": [
            "/usr/local/lib/python3.6/dist-packages/urllib3/connectionpool.py:847: InsecureRequestWarning: Unverified HTTPS request is being made. Adding certificate verification is strongly advised. See: https://urllib3.readthedocs.io/en/latest/advanced-usage.html#ssl-warnings\n",
            "  InsecureRequestWarning)\n"
          ],
          "name": "stderr"
        },
        {
          "output_type": "stream",
          "text": [
            "Parsing https://finance.yahoo.com/quote/ADSK/profile?p=ADSK\n",
            "\n",
            "Company:  ADVM\n"
          ],
          "name": "stdout"
        },
        {
          "output_type": "stream",
          "text": [
            "/usr/local/lib/python3.6/dist-packages/urllib3/connectionpool.py:847: InsecureRequestWarning: Unverified HTTPS request is being made. Adding certificate verification is strongly advised. See: https://urllib3.readthedocs.io/en/latest/advanced-usage.html#ssl-warnings\n",
            "  InsecureRequestWarning)\n"
          ],
          "name": "stderr"
        },
        {
          "output_type": "stream",
          "text": [
            "Parsing https://finance.yahoo.com/quote/ADVM/profile?p=ADVM\n",
            "\n",
            "Company:  AEMD\n"
          ],
          "name": "stdout"
        },
        {
          "output_type": "stream",
          "text": [
            "/usr/local/lib/python3.6/dist-packages/urllib3/connectionpool.py:847: InsecureRequestWarning: Unverified HTTPS request is being made. Adding certificate verification is strongly advised. See: https://urllib3.readthedocs.io/en/latest/advanced-usage.html#ssl-warnings\n",
            "  InsecureRequestWarning)\n"
          ],
          "name": "stderr"
        },
        {
          "output_type": "stream",
          "text": [
            "Parsing https://finance.yahoo.com/quote/AEMD/profile?p=AEMD\n",
            "\n",
            "Company:  AEO\n"
          ],
          "name": "stdout"
        },
        {
          "output_type": "stream",
          "text": [
            "/usr/local/lib/python3.6/dist-packages/urllib3/connectionpool.py:847: InsecureRequestWarning: Unverified HTTPS request is being made. Adding certificate verification is strongly advised. See: https://urllib3.readthedocs.io/en/latest/advanced-usage.html#ssl-warnings\n",
            "  InsecureRequestWarning)\n"
          ],
          "name": "stderr"
        },
        {
          "output_type": "stream",
          "text": [
            "Parsing https://finance.yahoo.com/quote/AEO/profile?p=AEO\n",
            "\n",
            "Company:  AERI\n"
          ],
          "name": "stdout"
        },
        {
          "output_type": "stream",
          "text": [
            "/usr/local/lib/python3.6/dist-packages/urllib3/connectionpool.py:847: InsecureRequestWarning: Unverified HTTPS request is being made. Adding certificate verification is strongly advised. See: https://urllib3.readthedocs.io/en/latest/advanced-usage.html#ssl-warnings\n",
            "  InsecureRequestWarning)\n"
          ],
          "name": "stderr"
        },
        {
          "output_type": "stream",
          "text": [
            "Parsing https://finance.yahoo.com/quote/AERI/profile?p=AERI\n",
            "\n",
            "Company:  AEYE\n"
          ],
          "name": "stdout"
        },
        {
          "output_type": "stream",
          "text": [
            "/usr/local/lib/python3.6/dist-packages/urllib3/connectionpool.py:847: InsecureRequestWarning: Unverified HTTPS request is being made. Adding certificate verification is strongly advised. See: https://urllib3.readthedocs.io/en/latest/advanced-usage.html#ssl-warnings\n",
            "  InsecureRequestWarning)\n"
          ],
          "name": "stderr"
        },
        {
          "output_type": "stream",
          "text": [
            "Parsing https://finance.yahoo.com/quote/AEYE/profile?p=AEYE\n",
            "\n",
            "Company:  AFL\n"
          ],
          "name": "stdout"
        },
        {
          "output_type": "stream",
          "text": [
            "/usr/local/lib/python3.6/dist-packages/urllib3/connectionpool.py:847: InsecureRequestWarning: Unverified HTTPS request is being made. Adding certificate verification is strongly advised. See: https://urllib3.readthedocs.io/en/latest/advanced-usage.html#ssl-warnings\n",
            "  InsecureRequestWarning)\n"
          ],
          "name": "stderr"
        },
        {
          "output_type": "stream",
          "text": [
            "Parsing https://finance.yahoo.com/quote/AFL/profile?p=AFL\n",
            "\n",
            "Company:  AGEN\n"
          ],
          "name": "stdout"
        },
        {
          "output_type": "stream",
          "text": [
            "/usr/local/lib/python3.6/dist-packages/urllib3/connectionpool.py:847: InsecureRequestWarning: Unverified HTTPS request is being made. Adding certificate verification is strongly advised. See: https://urllib3.readthedocs.io/en/latest/advanced-usage.html#ssl-warnings\n",
            "  InsecureRequestWarning)\n"
          ],
          "name": "stderr"
        },
        {
          "output_type": "stream",
          "text": [
            "Parsing https://finance.yahoo.com/quote/AGEN/profile?p=AGEN\n",
            "\n",
            "Company:  AGFS\n"
          ],
          "name": "stdout"
        },
        {
          "output_type": "stream",
          "text": [
            "/usr/local/lib/python3.6/dist-packages/urllib3/connectionpool.py:847: InsecureRequestWarning: Unverified HTTPS request is being made. Adding certificate verification is strongly advised. See: https://urllib3.readthedocs.io/en/latest/advanced-usage.html#ssl-warnings\n",
            "  InsecureRequestWarning)\n"
          ],
          "name": "stderr"
        },
        {
          "output_type": "stream",
          "text": [
            "Parsing https://finance.yahoo.com/quote/AGFS/profile?p=AGFS\n",
            "\n",
            "Company:  AGTC\n"
          ],
          "name": "stdout"
        },
        {
          "output_type": "stream",
          "text": [
            "/usr/local/lib/python3.6/dist-packages/urllib3/connectionpool.py:847: InsecureRequestWarning: Unverified HTTPS request is being made. Adding certificate verification is strongly advised. See: https://urllib3.readthedocs.io/en/latest/advanced-usage.html#ssl-warnings\n",
            "  InsecureRequestWarning)\n"
          ],
          "name": "stderr"
        },
        {
          "output_type": "stream",
          "text": [
            "Parsing https://finance.yahoo.com/quote/AGTC/profile?p=AGTC\n",
            "\n",
            "Company:  AIR\n"
          ],
          "name": "stdout"
        },
        {
          "output_type": "stream",
          "text": [
            "/usr/local/lib/python3.6/dist-packages/urllib3/connectionpool.py:847: InsecureRequestWarning: Unverified HTTPS request is being made. Adding certificate verification is strongly advised. See: https://urllib3.readthedocs.io/en/latest/advanced-usage.html#ssl-warnings\n",
            "  InsecureRequestWarning)\n"
          ],
          "name": "stderr"
        },
        {
          "output_type": "stream",
          "text": [
            "Parsing https://finance.yahoo.com/quote/AIR/profile?p=AIR\n",
            "\n",
            "Company:  AIRT\n"
          ],
          "name": "stdout"
        },
        {
          "output_type": "stream",
          "text": [
            "/usr/local/lib/python3.6/dist-packages/urllib3/connectionpool.py:847: InsecureRequestWarning: Unverified HTTPS request is being made. Adding certificate verification is strongly advised. See: https://urllib3.readthedocs.io/en/latest/advanced-usage.html#ssl-warnings\n",
            "  InsecureRequestWarning)\n"
          ],
          "name": "stderr"
        },
        {
          "output_type": "stream",
          "text": [
            "Parsing https://finance.yahoo.com/quote/AIRT/profile?p=AIRT\n",
            "\n",
            "Company:  AIZ\n"
          ],
          "name": "stdout"
        },
        {
          "output_type": "stream",
          "text": [
            "/usr/local/lib/python3.6/dist-packages/urllib3/connectionpool.py:847: InsecureRequestWarning: Unverified HTTPS request is being made. Adding certificate verification is strongly advised. See: https://urllib3.readthedocs.io/en/latest/advanced-usage.html#ssl-warnings\n",
            "  InsecureRequestWarning)\n"
          ],
          "name": "stderr"
        },
        {
          "output_type": "stream",
          "text": [
            "Parsing https://finance.yahoo.com/quote/AIZ/profile?p=AIZ\n",
            "\n",
            "Company:  AIZP\n"
          ],
          "name": "stdout"
        },
        {
          "output_type": "stream",
          "text": [
            "/usr/local/lib/python3.6/dist-packages/urllib3/connectionpool.py:847: InsecureRequestWarning: Unverified HTTPS request is being made. Adding certificate verification is strongly advised. See: https://urllib3.readthedocs.io/en/latest/advanced-usage.html#ssl-warnings\n",
            "  InsecureRequestWarning)\n"
          ],
          "name": "stderr"
        },
        {
          "output_type": "stream",
          "text": [
            "Parsing https://finance.yahoo.com/quote/AIZP/profile?p=AIZP\n",
            "\n",
            "Company:  AKAM\n"
          ],
          "name": "stdout"
        },
        {
          "output_type": "stream",
          "text": [
            "/usr/local/lib/python3.6/dist-packages/urllib3/connectionpool.py:847: InsecureRequestWarning: Unverified HTTPS request is being made. Adding certificate verification is strongly advised. See: https://urllib3.readthedocs.io/en/latest/advanced-usage.html#ssl-warnings\n",
            "  InsecureRequestWarning)\n"
          ],
          "name": "stderr"
        },
        {
          "output_type": "stream",
          "text": [
            "Parsing https://finance.yahoo.com/quote/AKAM/profile?p=AKAM\n",
            "\n",
            "Company:  AKER\n"
          ],
          "name": "stdout"
        },
        {
          "output_type": "stream",
          "text": [
            "/usr/local/lib/python3.6/dist-packages/urllib3/connectionpool.py:847: InsecureRequestWarning: Unverified HTTPS request is being made. Adding certificate verification is strongly advised. See: https://urllib3.readthedocs.io/en/latest/advanced-usage.html#ssl-warnings\n",
            "  InsecureRequestWarning)\n"
          ],
          "name": "stderr"
        },
        {
          "output_type": "stream",
          "text": [
            "Parsing https://finance.yahoo.com/quote/AKER/profile?p=AKER\n",
            "\n",
            "Company:  ALGR\n"
          ],
          "name": "stdout"
        },
        {
          "output_type": "stream",
          "text": [
            "/usr/local/lib/python3.6/dist-packages/urllib3/connectionpool.py:847: InsecureRequestWarning: Unverified HTTPS request is being made. Adding certificate verification is strongly advised. See: https://urllib3.readthedocs.io/en/latest/advanced-usage.html#ssl-warnings\n",
            "  InsecureRequestWarning)\n"
          ],
          "name": "stderr"
        },
        {
          "output_type": "stream",
          "text": [
            "Parsing https://finance.yahoo.com/quote/ALGR/profile?p=ALGR\n",
            "Error in profile non tabular data\n",
            "Column mismatch for company:  ALGR  Ignoring...\n",
            "\n",
            "Company:  ALGT\n"
          ],
          "name": "stdout"
        },
        {
          "output_type": "stream",
          "text": [
            "/usr/local/lib/python3.6/dist-packages/urllib3/connectionpool.py:847: InsecureRequestWarning: Unverified HTTPS request is being made. Adding certificate verification is strongly advised. See: https://urllib3.readthedocs.io/en/latest/advanced-usage.html#ssl-warnings\n",
            "  InsecureRequestWarning)\n"
          ],
          "name": "stderr"
        },
        {
          "output_type": "stream",
          "text": [
            "Parsing https://finance.yahoo.com/quote/ALGT/profile?p=ALGT\n",
            "\n",
            "Company:  ALJJ\n"
          ],
          "name": "stdout"
        },
        {
          "output_type": "stream",
          "text": [
            "/usr/local/lib/python3.6/dist-packages/urllib3/connectionpool.py:847: InsecureRequestWarning: Unverified HTTPS request is being made. Adding certificate verification is strongly advised. See: https://urllib3.readthedocs.io/en/latest/advanced-usage.html#ssl-warnings\n",
            "  InsecureRequestWarning)\n"
          ],
          "name": "stderr"
        },
        {
          "output_type": "stream",
          "text": [
            "Parsing https://finance.yahoo.com/quote/ALJJ/profile?p=ALJJ\n",
            "\n",
            "Company:  ALK\n"
          ],
          "name": "stdout"
        },
        {
          "output_type": "stream",
          "text": [
            "/usr/local/lib/python3.6/dist-packages/urllib3/connectionpool.py:847: InsecureRequestWarning: Unverified HTTPS request is being made. Adding certificate verification is strongly advised. See: https://urllib3.readthedocs.io/en/latest/advanced-usage.html#ssl-warnings\n",
            "  InsecureRequestWarning)\n"
          ],
          "name": "stderr"
        },
        {
          "output_type": "stream",
          "text": [
            "Parsing https://finance.yahoo.com/quote/ALK/profile?p=ALK\n",
            "\n",
            "Company:  ALLO\n"
          ],
          "name": "stdout"
        },
        {
          "output_type": "stream",
          "text": [
            "/usr/local/lib/python3.6/dist-packages/urllib3/connectionpool.py:847: InsecureRequestWarning: Unverified HTTPS request is being made. Adding certificate verification is strongly advised. See: https://urllib3.readthedocs.io/en/latest/advanced-usage.html#ssl-warnings\n",
            "  InsecureRequestWarning)\n"
          ],
          "name": "stderr"
        },
        {
          "output_type": "stream",
          "text": [
            "Parsing https://finance.yahoo.com/quote/ALLO/profile?p=ALLO\n",
            "\n",
            "Company:  ALLT\n"
          ],
          "name": "stdout"
        },
        {
          "output_type": "stream",
          "text": [
            "/usr/local/lib/python3.6/dist-packages/urllib3/connectionpool.py:847: InsecureRequestWarning: Unverified HTTPS request is being made. Adding certificate verification is strongly advised. See: https://urllib3.readthedocs.io/en/latest/advanced-usage.html#ssl-warnings\n",
            "  InsecureRequestWarning)\n"
          ],
          "name": "stderr"
        },
        {
          "output_type": "stream",
          "text": [
            "Parsing https://finance.yahoo.com/quote/ALLT/profile?p=ALLT\n",
            "\n",
            "Company:  ALNA\n"
          ],
          "name": "stdout"
        },
        {
          "output_type": "stream",
          "text": [
            "/usr/local/lib/python3.6/dist-packages/urllib3/connectionpool.py:847: InsecureRequestWarning: Unverified HTTPS request is being made. Adding certificate verification is strongly advised. See: https://urllib3.readthedocs.io/en/latest/advanced-usage.html#ssl-warnings\n",
            "  InsecureRequestWarning)\n"
          ],
          "name": "stderr"
        },
        {
          "output_type": "stream",
          "text": [
            "Parsing https://finance.yahoo.com/quote/ALNA/profile?p=ALNA\n",
            "\n",
            "Company:  ALOT\n"
          ],
          "name": "stdout"
        },
        {
          "output_type": "stream",
          "text": [
            "/usr/local/lib/python3.6/dist-packages/urllib3/connectionpool.py:847: InsecureRequestWarning: Unverified HTTPS request is being made. Adding certificate verification is strongly advised. See: https://urllib3.readthedocs.io/en/latest/advanced-usage.html#ssl-warnings\n",
            "  InsecureRequestWarning)\n"
          ],
          "name": "stderr"
        },
        {
          "output_type": "stream",
          "text": [
            "Parsing https://finance.yahoo.com/quote/ALOT/profile?p=ALOT\n",
            "\n",
            "Company:  ALRM\n"
          ],
          "name": "stdout"
        },
        {
          "output_type": "stream",
          "text": [
            "/usr/local/lib/python3.6/dist-packages/urllib3/connectionpool.py:847: InsecureRequestWarning: Unverified HTTPS request is being made. Adding certificate verification is strongly advised. See: https://urllib3.readthedocs.io/en/latest/advanced-usage.html#ssl-warnings\n",
            "  InsecureRequestWarning)\n"
          ],
          "name": "stderr"
        },
        {
          "output_type": "stream",
          "text": [
            "Parsing https://finance.yahoo.com/quote/ALRM/profile?p=ALRM\n",
            "\n",
            "Company:  ALSN\n"
          ],
          "name": "stdout"
        },
        {
          "output_type": "stream",
          "text": [
            "/usr/local/lib/python3.6/dist-packages/urllib3/connectionpool.py:847: InsecureRequestWarning: Unverified HTTPS request is being made. Adding certificate verification is strongly advised. See: https://urllib3.readthedocs.io/en/latest/advanced-usage.html#ssl-warnings\n",
            "  InsecureRequestWarning)\n"
          ],
          "name": "stderr"
        },
        {
          "output_type": "stream",
          "text": [
            "Parsing https://finance.yahoo.com/quote/ALSN/profile?p=ALSN\n",
            "\n",
            "Company:  ALTR\n"
          ],
          "name": "stdout"
        },
        {
          "output_type": "stream",
          "text": [
            "/usr/local/lib/python3.6/dist-packages/urllib3/connectionpool.py:847: InsecureRequestWarning: Unverified HTTPS request is being made. Adding certificate verification is strongly advised. See: https://urllib3.readthedocs.io/en/latest/advanced-usage.html#ssl-warnings\n",
            "  InsecureRequestWarning)\n"
          ],
          "name": "stderr"
        },
        {
          "output_type": "stream",
          "text": [
            "Parsing https://finance.yahoo.com/quote/ALTR/profile?p=ALTR\n",
            "\n",
            "Company:  ALV\n"
          ],
          "name": "stdout"
        },
        {
          "output_type": "stream",
          "text": [
            "/usr/local/lib/python3.6/dist-packages/urllib3/connectionpool.py:847: InsecureRequestWarning: Unverified HTTPS request is being made. Adding certificate verification is strongly advised. See: https://urllib3.readthedocs.io/en/latest/advanced-usage.html#ssl-warnings\n",
            "  InsecureRequestWarning)\n"
          ],
          "name": "stderr"
        },
        {
          "output_type": "stream",
          "text": [
            "Parsing https://finance.yahoo.com/quote/ALV/profile?p=ALV\n",
            "\n",
            "Company:  AMGN\n"
          ],
          "name": "stdout"
        },
        {
          "output_type": "stream",
          "text": [
            "/usr/local/lib/python3.6/dist-packages/urllib3/connectionpool.py:847: InsecureRequestWarning: Unverified HTTPS request is being made. Adding certificate verification is strongly advised. See: https://urllib3.readthedocs.io/en/latest/advanced-usage.html#ssl-warnings\n",
            "  InsecureRequestWarning)\n"
          ],
          "name": "stderr"
        },
        {
          "output_type": "stream",
          "text": [
            "Parsing https://finance.yahoo.com/quote/AMGN/profile?p=AMGN\n",
            "\n",
            "Company:  AMSWA\n"
          ],
          "name": "stdout"
        },
        {
          "output_type": "stream",
          "text": [
            "/usr/local/lib/python3.6/dist-packages/urllib3/connectionpool.py:847: InsecureRequestWarning: Unverified HTTPS request is being made. Adding certificate verification is strongly advised. See: https://urllib3.readthedocs.io/en/latest/advanced-usage.html#ssl-warnings\n",
            "  InsecureRequestWarning)\n"
          ],
          "name": "stderr"
        },
        {
          "output_type": "stream",
          "text": [
            "Parsing https://finance.yahoo.com/quote/AMSWA/profile?p=AMSWA\n",
            "\n",
            "Company:  AMZN\n"
          ],
          "name": "stdout"
        },
        {
          "output_type": "stream",
          "text": [
            "/usr/local/lib/python3.6/dist-packages/urllib3/connectionpool.py:847: InsecureRequestWarning: Unverified HTTPS request is being made. Adding certificate verification is strongly advised. See: https://urllib3.readthedocs.io/en/latest/advanced-usage.html#ssl-warnings\n",
            "  InsecureRequestWarning)\n"
          ],
          "name": "stderr"
        },
        {
          "output_type": "stream",
          "text": [
            "Parsing https://finance.yahoo.com/quote/AMZN/profile?p=AMZN\n",
            "\n",
            "Company:  AN\n"
          ],
          "name": "stdout"
        },
        {
          "output_type": "stream",
          "text": [
            "/usr/local/lib/python3.6/dist-packages/urllib3/connectionpool.py:847: InsecureRequestWarning: Unverified HTTPS request is being made. Adding certificate verification is strongly advised. See: https://urllib3.readthedocs.io/en/latest/advanced-usage.html#ssl-warnings\n",
            "  InsecureRequestWarning)\n"
          ],
          "name": "stderr"
        },
        {
          "output_type": "stream",
          "text": [
            "Parsing https://finance.yahoo.com/quote/AN/profile?p=AN\n",
            "\n",
            "Company:  ANET\n"
          ],
          "name": "stdout"
        },
        {
          "output_type": "stream",
          "text": [
            "/usr/local/lib/python3.6/dist-packages/urllib3/connectionpool.py:847: InsecureRequestWarning: Unverified HTTPS request is being made. Adding certificate verification is strongly advised. See: https://urllib3.readthedocs.io/en/latest/advanced-usage.html#ssl-warnings\n",
            "  InsecureRequestWarning)\n"
          ],
          "name": "stderr"
        },
        {
          "output_type": "stream",
          "text": [
            "Parsing https://finance.yahoo.com/quote/ANET/profile?p=ANET\n",
            "\n",
            "Company:  ANF\n"
          ],
          "name": "stdout"
        },
        {
          "output_type": "stream",
          "text": [
            "/usr/local/lib/python3.6/dist-packages/urllib3/connectionpool.py:847: InsecureRequestWarning: Unverified HTTPS request is being made. Adding certificate verification is strongly advised. See: https://urllib3.readthedocs.io/en/latest/advanced-usage.html#ssl-warnings\n",
            "  InsecureRequestWarning)\n"
          ],
          "name": "stderr"
        },
        {
          "output_type": "stream",
          "text": [
            "Parsing https://finance.yahoo.com/quote/ANF/profile?p=ANF\n",
            "\n",
            "Company:  ANGI\n"
          ],
          "name": "stdout"
        },
        {
          "output_type": "stream",
          "text": [
            "/usr/local/lib/python3.6/dist-packages/urllib3/connectionpool.py:847: InsecureRequestWarning: Unverified HTTPS request is being made. Adding certificate verification is strongly advised. See: https://urllib3.readthedocs.io/en/latest/advanced-usage.html#ssl-warnings\n",
            "  InsecureRequestWarning)\n"
          ],
          "name": "stderr"
        },
        {
          "output_type": "stream",
          "text": [
            "Parsing https://finance.yahoo.com/quote/ANGI/profile?p=ANGI\n",
            "\n",
            "Company:  ANSS\n"
          ],
          "name": "stdout"
        },
        {
          "output_type": "stream",
          "text": [
            "/usr/local/lib/python3.6/dist-packages/urllib3/connectionpool.py:847: InsecureRequestWarning: Unverified HTTPS request is being made. Adding certificate verification is strongly advised. See: https://urllib3.readthedocs.io/en/latest/advanced-usage.html#ssl-warnings\n",
            "  InsecureRequestWarning)\n"
          ],
          "name": "stderr"
        },
        {
          "output_type": "stream",
          "text": [
            "Parsing https://finance.yahoo.com/quote/ANSS/profile?p=ANSS\n",
            "\n",
            "Company:  AOS\n"
          ],
          "name": "stdout"
        },
        {
          "output_type": "stream",
          "text": [
            "/usr/local/lib/python3.6/dist-packages/urllib3/connectionpool.py:847: InsecureRequestWarning: Unverified HTTPS request is being made. Adding certificate verification is strongly advised. See: https://urllib3.readthedocs.io/en/latest/advanced-usage.html#ssl-warnings\n",
            "  InsecureRequestWarning)\n"
          ],
          "name": "stderr"
        },
        {
          "output_type": "stream",
          "text": [
            "Parsing https://finance.yahoo.com/quote/AOS/profile?p=AOS\n",
            "\n",
            "Company:  APOG\n"
          ],
          "name": "stdout"
        },
        {
          "output_type": "stream",
          "text": [
            "/usr/local/lib/python3.6/dist-packages/urllib3/connectionpool.py:847: InsecureRequestWarning: Unverified HTTPS request is being made. Adding certificate verification is strongly advised. See: https://urllib3.readthedocs.io/en/latest/advanced-usage.html#ssl-warnings\n",
            "  InsecureRequestWarning)\n"
          ],
          "name": "stderr"
        },
        {
          "output_type": "stream",
          "text": [
            "Parsing https://finance.yahoo.com/quote/APOG/profile?p=APOG\n",
            "\n",
            "Company:  APPF\n"
          ],
          "name": "stdout"
        },
        {
          "output_type": "stream",
          "text": [
            "/usr/local/lib/python3.6/dist-packages/urllib3/connectionpool.py:847: InsecureRequestWarning: Unverified HTTPS request is being made. Adding certificate verification is strongly advised. See: https://urllib3.readthedocs.io/en/latest/advanced-usage.html#ssl-warnings\n",
            "  InsecureRequestWarning)\n"
          ],
          "name": "stderr"
        },
        {
          "output_type": "stream",
          "text": [
            "Parsing https://finance.yahoo.com/quote/APPF/profile?p=APPF\n",
            "\n",
            "Company:  APPN\n"
          ],
          "name": "stdout"
        },
        {
          "output_type": "stream",
          "text": [
            "/usr/local/lib/python3.6/dist-packages/urllib3/connectionpool.py:847: InsecureRequestWarning: Unverified HTTPS request is being made. Adding certificate verification is strongly advised. See: https://urllib3.readthedocs.io/en/latest/advanced-usage.html#ssl-warnings\n",
            "  InsecureRequestWarning)\n"
          ],
          "name": "stderr"
        },
        {
          "output_type": "stream",
          "text": [
            "Parsing https://finance.yahoo.com/quote/APPN/profile?p=APPN\n",
            "\n",
            "Company:  APRN\n"
          ],
          "name": "stdout"
        },
        {
          "output_type": "stream",
          "text": [
            "/usr/local/lib/python3.6/dist-packages/urllib3/connectionpool.py:847: InsecureRequestWarning: Unverified HTTPS request is being made. Adding certificate verification is strongly advised. See: https://urllib3.readthedocs.io/en/latest/advanced-usage.html#ssl-warnings\n",
            "  InsecureRequestWarning)\n"
          ],
          "name": "stderr"
        },
        {
          "output_type": "stream",
          "text": [
            "Parsing https://finance.yahoo.com/quote/APRN/profile?p=APRN\n",
            "\n",
            "Company:  APTO\n"
          ],
          "name": "stdout"
        },
        {
          "output_type": "stream",
          "text": [
            "/usr/local/lib/python3.6/dist-packages/urllib3/connectionpool.py:847: InsecureRequestWarning: Unverified HTTPS request is being made. Adding certificate verification is strongly advised. See: https://urllib3.readthedocs.io/en/latest/advanced-usage.html#ssl-warnings\n",
            "  InsecureRequestWarning)\n"
          ],
          "name": "stderr"
        },
        {
          "output_type": "stream",
          "text": [
            "Parsing https://finance.yahoo.com/quote/APTO/profile?p=APTO\n",
            "\n",
            "Company:  APTV\n"
          ],
          "name": "stdout"
        },
        {
          "output_type": "stream",
          "text": [
            "/usr/local/lib/python3.6/dist-packages/urllib3/connectionpool.py:847: InsecureRequestWarning: Unverified HTTPS request is being made. Adding certificate verification is strongly advised. See: https://urllib3.readthedocs.io/en/latest/advanced-usage.html#ssl-warnings\n",
            "  InsecureRequestWarning)\n"
          ],
          "name": "stderr"
        },
        {
          "output_type": "stream",
          "text": [
            "Parsing https://finance.yahoo.com/quote/APTV/profile?p=APTV\n",
            "\n",
            "Company:  ARCH\n"
          ],
          "name": "stdout"
        },
        {
          "output_type": "stream",
          "text": [
            "/usr/local/lib/python3.6/dist-packages/urllib3/connectionpool.py:847: InsecureRequestWarning: Unverified HTTPS request is being made. Adding certificate verification is strongly advised. See: https://urllib3.readthedocs.io/en/latest/advanced-usage.html#ssl-warnings\n",
            "  InsecureRequestWarning)\n"
          ],
          "name": "stderr"
        },
        {
          "output_type": "stream",
          "text": [
            "Parsing https://finance.yahoo.com/quote/ARCH/profile?p=ARCH\n",
            "\n",
            "Company:  ARGX\n"
          ],
          "name": "stdout"
        },
        {
          "output_type": "stream",
          "text": [
            "/usr/local/lib/python3.6/dist-packages/urllib3/connectionpool.py:847: InsecureRequestWarning: Unverified HTTPS request is being made. Adding certificate verification is strongly advised. See: https://urllib3.readthedocs.io/en/latest/advanced-usage.html#ssl-warnings\n",
            "  InsecureRequestWarning)\n"
          ],
          "name": "stderr"
        },
        {
          "output_type": "stream",
          "text": [
            "Parsing https://finance.yahoo.com/quote/ARGX/profile?p=ARGX\n",
            "\n",
            "Company:  ARLO\n"
          ],
          "name": "stdout"
        },
        {
          "output_type": "stream",
          "text": [
            "/usr/local/lib/python3.6/dist-packages/urllib3/connectionpool.py:847: InsecureRequestWarning: Unverified HTTPS request is being made. Adding certificate verification is strongly advised. See: https://urllib3.readthedocs.io/en/latest/advanced-usage.html#ssl-warnings\n",
            "  InsecureRequestWarning)\n"
          ],
          "name": "stderr"
        },
        {
          "output_type": "stream",
          "text": [
            "Parsing https://finance.yahoo.com/quote/ARLO/profile?p=ARLO\n",
            "\n",
            "Company:  ARLP\n"
          ],
          "name": "stdout"
        },
        {
          "output_type": "stream",
          "text": [
            "/usr/local/lib/python3.6/dist-packages/urllib3/connectionpool.py:847: InsecureRequestWarning: Unverified HTTPS request is being made. Adding certificate verification is strongly advised. See: https://urllib3.readthedocs.io/en/latest/advanced-usage.html#ssl-warnings\n",
            "  InsecureRequestWarning)\n"
          ],
          "name": "stderr"
        },
        {
          "output_type": "stream",
          "text": [
            "Parsing https://finance.yahoo.com/quote/ARLP/profile?p=ARLP\n",
            "\n",
            "Company:  ASNA\n"
          ],
          "name": "stdout"
        },
        {
          "output_type": "stream",
          "text": [
            "/usr/local/lib/python3.6/dist-packages/urllib3/connectionpool.py:847: InsecureRequestWarning: Unverified HTTPS request is being made. Adding certificate verification is strongly advised. See: https://urllib3.readthedocs.io/en/latest/advanced-usage.html#ssl-warnings\n",
            "  InsecureRequestWarning)\n"
          ],
          "name": "stderr"
        },
        {
          "output_type": "stream",
          "text": [
            "Parsing https://finance.yahoo.com/quote/ASNA/profile?p=ASNA\n",
            "\n",
            "Company:  ASR\n"
          ],
          "name": "stdout"
        },
        {
          "output_type": "stream",
          "text": [
            "/usr/local/lib/python3.6/dist-packages/urllib3/connectionpool.py:847: InsecureRequestWarning: Unverified HTTPS request is being made. Adding certificate verification is strongly advised. See: https://urllib3.readthedocs.io/en/latest/advanced-usage.html#ssl-warnings\n",
            "  InsecureRequestWarning)\n"
          ],
          "name": "stderr"
        },
        {
          "output_type": "stream",
          "text": [
            "Parsing https://finance.yahoo.com/quote/ASR/profile?p=ASR\n",
            "\n",
            "Company:  AST\n"
          ],
          "name": "stdout"
        },
        {
          "output_type": "stream",
          "text": [
            "/usr/local/lib/python3.6/dist-packages/urllib3/connectionpool.py:847: InsecureRequestWarning: Unverified HTTPS request is being made. Adding certificate verification is strongly advised. See: https://urllib3.readthedocs.io/en/latest/advanced-usage.html#ssl-warnings\n",
            "  InsecureRequestWarning)\n",
            "/usr/local/lib/python3.6/dist-packages/urllib3/connectionpool.py:847: InsecureRequestWarning: Unverified HTTPS request is being made. Adding certificate verification is strongly advised. See: https://urllib3.readthedocs.io/en/latest/advanced-usage.html#ssl-warnings\n",
            "  InsecureRequestWarning)\n"
          ],
          "name": "stderr"
        },
        {
          "output_type": "stream",
          "text": [
            "Parsing https://finance.yahoo.com/quote/AST/profile?p=AST\n",
            "Column mismatch for company:  AST  Ignoring...\n",
            "\n",
            "Company:  ASTC\n"
          ],
          "name": "stdout"
        },
        {
          "output_type": "stream",
          "text": [
            "/usr/local/lib/python3.6/dist-packages/urllib3/connectionpool.py:847: InsecureRequestWarning: Unverified HTTPS request is being made. Adding certificate verification is strongly advised. See: https://urllib3.readthedocs.io/en/latest/advanced-usage.html#ssl-warnings\n",
            "  InsecureRequestWarning)\n"
          ],
          "name": "stderr"
        },
        {
          "output_type": "stream",
          "text": [
            "Parsing https://finance.yahoo.com/quote/ASTC/profile?p=ASTC\n",
            "\n",
            "Company:  ASTE\n"
          ],
          "name": "stdout"
        },
        {
          "output_type": "stream",
          "text": [
            "/usr/local/lib/python3.6/dist-packages/urllib3/connectionpool.py:847: InsecureRequestWarning: Unverified HTTPS request is being made. Adding certificate verification is strongly advised. See: https://urllib3.readthedocs.io/en/latest/advanced-usage.html#ssl-warnings\n",
            "  InsecureRequestWarning)\n"
          ],
          "name": "stderr"
        },
        {
          "output_type": "stream",
          "text": [
            "Parsing https://finance.yahoo.com/quote/ASTE/profile?p=ASTE\n",
            "\n",
            "Company:  ATEN\n"
          ],
          "name": "stdout"
        },
        {
          "output_type": "stream",
          "text": [
            "/usr/local/lib/python3.6/dist-packages/urllib3/connectionpool.py:847: InsecureRequestWarning: Unverified HTTPS request is being made. Adding certificate verification is strongly advised. See: https://urllib3.readthedocs.io/en/latest/advanced-usage.html#ssl-warnings\n",
            "  InsecureRequestWarning)\n"
          ],
          "name": "stderr"
        },
        {
          "output_type": "stream",
          "text": [
            "Parsing https://finance.yahoo.com/quote/ATEN/profile?p=ATEN\n",
            "\n",
            "Company:  ATRA\n"
          ],
          "name": "stdout"
        },
        {
          "output_type": "stream",
          "text": [
            "/usr/local/lib/python3.6/dist-packages/urllib3/connectionpool.py:847: InsecureRequestWarning: Unverified HTTPS request is being made. Adding certificate verification is strongly advised. See: https://urllib3.readthedocs.io/en/latest/advanced-usage.html#ssl-warnings\n",
            "  InsecureRequestWarning)\n"
          ],
          "name": "stderr"
        },
        {
          "output_type": "stream",
          "text": [
            "Parsing https://finance.yahoo.com/quote/ATRA/profile?p=ATRA\n",
            "\n",
            "Company:  ATSG\n"
          ],
          "name": "stdout"
        },
        {
          "output_type": "stream",
          "text": [
            "/usr/local/lib/python3.6/dist-packages/urllib3/connectionpool.py:847: InsecureRequestWarning: Unverified HTTPS request is being made. Adding certificate verification is strongly advised. See: https://urllib3.readthedocs.io/en/latest/advanced-usage.html#ssl-warnings\n",
            "  InsecureRequestWarning)\n"
          ],
          "name": "stderr"
        },
        {
          "output_type": "stream",
          "text": [
            "Parsing https://finance.yahoo.com/quote/ATSG/profile?p=ATSG\n",
            "\n",
            "Company:  ATVI\n"
          ],
          "name": "stdout"
        },
        {
          "output_type": "stream",
          "text": [
            "/usr/local/lib/python3.6/dist-packages/urllib3/connectionpool.py:847: InsecureRequestWarning: Unverified HTTPS request is being made. Adding certificate verification is strongly advised. See: https://urllib3.readthedocs.io/en/latest/advanced-usage.html#ssl-warnings\n",
            "  InsecureRequestWarning)\n"
          ],
          "name": "stderr"
        },
        {
          "output_type": "stream",
          "text": [
            "Parsing https://finance.yahoo.com/quote/ATVI/profile?p=ATVI\n",
            "\n",
            "Company:  AUTL\n"
          ],
          "name": "stdout"
        },
        {
          "output_type": "stream",
          "text": [
            "/usr/local/lib/python3.6/dist-packages/urllib3/connectionpool.py:847: InsecureRequestWarning: Unverified HTTPS request is being made. Adding certificate verification is strongly advised. See: https://urllib3.readthedocs.io/en/latest/advanced-usage.html#ssl-warnings\n",
            "  InsecureRequestWarning)\n"
          ],
          "name": "stderr"
        },
        {
          "output_type": "stream",
          "text": [
            "Parsing https://finance.yahoo.com/quote/AUTL/profile?p=AUTL\n",
            "Error in profile non tabular data\n",
            "Column mismatch for company:  AUTL  Ignoring...\n",
            "\n",
            "Company:  AUTO\n"
          ],
          "name": "stdout"
        },
        {
          "output_type": "stream",
          "text": [
            "/usr/local/lib/python3.6/dist-packages/urllib3/connectionpool.py:847: InsecureRequestWarning: Unverified HTTPS request is being made. Adding certificate verification is strongly advised. See: https://urllib3.readthedocs.io/en/latest/advanced-usage.html#ssl-warnings\n",
            "  InsecureRequestWarning)\n"
          ],
          "name": "stderr"
        },
        {
          "output_type": "stream",
          "text": [
            "Parsing https://finance.yahoo.com/quote/AUTO/profile?p=AUTO\n",
            "\n",
            "Company:  AVAL\n"
          ],
          "name": "stdout"
        },
        {
          "output_type": "stream",
          "text": [
            "/usr/local/lib/python3.6/dist-packages/urllib3/connectionpool.py:847: InsecureRequestWarning: Unverified HTTPS request is being made. Adding certificate verification is strongly advised. See: https://urllib3.readthedocs.io/en/latest/advanced-usage.html#ssl-warnings\n",
            "  InsecureRequestWarning)\n"
          ],
          "name": "stderr"
        },
        {
          "output_type": "stream",
          "text": [
            "Parsing https://finance.yahoo.com/quote/AVAL/profile?p=AVAL\n",
            "Error in profile non tabular data\n",
            "Column mismatch for company:  AVAL  Ignoring...\n",
            "\n",
            "Company:  AVAV\n"
          ],
          "name": "stdout"
        },
        {
          "output_type": "stream",
          "text": [
            "/usr/local/lib/python3.6/dist-packages/urllib3/connectionpool.py:847: InsecureRequestWarning: Unverified HTTPS request is being made. Adding certificate verification is strongly advised. See: https://urllib3.readthedocs.io/en/latest/advanced-usage.html#ssl-warnings\n",
            "  InsecureRequestWarning)\n"
          ],
          "name": "stderr"
        },
        {
          "output_type": "stream",
          "text": [
            "Parsing https://finance.yahoo.com/quote/AVAV/profile?p=AVAV\n",
            "\n",
            "Company:  AVD\n"
          ],
          "name": "stdout"
        },
        {
          "output_type": "stream",
          "text": [
            "/usr/local/lib/python3.6/dist-packages/urllib3/connectionpool.py:847: InsecureRequestWarning: Unverified HTTPS request is being made. Adding certificate verification is strongly advised. See: https://urllib3.readthedocs.io/en/latest/advanced-usage.html#ssl-warnings\n",
            "  InsecureRequestWarning)\n"
          ],
          "name": "stderr"
        },
        {
          "output_type": "stream",
          "text": [
            "Parsing https://finance.yahoo.com/quote/AVD/profile?p=AVD\n",
            "\n",
            "Company:  AVH\n"
          ],
          "name": "stdout"
        },
        {
          "output_type": "stream",
          "text": [
            "/usr/local/lib/python3.6/dist-packages/urllib3/connectionpool.py:847: InsecureRequestWarning: Unverified HTTPS request is being made. Adding certificate verification is strongly advised. See: https://urllib3.readthedocs.io/en/latest/advanced-usage.html#ssl-warnings\n",
            "  InsecureRequestWarning)\n"
          ],
          "name": "stderr"
        },
        {
          "output_type": "stream",
          "text": [
            "Parsing https://finance.yahoo.com/quote/AVH/profile?p=AVH\n",
            "\n",
            "Company:  AVID\n"
          ],
          "name": "stdout"
        },
        {
          "output_type": "stream",
          "text": [
            "/usr/local/lib/python3.6/dist-packages/urllib3/connectionpool.py:847: InsecureRequestWarning: Unverified HTTPS request is being made. Adding certificate verification is strongly advised. See: https://urllib3.readthedocs.io/en/latest/advanced-usage.html#ssl-warnings\n",
            "  InsecureRequestWarning)\n"
          ],
          "name": "stderr"
        },
        {
          "output_type": "stream",
          "text": [
            "Parsing https://finance.yahoo.com/quote/AVID/profile?p=AVID\n",
            "\n",
            "Company:  AVLR\n"
          ],
          "name": "stdout"
        },
        {
          "output_type": "stream",
          "text": [
            "/usr/local/lib/python3.6/dist-packages/urllib3/connectionpool.py:847: InsecureRequestWarning: Unverified HTTPS request is being made. Adding certificate verification is strongly advised. See: https://urllib3.readthedocs.io/en/latest/advanced-usage.html#ssl-warnings\n",
            "  InsecureRequestWarning)\n"
          ],
          "name": "stderr"
        },
        {
          "output_type": "stream",
          "text": [
            "Parsing https://finance.yahoo.com/quote/AVLR/profile?p=AVLR\n",
            "\n",
            "Company:  AVRO\n"
          ],
          "name": "stdout"
        },
        {
          "output_type": "stream",
          "text": [
            "/usr/local/lib/python3.6/dist-packages/urllib3/connectionpool.py:847: InsecureRequestWarning: Unverified HTTPS request is being made. Adding certificate verification is strongly advised. See: https://urllib3.readthedocs.io/en/latest/advanced-usage.html#ssl-warnings\n",
            "  InsecureRequestWarning)\n"
          ],
          "name": "stderr"
        },
        {
          "output_type": "stream",
          "text": [
            "Parsing https://finance.yahoo.com/quote/AVRO/profile?p=AVRO\n",
            "\n",
            "Company:  AVXL\n"
          ],
          "name": "stdout"
        },
        {
          "output_type": "stream",
          "text": [
            "/usr/local/lib/python3.6/dist-packages/urllib3/connectionpool.py:847: InsecureRequestWarning: Unverified HTTPS request is being made. Adding certificate verification is strongly advised. See: https://urllib3.readthedocs.io/en/latest/advanced-usage.html#ssl-warnings\n",
            "  InsecureRequestWarning)\n"
          ],
          "name": "stderr"
        },
        {
          "output_type": "stream",
          "text": [
            "Parsing https://finance.yahoo.com/quote/AVXL/profile?p=AVXL\n",
            "\n",
            "Company:  AWRE\n"
          ],
          "name": "stdout"
        },
        {
          "output_type": "stream",
          "text": [
            "/usr/local/lib/python3.6/dist-packages/urllib3/connectionpool.py:847: InsecureRequestWarning: Unverified HTTPS request is being made. Adding certificate verification is strongly advised. See: https://urllib3.readthedocs.io/en/latest/advanced-usage.html#ssl-warnings\n",
            "  InsecureRequestWarning)\n"
          ],
          "name": "stderr"
        },
        {
          "output_type": "stream",
          "text": [
            "Parsing https://finance.yahoo.com/quote/AWRE/profile?p=AWRE\n",
            "\n",
            "Company:  AXDX\n"
          ],
          "name": "stdout"
        },
        {
          "output_type": "stream",
          "text": [
            "/usr/local/lib/python3.6/dist-packages/urllib3/connectionpool.py:847: InsecureRequestWarning: Unverified HTTPS request is being made. Adding certificate verification is strongly advised. See: https://urllib3.readthedocs.io/en/latest/advanced-usage.html#ssl-warnings\n",
            "  InsecureRequestWarning)\n"
          ],
          "name": "stderr"
        },
        {
          "output_type": "stream",
          "text": [
            "Parsing https://finance.yahoo.com/quote/AXDX/profile?p=AXDX\n",
            "\n",
            "Company:  AXGN\n"
          ],
          "name": "stdout"
        },
        {
          "output_type": "stream",
          "text": [
            "/usr/local/lib/python3.6/dist-packages/urllib3/connectionpool.py:847: InsecureRequestWarning: Unverified HTTPS request is being made. Adding certificate verification is strongly advised. See: https://urllib3.readthedocs.io/en/latest/advanced-usage.html#ssl-warnings\n",
            "  InsecureRequestWarning)\n"
          ],
          "name": "stderr"
        },
        {
          "output_type": "stream",
          "text": [
            "Parsing https://finance.yahoo.com/quote/AXGN/profile?p=AXGN\n",
            "\n",
            "Company:  AXL\n"
          ],
          "name": "stdout"
        },
        {
          "output_type": "stream",
          "text": [
            "/usr/local/lib/python3.6/dist-packages/urllib3/connectionpool.py:847: InsecureRequestWarning: Unverified HTTPS request is being made. Adding certificate verification is strongly advised. See: https://urllib3.readthedocs.io/en/latest/advanced-usage.html#ssl-warnings\n",
            "  InsecureRequestWarning)\n"
          ],
          "name": "stderr"
        },
        {
          "output_type": "stream",
          "text": [
            "Parsing https://finance.yahoo.com/quote/AXL/profile?p=AXL\n",
            "\n",
            "Company:  AYI\n"
          ],
          "name": "stdout"
        },
        {
          "output_type": "stream",
          "text": [
            "/usr/local/lib/python3.6/dist-packages/urllib3/connectionpool.py:847: InsecureRequestWarning: Unverified HTTPS request is being made. Adding certificate verification is strongly advised. See: https://urllib3.readthedocs.io/en/latest/advanced-usage.html#ssl-warnings\n",
            "  InsecureRequestWarning)\n"
          ],
          "name": "stderr"
        },
        {
          "output_type": "stream",
          "text": [
            "Parsing https://finance.yahoo.com/quote/AYI/profile?p=AYI\n",
            "\n",
            "Company:  AYX\n"
          ],
          "name": "stdout"
        },
        {
          "output_type": "stream",
          "text": [
            "/usr/local/lib/python3.6/dist-packages/urllib3/connectionpool.py:847: InsecureRequestWarning: Unverified HTTPS request is being made. Adding certificate verification is strongly advised. See: https://urllib3.readthedocs.io/en/latest/advanced-usage.html#ssl-warnings\n",
            "  InsecureRequestWarning)\n"
          ],
          "name": "stderr"
        },
        {
          "output_type": "stream",
          "text": [
            "Parsing https://finance.yahoo.com/quote/AYX/profile?p=AYX\n",
            "\n",
            "Company:  AZUL\n"
          ],
          "name": "stdout"
        },
        {
          "output_type": "stream",
          "text": [
            "/usr/local/lib/python3.6/dist-packages/urllib3/connectionpool.py:847: InsecureRequestWarning: Unverified HTTPS request is being made. Adding certificate verification is strongly advised. See: https://urllib3.readthedocs.io/en/latest/advanced-usage.html#ssl-warnings\n",
            "  InsecureRequestWarning)\n"
          ],
          "name": "stderr"
        },
        {
          "output_type": "stream",
          "text": [
            "Parsing https://finance.yahoo.com/quote/AZUL/profile?p=AZUL\n",
            "\n",
            "Company:  AZZ\n"
          ],
          "name": "stdout"
        },
        {
          "output_type": "stream",
          "text": [
            "/usr/local/lib/python3.6/dist-packages/urllib3/connectionpool.py:847: InsecureRequestWarning: Unverified HTTPS request is being made. Adding certificate verification is strongly advised. See: https://urllib3.readthedocs.io/en/latest/advanced-usage.html#ssl-warnings\n",
            "  InsecureRequestWarning)\n"
          ],
          "name": "stderr"
        },
        {
          "output_type": "stream",
          "text": [
            "Parsing https://finance.yahoo.com/quote/AZZ/profile?p=AZZ\n",
            "\n",
            "Company:  BA\n"
          ],
          "name": "stdout"
        },
        {
          "output_type": "stream",
          "text": [
            "/usr/local/lib/python3.6/dist-packages/urllib3/connectionpool.py:847: InsecureRequestWarning: Unverified HTTPS request is being made. Adding certificate verification is strongly advised. See: https://urllib3.readthedocs.io/en/latest/advanced-usage.html#ssl-warnings\n",
            "  InsecureRequestWarning)\n"
          ],
          "name": "stderr"
        },
        {
          "output_type": "stream",
          "text": [
            "Parsing https://finance.yahoo.com/quote/BA/profile?p=BA\n",
            "\n",
            "Company:  BABA\n"
          ],
          "name": "stdout"
        },
        {
          "output_type": "stream",
          "text": [
            "/usr/local/lib/python3.6/dist-packages/urllib3/connectionpool.py:847: InsecureRequestWarning: Unverified HTTPS request is being made. Adding certificate verification is strongly advised. See: https://urllib3.readthedocs.io/en/latest/advanced-usage.html#ssl-warnings\n",
            "  InsecureRequestWarning)\n"
          ],
          "name": "stderr"
        },
        {
          "output_type": "stream",
          "text": [
            "Parsing https://finance.yahoo.com/quote/BABA/profile?p=BABA\n",
            "\n",
            "Company:  BABY\n"
          ],
          "name": "stdout"
        },
        {
          "output_type": "stream",
          "text": [
            "/usr/local/lib/python3.6/dist-packages/urllib3/connectionpool.py:847: InsecureRequestWarning: Unverified HTTPS request is being made. Adding certificate verification is strongly advised. See: https://urllib3.readthedocs.io/en/latest/advanced-usage.html#ssl-warnings\n",
            "  InsecureRequestWarning)\n",
            "/usr/local/lib/python3.6/dist-packages/urllib3/connectionpool.py:847: InsecureRequestWarning: Unverified HTTPS request is being made. Adding certificate verification is strongly advised. See: https://urllib3.readthedocs.io/en/latest/advanced-usage.html#ssl-warnings\n",
            "  InsecureRequestWarning)\n"
          ],
          "name": "stderr"
        },
        {
          "output_type": "stream",
          "text": [
            "Parsing https://finance.yahoo.com/quote/BABY/profile?p=BABY\n",
            "Column mismatch for company:  BABY  Ignoring...\n",
            "\n",
            "Company:  BAM\n"
          ],
          "name": "stdout"
        },
        {
          "output_type": "stream",
          "text": [
            "/usr/local/lib/python3.6/dist-packages/urllib3/connectionpool.py:847: InsecureRequestWarning: Unverified HTTPS request is being made. Adding certificate verification is strongly advised. See: https://urllib3.readthedocs.io/en/latest/advanced-usage.html#ssl-warnings\n",
            "  InsecureRequestWarning)\n"
          ],
          "name": "stderr"
        },
        {
          "output_type": "stream",
          "text": [
            "Parsing https://finance.yahoo.com/quote/BAM/profile?p=BAM\n",
            "\n",
            "Company:  BAND\n"
          ],
          "name": "stdout"
        },
        {
          "output_type": "stream",
          "text": [
            "/usr/local/lib/python3.6/dist-packages/urllib3/connectionpool.py:847: InsecureRequestWarning: Unverified HTTPS request is being made. Adding certificate verification is strongly advised. See: https://urllib3.readthedocs.io/en/latest/advanced-usage.html#ssl-warnings\n",
            "  InsecureRequestWarning)\n"
          ],
          "name": "stderr"
        },
        {
          "output_type": "stream",
          "text": [
            "Parsing https://finance.yahoo.com/quote/BAND/profile?p=BAND\n",
            "\n",
            "Company:  BAP\n"
          ],
          "name": "stdout"
        },
        {
          "output_type": "stream",
          "text": [
            "/usr/local/lib/python3.6/dist-packages/urllib3/connectionpool.py:847: InsecureRequestWarning: Unverified HTTPS request is being made. Adding certificate verification is strongly advised. See: https://urllib3.readthedocs.io/en/latest/advanced-usage.html#ssl-warnings\n",
            "  InsecureRequestWarning)\n"
          ],
          "name": "stderr"
        },
        {
          "output_type": "stream",
          "text": [
            "Parsing https://finance.yahoo.com/quote/BAP/profile?p=BAP\n",
            "\n",
            "Company:  BASI\n"
          ],
          "name": "stdout"
        },
        {
          "output_type": "stream",
          "text": [
            "/usr/local/lib/python3.6/dist-packages/urllib3/connectionpool.py:847: InsecureRequestWarning: Unverified HTTPS request is being made. Adding certificate verification is strongly advised. See: https://urllib3.readthedocs.io/en/latest/advanced-usage.html#ssl-warnings\n",
            "  InsecureRequestWarning)\n"
          ],
          "name": "stderr"
        },
        {
          "output_type": "stream",
          "text": [
            "Parsing https://finance.yahoo.com/quote/BASI/profile?p=BASI\n",
            "\n",
            "Company:  BATRA\n"
          ],
          "name": "stdout"
        },
        {
          "output_type": "stream",
          "text": [
            "/usr/local/lib/python3.6/dist-packages/urllib3/connectionpool.py:847: InsecureRequestWarning: Unverified HTTPS request is being made. Adding certificate verification is strongly advised. See: https://urllib3.readthedocs.io/en/latest/advanced-usage.html#ssl-warnings\n",
            "  InsecureRequestWarning)\n"
          ],
          "name": "stderr"
        },
        {
          "output_type": "stream",
          "text": [
            "Parsing https://finance.yahoo.com/quote/BATRA/profile?p=BATRA\n",
            "Error in profile non tabular data\n",
            "Column mismatch for company:  BATRA  Ignoring...\n",
            "Final Data:  (94, 22)\n",
            "\n",
            "Writing Yahoo Profile\n",
            "\n",
            "Company:  A\n"
          ],
          "name": "stdout"
        },
        {
          "output_type": "stream",
          "text": [
            "/usr/local/lib/python3.6/dist-packages/urllib3/connectionpool.py:847: InsecureRequestWarning: Unverified HTTPS request is being made. Adding certificate verification is strongly advised. See: https://urllib3.readthedocs.io/en/latest/advanced-usage.html#ssl-warnings\n",
            "  InsecureRequestWarning)\n"
          ],
          "name": "stderr"
        },
        {
          "output_type": "stream",
          "text": [
            "Parsing https://finance.yahoo.com/quote/A/profile?p=A\n",
            "\n",
            "Company:  AA\n"
          ],
          "name": "stdout"
        },
        {
          "output_type": "stream",
          "text": [
            "/usr/local/lib/python3.6/dist-packages/urllib3/connectionpool.py:847: InsecureRequestWarning: Unverified HTTPS request is being made. Adding certificate verification is strongly advised. See: https://urllib3.readthedocs.io/en/latest/advanced-usage.html#ssl-warnings\n",
            "  InsecureRequestWarning)\n"
          ],
          "name": "stderr"
        },
        {
          "output_type": "stream",
          "text": [
            "Parsing https://finance.yahoo.com/quote/AA/profile?p=AA\n",
            "\n",
            "Company:  AAL\n"
          ],
          "name": "stdout"
        },
        {
          "output_type": "stream",
          "text": [
            "/usr/local/lib/python3.6/dist-packages/urllib3/connectionpool.py:847: InsecureRequestWarning: Unverified HTTPS request is being made. Adding certificate verification is strongly advised. See: https://urllib3.readthedocs.io/en/latest/advanced-usage.html#ssl-warnings\n",
            "  InsecureRequestWarning)\n"
          ],
          "name": "stderr"
        },
        {
          "output_type": "stream",
          "text": [
            "Parsing https://finance.yahoo.com/quote/AAL/profile?p=AAL\n",
            "\n",
            "Company:  AAPL\n"
          ],
          "name": "stdout"
        },
        {
          "output_type": "stream",
          "text": [
            "/usr/local/lib/python3.6/dist-packages/urllib3/connectionpool.py:847: InsecureRequestWarning: Unverified HTTPS request is being made. Adding certificate verification is strongly advised. See: https://urllib3.readthedocs.io/en/latest/advanced-usage.html#ssl-warnings\n",
            "  InsecureRequestWarning)\n"
          ],
          "name": "stderr"
        },
        {
          "output_type": "stream",
          "text": [
            "Parsing https://finance.yahoo.com/quote/AAPL/profile?p=AAPL\n",
            "\n",
            "Company:  ABEV\n"
          ],
          "name": "stdout"
        },
        {
          "output_type": "stream",
          "text": [
            "/usr/local/lib/python3.6/dist-packages/urllib3/connectionpool.py:847: InsecureRequestWarning: Unverified HTTPS request is being made. Adding certificate verification is strongly advised. See: https://urllib3.readthedocs.io/en/latest/advanced-usage.html#ssl-warnings\n",
            "  InsecureRequestWarning)\n"
          ],
          "name": "stderr"
        },
        {
          "output_type": "stream",
          "text": [
            "Parsing https://finance.yahoo.com/quote/ABEV/profile?p=ABEV\n",
            "\n",
            "Company:  ABG\n"
          ],
          "name": "stdout"
        },
        {
          "output_type": "stream",
          "text": [
            "/usr/local/lib/python3.6/dist-packages/urllib3/connectionpool.py:847: InsecureRequestWarning: Unverified HTTPS request is being made. Adding certificate verification is strongly advised. See: https://urllib3.readthedocs.io/en/latest/advanced-usage.html#ssl-warnings\n",
            "  InsecureRequestWarning)\n"
          ],
          "name": "stderr"
        },
        {
          "output_type": "stream",
          "text": [
            "Parsing https://finance.yahoo.com/quote/ABG/profile?p=ABG\n",
            "\n",
            "Company:  ABIO\n"
          ],
          "name": "stdout"
        },
        {
          "output_type": "stream",
          "text": [
            "/usr/local/lib/python3.6/dist-packages/urllib3/connectionpool.py:847: InsecureRequestWarning: Unverified HTTPS request is being made. Adding certificate verification is strongly advised. See: https://urllib3.readthedocs.io/en/latest/advanced-usage.html#ssl-warnings\n",
            "  InsecureRequestWarning)\n"
          ],
          "name": "stderr"
        },
        {
          "output_type": "stream",
          "text": [
            "Parsing https://finance.yahoo.com/quote/ABIO/profile?p=ABIO\n",
            "Column mismatch for company:  ABIO  Ignoring...\n",
            "\n",
            "Company:  ACH\n"
          ],
          "name": "stdout"
        },
        {
          "output_type": "stream",
          "text": [
            "/usr/local/lib/python3.6/dist-packages/urllib3/connectionpool.py:847: InsecureRequestWarning: Unverified HTTPS request is being made. Adding certificate verification is strongly advised. See: https://urllib3.readthedocs.io/en/latest/advanced-usage.html#ssl-warnings\n",
            "  InsecureRequestWarning)\n"
          ],
          "name": "stderr"
        },
        {
          "output_type": "stream",
          "text": [
            "Parsing https://finance.yahoo.com/quote/ACH/profile?p=ACH\n",
            "\n",
            "Company:  ACHV\n"
          ],
          "name": "stdout"
        },
        {
          "output_type": "stream",
          "text": [
            "/usr/local/lib/python3.6/dist-packages/urllib3/connectionpool.py:847: InsecureRequestWarning: Unverified HTTPS request is being made. Adding certificate verification is strongly advised. See: https://urllib3.readthedocs.io/en/latest/advanced-usage.html#ssl-warnings\n",
            "  InsecureRequestWarning)\n"
          ],
          "name": "stderr"
        },
        {
          "output_type": "stream",
          "text": [
            "Parsing https://finance.yahoo.com/quote/ACHV/profile?p=ACHV\n",
            "\n",
            "Company:  ACIW\n"
          ],
          "name": "stdout"
        },
        {
          "output_type": "stream",
          "text": [
            "/usr/local/lib/python3.6/dist-packages/urllib3/connectionpool.py:847: InsecureRequestWarning: Unverified HTTPS request is being made. Adding certificate verification is strongly advised. See: https://urllib3.readthedocs.io/en/latest/advanced-usage.html#ssl-warnings\n",
            "  InsecureRequestWarning)\n"
          ],
          "name": "stderr"
        },
        {
          "output_type": "stream",
          "text": [
            "Parsing https://finance.yahoo.com/quote/ACIW/profile?p=ACIW\n",
            "\n",
            "Company:  ACN\n"
          ],
          "name": "stdout"
        },
        {
          "output_type": "stream",
          "text": [
            "/usr/local/lib/python3.6/dist-packages/urllib3/connectionpool.py:847: InsecureRequestWarning: Unverified HTTPS request is being made. Adding certificate verification is strongly advised. See: https://urllib3.readthedocs.io/en/latest/advanced-usage.html#ssl-warnings\n",
            "  InsecureRequestWarning)\n"
          ],
          "name": "stderr"
        },
        {
          "output_type": "stream",
          "text": [
            "Parsing https://finance.yahoo.com/quote/ACN/profile?p=ACN\n",
            "\n",
            "Company:  ACOR\n"
          ],
          "name": "stdout"
        },
        {
          "output_type": "stream",
          "text": [
            "/usr/local/lib/python3.6/dist-packages/urllib3/connectionpool.py:847: InsecureRequestWarning: Unverified HTTPS request is being made. Adding certificate verification is strongly advised. See: https://urllib3.readthedocs.io/en/latest/advanced-usage.html#ssl-warnings\n",
            "  InsecureRequestWarning)\n"
          ],
          "name": "stderr"
        },
        {
          "output_type": "stream",
          "text": [
            "Parsing https://finance.yahoo.com/quote/ACOR/profile?p=ACOR\n",
            "\n",
            "Company:  ADAP\n"
          ],
          "name": "stdout"
        },
        {
          "output_type": "stream",
          "text": [
            "/usr/local/lib/python3.6/dist-packages/urllib3/connectionpool.py:847: InsecureRequestWarning: Unverified HTTPS request is being made. Adding certificate verification is strongly advised. See: https://urllib3.readthedocs.io/en/latest/advanced-usage.html#ssl-warnings\n",
            "  InsecureRequestWarning)\n"
          ],
          "name": "stderr"
        },
        {
          "output_type": "stream",
          "text": [
            "Parsing https://finance.yahoo.com/quote/ADAP/profile?p=ADAP\n",
            "\n",
            "Company:  ADBE\n"
          ],
          "name": "stdout"
        },
        {
          "output_type": "stream",
          "text": [
            "/usr/local/lib/python3.6/dist-packages/urllib3/connectionpool.py:847: InsecureRequestWarning: Unverified HTTPS request is being made. Adding certificate verification is strongly advised. See: https://urllib3.readthedocs.io/en/latest/advanced-usage.html#ssl-warnings\n",
            "  InsecureRequestWarning)\n"
          ],
          "name": "stderr"
        },
        {
          "output_type": "stream",
          "text": [
            "Parsing https://finance.yahoo.com/quote/ADBE/profile?p=ADBE\n",
            "\n",
            "Company:  ADMA\n"
          ],
          "name": "stdout"
        },
        {
          "output_type": "stream",
          "text": [
            "/usr/local/lib/python3.6/dist-packages/urllib3/connectionpool.py:847: InsecureRequestWarning: Unverified HTTPS request is being made. Adding certificate verification is strongly advised. See: https://urllib3.readthedocs.io/en/latest/advanced-usage.html#ssl-warnings\n",
            "  InsecureRequestWarning)\n"
          ],
          "name": "stderr"
        },
        {
          "output_type": "stream",
          "text": [
            "Parsing https://finance.yahoo.com/quote/ADMA/profile?p=ADMA\n",
            "\n",
            "Company:  ADNT\n"
          ],
          "name": "stdout"
        },
        {
          "output_type": "stream",
          "text": [
            "/usr/local/lib/python3.6/dist-packages/urllib3/connectionpool.py:847: InsecureRequestWarning: Unverified HTTPS request is being made. Adding certificate verification is strongly advised. See: https://urllib3.readthedocs.io/en/latest/advanced-usage.html#ssl-warnings\n",
            "  InsecureRequestWarning)\n"
          ],
          "name": "stderr"
        },
        {
          "output_type": "stream",
          "text": [
            "Parsing https://finance.yahoo.com/quote/ADNT/profile?p=ADNT\n",
            "\n",
            "Company:  ADOM\n"
          ],
          "name": "stdout"
        },
        {
          "output_type": "stream",
          "text": [
            "/usr/local/lib/python3.6/dist-packages/urllib3/connectionpool.py:847: InsecureRequestWarning: Unverified HTTPS request is being made. Adding certificate verification is strongly advised. See: https://urllib3.readthedocs.io/en/latest/advanced-usage.html#ssl-warnings\n",
            "  InsecureRequestWarning)\n"
          ],
          "name": "stderr"
        },
        {
          "output_type": "stream",
          "text": [
            "Parsing https://finance.yahoo.com/quote/ADOM/profile?p=ADOM\n",
            "\n",
            "Company:  ADS\n"
          ],
          "name": "stdout"
        },
        {
          "output_type": "stream",
          "text": [
            "/usr/local/lib/python3.6/dist-packages/urllib3/connectionpool.py:847: InsecureRequestWarning: Unverified HTTPS request is being made. Adding certificate verification is strongly advised. See: https://urllib3.readthedocs.io/en/latest/advanced-usage.html#ssl-warnings\n",
            "  InsecureRequestWarning)\n"
          ],
          "name": "stderr"
        },
        {
          "output_type": "stream",
          "text": [
            "Parsing https://finance.yahoo.com/quote/ADS/profile?p=ADS\n",
            "\n",
            "Company:  ADSK\n"
          ],
          "name": "stdout"
        },
        {
          "output_type": "stream",
          "text": [
            "/usr/local/lib/python3.6/dist-packages/urllib3/connectionpool.py:847: InsecureRequestWarning: Unverified HTTPS request is being made. Adding certificate verification is strongly advised. See: https://urllib3.readthedocs.io/en/latest/advanced-usage.html#ssl-warnings\n",
            "  InsecureRequestWarning)\n"
          ],
          "name": "stderr"
        },
        {
          "output_type": "stream",
          "text": [
            "Parsing https://finance.yahoo.com/quote/ADSK/profile?p=ADSK\n",
            "\n",
            "Company:  ADVM\n"
          ],
          "name": "stdout"
        },
        {
          "output_type": "stream",
          "text": [
            "/usr/local/lib/python3.6/dist-packages/urllib3/connectionpool.py:847: InsecureRequestWarning: Unverified HTTPS request is being made. Adding certificate verification is strongly advised. See: https://urllib3.readthedocs.io/en/latest/advanced-usage.html#ssl-warnings\n",
            "  InsecureRequestWarning)\n"
          ],
          "name": "stderr"
        },
        {
          "output_type": "stream",
          "text": [
            "Parsing https://finance.yahoo.com/quote/ADVM/profile?p=ADVM\n",
            "\n",
            "Company:  AEMD\n"
          ],
          "name": "stdout"
        },
        {
          "output_type": "stream",
          "text": [
            "/usr/local/lib/python3.6/dist-packages/urllib3/connectionpool.py:847: InsecureRequestWarning: Unverified HTTPS request is being made. Adding certificate verification is strongly advised. See: https://urllib3.readthedocs.io/en/latest/advanced-usage.html#ssl-warnings\n",
            "  InsecureRequestWarning)\n"
          ],
          "name": "stderr"
        },
        {
          "output_type": "stream",
          "text": [
            "Parsing https://finance.yahoo.com/quote/AEMD/profile?p=AEMD\n",
            "\n",
            "Company:  AEO\n"
          ],
          "name": "stdout"
        },
        {
          "output_type": "stream",
          "text": [
            "/usr/local/lib/python3.6/dist-packages/urllib3/connectionpool.py:847: InsecureRequestWarning: Unverified HTTPS request is being made. Adding certificate verification is strongly advised. See: https://urllib3.readthedocs.io/en/latest/advanced-usage.html#ssl-warnings\n",
            "  InsecureRequestWarning)\n"
          ],
          "name": "stderr"
        },
        {
          "output_type": "stream",
          "text": [
            "Parsing https://finance.yahoo.com/quote/AEO/profile?p=AEO\n",
            "\n",
            "Company:  AERI\n"
          ],
          "name": "stdout"
        },
        {
          "output_type": "stream",
          "text": [
            "/usr/local/lib/python3.6/dist-packages/urllib3/connectionpool.py:847: InsecureRequestWarning: Unverified HTTPS request is being made. Adding certificate verification is strongly advised. See: https://urllib3.readthedocs.io/en/latest/advanced-usage.html#ssl-warnings\n",
            "  InsecureRequestWarning)\n"
          ],
          "name": "stderr"
        },
        {
          "output_type": "stream",
          "text": [
            "Parsing https://finance.yahoo.com/quote/AERI/profile?p=AERI\n",
            "\n",
            "Company:  AEYE\n"
          ],
          "name": "stdout"
        },
        {
          "output_type": "stream",
          "text": [
            "/usr/local/lib/python3.6/dist-packages/urllib3/connectionpool.py:847: InsecureRequestWarning: Unverified HTTPS request is being made. Adding certificate verification is strongly advised. See: https://urllib3.readthedocs.io/en/latest/advanced-usage.html#ssl-warnings\n",
            "  InsecureRequestWarning)\n"
          ],
          "name": "stderr"
        },
        {
          "output_type": "stream",
          "text": [
            "Parsing https://finance.yahoo.com/quote/AEYE/profile?p=AEYE\n",
            "\n",
            "Company:  AFL\n"
          ],
          "name": "stdout"
        },
        {
          "output_type": "stream",
          "text": [
            "/usr/local/lib/python3.6/dist-packages/urllib3/connectionpool.py:847: InsecureRequestWarning: Unverified HTTPS request is being made. Adding certificate verification is strongly advised. See: https://urllib3.readthedocs.io/en/latest/advanced-usage.html#ssl-warnings\n",
            "  InsecureRequestWarning)\n"
          ],
          "name": "stderr"
        },
        {
          "output_type": "stream",
          "text": [
            "Parsing https://finance.yahoo.com/quote/AFL/profile?p=AFL\n",
            "\n",
            "Company:  AGEN\n"
          ],
          "name": "stdout"
        },
        {
          "output_type": "stream",
          "text": [
            "/usr/local/lib/python3.6/dist-packages/urllib3/connectionpool.py:847: InsecureRequestWarning: Unverified HTTPS request is being made. Adding certificate verification is strongly advised. See: https://urllib3.readthedocs.io/en/latest/advanced-usage.html#ssl-warnings\n",
            "  InsecureRequestWarning)\n"
          ],
          "name": "stderr"
        },
        {
          "output_type": "stream",
          "text": [
            "Parsing https://finance.yahoo.com/quote/AGEN/profile?p=AGEN\n",
            "\n",
            "Company:  AGFS\n"
          ],
          "name": "stdout"
        },
        {
          "output_type": "stream",
          "text": [
            "/usr/local/lib/python3.6/dist-packages/urllib3/connectionpool.py:847: InsecureRequestWarning: Unverified HTTPS request is being made. Adding certificate verification is strongly advised. See: https://urllib3.readthedocs.io/en/latest/advanced-usage.html#ssl-warnings\n",
            "  InsecureRequestWarning)\n"
          ],
          "name": "stderr"
        },
        {
          "output_type": "stream",
          "text": [
            "Parsing https://finance.yahoo.com/quote/AGFS/profile?p=AGFS\n",
            "\n",
            "Company:  AGTC\n"
          ],
          "name": "stdout"
        },
        {
          "output_type": "stream",
          "text": [
            "/usr/local/lib/python3.6/dist-packages/urllib3/connectionpool.py:847: InsecureRequestWarning: Unverified HTTPS request is being made. Adding certificate verification is strongly advised. See: https://urllib3.readthedocs.io/en/latest/advanced-usage.html#ssl-warnings\n",
            "  InsecureRequestWarning)\n"
          ],
          "name": "stderr"
        },
        {
          "output_type": "stream",
          "text": [
            "Parsing https://finance.yahoo.com/quote/AGTC/profile?p=AGTC\n",
            "\n",
            "Company:  AIR\n"
          ],
          "name": "stdout"
        },
        {
          "output_type": "stream",
          "text": [
            "/usr/local/lib/python3.6/dist-packages/urllib3/connectionpool.py:847: InsecureRequestWarning: Unverified HTTPS request is being made. Adding certificate verification is strongly advised. See: https://urllib3.readthedocs.io/en/latest/advanced-usage.html#ssl-warnings\n",
            "  InsecureRequestWarning)\n"
          ],
          "name": "stderr"
        },
        {
          "output_type": "stream",
          "text": [
            "Parsing https://finance.yahoo.com/quote/AIR/profile?p=AIR\n",
            "\n",
            "Company:  AIRT\n"
          ],
          "name": "stdout"
        },
        {
          "output_type": "stream",
          "text": [
            "/usr/local/lib/python3.6/dist-packages/urllib3/connectionpool.py:847: InsecureRequestWarning: Unverified HTTPS request is being made. Adding certificate verification is strongly advised. See: https://urllib3.readthedocs.io/en/latest/advanced-usage.html#ssl-warnings\n",
            "  InsecureRequestWarning)\n"
          ],
          "name": "stderr"
        },
        {
          "output_type": "stream",
          "text": [
            "Parsing https://finance.yahoo.com/quote/AIRT/profile?p=AIRT\n",
            "\n",
            "Company:  AIZ\n"
          ],
          "name": "stdout"
        },
        {
          "output_type": "stream",
          "text": [
            "/usr/local/lib/python3.6/dist-packages/urllib3/connectionpool.py:847: InsecureRequestWarning: Unverified HTTPS request is being made. Adding certificate verification is strongly advised. See: https://urllib3.readthedocs.io/en/latest/advanced-usage.html#ssl-warnings\n",
            "  InsecureRequestWarning)\n"
          ],
          "name": "stderr"
        },
        {
          "output_type": "stream",
          "text": [
            "Parsing https://finance.yahoo.com/quote/AIZ/profile?p=AIZ\n",
            "\n",
            "Company:  AIZP\n"
          ],
          "name": "stdout"
        },
        {
          "output_type": "stream",
          "text": [
            "/usr/local/lib/python3.6/dist-packages/urllib3/connectionpool.py:847: InsecureRequestWarning: Unverified HTTPS request is being made. Adding certificate verification is strongly advised. See: https://urllib3.readthedocs.io/en/latest/advanced-usage.html#ssl-warnings\n",
            "  InsecureRequestWarning)\n"
          ],
          "name": "stderr"
        },
        {
          "output_type": "stream",
          "text": [
            "Parsing https://finance.yahoo.com/quote/AIZP/profile?p=AIZP\n",
            "\n",
            "Company:  AKAM\n"
          ],
          "name": "stdout"
        },
        {
          "output_type": "stream",
          "text": [
            "/usr/local/lib/python3.6/dist-packages/urllib3/connectionpool.py:847: InsecureRequestWarning: Unverified HTTPS request is being made. Adding certificate verification is strongly advised. See: https://urllib3.readthedocs.io/en/latest/advanced-usage.html#ssl-warnings\n",
            "  InsecureRequestWarning)\n"
          ],
          "name": "stderr"
        },
        {
          "output_type": "stream",
          "text": [
            "Parsing https://finance.yahoo.com/quote/AKAM/profile?p=AKAM\n",
            "\n",
            "Company:  AKER\n"
          ],
          "name": "stdout"
        },
        {
          "output_type": "stream",
          "text": [
            "/usr/local/lib/python3.6/dist-packages/urllib3/connectionpool.py:847: InsecureRequestWarning: Unverified HTTPS request is being made. Adding certificate verification is strongly advised. See: https://urllib3.readthedocs.io/en/latest/advanced-usage.html#ssl-warnings\n",
            "  InsecureRequestWarning)\n"
          ],
          "name": "stderr"
        },
        {
          "output_type": "stream",
          "text": [
            "Parsing https://finance.yahoo.com/quote/AKER/profile?p=AKER\n",
            "\n",
            "Company:  ALGR\n"
          ],
          "name": "stdout"
        },
        {
          "output_type": "stream",
          "text": [
            "/usr/local/lib/python3.6/dist-packages/urllib3/connectionpool.py:847: InsecureRequestWarning: Unverified HTTPS request is being made. Adding certificate verification is strongly advised. See: https://urllib3.readthedocs.io/en/latest/advanced-usage.html#ssl-warnings\n",
            "  InsecureRequestWarning)\n"
          ],
          "name": "stderr"
        },
        {
          "output_type": "stream",
          "text": [
            "Parsing https://finance.yahoo.com/quote/ALGR/profile?p=ALGR\n",
            "Error in profile non tabular data\n",
            "Column mismatch for company:  ALGR  Ignoring...\n",
            "\n",
            "Company:  ALGT\n"
          ],
          "name": "stdout"
        },
        {
          "output_type": "stream",
          "text": [
            "/usr/local/lib/python3.6/dist-packages/urllib3/connectionpool.py:847: InsecureRequestWarning: Unverified HTTPS request is being made. Adding certificate verification is strongly advised. See: https://urllib3.readthedocs.io/en/latest/advanced-usage.html#ssl-warnings\n",
            "  InsecureRequestWarning)\n"
          ],
          "name": "stderr"
        },
        {
          "output_type": "stream",
          "text": [
            "Parsing https://finance.yahoo.com/quote/ALGT/profile?p=ALGT\n",
            "\n",
            "Company:  ALJJ\n"
          ],
          "name": "stdout"
        },
        {
          "output_type": "stream",
          "text": [
            "/usr/local/lib/python3.6/dist-packages/urllib3/connectionpool.py:847: InsecureRequestWarning: Unverified HTTPS request is being made. Adding certificate verification is strongly advised. See: https://urllib3.readthedocs.io/en/latest/advanced-usage.html#ssl-warnings\n",
            "  InsecureRequestWarning)\n"
          ],
          "name": "stderr"
        },
        {
          "output_type": "stream",
          "text": [
            "Parsing https://finance.yahoo.com/quote/ALJJ/profile?p=ALJJ\n",
            "Column mismatch for company:  ALJJ  Ignoring...\n",
            "\n",
            "Company:  ALK\n"
          ],
          "name": "stdout"
        },
        {
          "output_type": "stream",
          "text": [
            "/usr/local/lib/python3.6/dist-packages/urllib3/connectionpool.py:847: InsecureRequestWarning: Unverified HTTPS request is being made. Adding certificate verification is strongly advised. See: https://urllib3.readthedocs.io/en/latest/advanced-usage.html#ssl-warnings\n",
            "  InsecureRequestWarning)\n"
          ],
          "name": "stderr"
        },
        {
          "output_type": "stream",
          "text": [
            "Parsing https://finance.yahoo.com/quote/ALK/profile?p=ALK\n",
            "\n",
            "Company:  ALLO\n"
          ],
          "name": "stdout"
        },
        {
          "output_type": "stream",
          "text": [
            "/usr/local/lib/python3.6/dist-packages/urllib3/connectionpool.py:847: InsecureRequestWarning: Unverified HTTPS request is being made. Adding certificate verification is strongly advised. See: https://urllib3.readthedocs.io/en/latest/advanced-usage.html#ssl-warnings\n",
            "  InsecureRequestWarning)\n"
          ],
          "name": "stderr"
        },
        {
          "output_type": "stream",
          "text": [
            "Parsing https://finance.yahoo.com/quote/ALLO/profile?p=ALLO\n",
            "\n",
            "Company:  ALLT\n"
          ],
          "name": "stdout"
        },
        {
          "output_type": "stream",
          "text": [
            "/usr/local/lib/python3.6/dist-packages/urllib3/connectionpool.py:847: InsecureRequestWarning: Unverified HTTPS request is being made. Adding certificate verification is strongly advised. See: https://urllib3.readthedocs.io/en/latest/advanced-usage.html#ssl-warnings\n",
            "  InsecureRequestWarning)\n"
          ],
          "name": "stderr"
        },
        {
          "output_type": "stream",
          "text": [
            "Parsing https://finance.yahoo.com/quote/ALLT/profile?p=ALLT\n",
            "\n",
            "Company:  ALNA\n"
          ],
          "name": "stdout"
        },
        {
          "output_type": "stream",
          "text": [
            "/usr/local/lib/python3.6/dist-packages/urllib3/connectionpool.py:847: InsecureRequestWarning: Unverified HTTPS request is being made. Adding certificate verification is strongly advised. See: https://urllib3.readthedocs.io/en/latest/advanced-usage.html#ssl-warnings\n",
            "  InsecureRequestWarning)\n"
          ],
          "name": "stderr"
        },
        {
          "output_type": "stream",
          "text": [
            "Parsing https://finance.yahoo.com/quote/ALNA/profile?p=ALNA\n",
            "\n",
            "Company:  ALOT\n"
          ],
          "name": "stdout"
        },
        {
          "output_type": "stream",
          "text": [
            "/usr/local/lib/python3.6/dist-packages/urllib3/connectionpool.py:847: InsecureRequestWarning: Unverified HTTPS request is being made. Adding certificate verification is strongly advised. See: https://urllib3.readthedocs.io/en/latest/advanced-usage.html#ssl-warnings\n",
            "  InsecureRequestWarning)\n"
          ],
          "name": "stderr"
        },
        {
          "output_type": "stream",
          "text": [
            "Parsing https://finance.yahoo.com/quote/ALOT/profile?p=ALOT\n",
            "\n",
            "Company:  ALRM\n"
          ],
          "name": "stdout"
        },
        {
          "output_type": "stream",
          "text": [
            "/usr/local/lib/python3.6/dist-packages/urllib3/connectionpool.py:847: InsecureRequestWarning: Unverified HTTPS request is being made. Adding certificate verification is strongly advised. See: https://urllib3.readthedocs.io/en/latest/advanced-usage.html#ssl-warnings\n",
            "  InsecureRequestWarning)\n"
          ],
          "name": "stderr"
        },
        {
          "output_type": "stream",
          "text": [
            "Parsing https://finance.yahoo.com/quote/ALRM/profile?p=ALRM\n",
            "\n",
            "Company:  ALSN\n"
          ],
          "name": "stdout"
        },
        {
          "output_type": "stream",
          "text": [
            "/usr/local/lib/python3.6/dist-packages/urllib3/connectionpool.py:847: InsecureRequestWarning: Unverified HTTPS request is being made. Adding certificate verification is strongly advised. See: https://urllib3.readthedocs.io/en/latest/advanced-usage.html#ssl-warnings\n",
            "  InsecureRequestWarning)\n"
          ],
          "name": "stderr"
        },
        {
          "output_type": "stream",
          "text": [
            "Parsing https://finance.yahoo.com/quote/ALSN/profile?p=ALSN\n",
            "\n",
            "Company:  ALTR\n"
          ],
          "name": "stdout"
        },
        {
          "output_type": "stream",
          "text": [
            "/usr/local/lib/python3.6/dist-packages/urllib3/connectionpool.py:847: InsecureRequestWarning: Unverified HTTPS request is being made. Adding certificate verification is strongly advised. See: https://urllib3.readthedocs.io/en/latest/advanced-usage.html#ssl-warnings\n",
            "  InsecureRequestWarning)\n"
          ],
          "name": "stderr"
        },
        {
          "output_type": "stream",
          "text": [
            "Parsing https://finance.yahoo.com/quote/ALTR/profile?p=ALTR\n",
            "\n",
            "Company:  ALV\n"
          ],
          "name": "stdout"
        },
        {
          "output_type": "stream",
          "text": [
            "/usr/local/lib/python3.6/dist-packages/urllib3/connectionpool.py:847: InsecureRequestWarning: Unverified HTTPS request is being made. Adding certificate verification is strongly advised. See: https://urllib3.readthedocs.io/en/latest/advanced-usage.html#ssl-warnings\n",
            "  InsecureRequestWarning)\n"
          ],
          "name": "stderr"
        },
        {
          "output_type": "stream",
          "text": [
            "Parsing https://finance.yahoo.com/quote/ALV/profile?p=ALV\n",
            "\n",
            "Company:  AMGN\n"
          ],
          "name": "stdout"
        },
        {
          "output_type": "stream",
          "text": [
            "/usr/local/lib/python3.6/dist-packages/urllib3/connectionpool.py:847: InsecureRequestWarning: Unverified HTTPS request is being made. Adding certificate verification is strongly advised. See: https://urllib3.readthedocs.io/en/latest/advanced-usage.html#ssl-warnings\n",
            "  InsecureRequestWarning)\n"
          ],
          "name": "stderr"
        },
        {
          "output_type": "stream",
          "text": [
            "Parsing https://finance.yahoo.com/quote/AMGN/profile?p=AMGN\n",
            "\n",
            "Company:  AMSWA\n"
          ],
          "name": "stdout"
        },
        {
          "output_type": "stream",
          "text": [
            "/usr/local/lib/python3.6/dist-packages/urllib3/connectionpool.py:847: InsecureRequestWarning: Unverified HTTPS request is being made. Adding certificate verification is strongly advised. See: https://urllib3.readthedocs.io/en/latest/advanced-usage.html#ssl-warnings\n",
            "  InsecureRequestWarning)\n"
          ],
          "name": "stderr"
        },
        {
          "output_type": "stream",
          "text": [
            "Parsing https://finance.yahoo.com/quote/AMSWA/profile?p=AMSWA\n",
            "\n",
            "Company:  AMZN\n"
          ],
          "name": "stdout"
        },
        {
          "output_type": "stream",
          "text": [
            "/usr/local/lib/python3.6/dist-packages/urllib3/connectionpool.py:847: InsecureRequestWarning: Unverified HTTPS request is being made. Adding certificate verification is strongly advised. See: https://urllib3.readthedocs.io/en/latest/advanced-usage.html#ssl-warnings\n",
            "  InsecureRequestWarning)\n"
          ],
          "name": "stderr"
        },
        {
          "output_type": "stream",
          "text": [
            "Parsing https://finance.yahoo.com/quote/AMZN/profile?p=AMZN\n",
            "\n",
            "Company:  AN\n"
          ],
          "name": "stdout"
        },
        {
          "output_type": "stream",
          "text": [
            "/usr/local/lib/python3.6/dist-packages/urllib3/connectionpool.py:847: InsecureRequestWarning: Unverified HTTPS request is being made. Adding certificate verification is strongly advised. See: https://urllib3.readthedocs.io/en/latest/advanced-usage.html#ssl-warnings\n",
            "  InsecureRequestWarning)\n"
          ],
          "name": "stderr"
        },
        {
          "output_type": "stream",
          "text": [
            "Parsing https://finance.yahoo.com/quote/AN/profile?p=AN\n",
            "\n",
            "Company:  ANET\n"
          ],
          "name": "stdout"
        },
        {
          "output_type": "stream",
          "text": [
            "/usr/local/lib/python3.6/dist-packages/urllib3/connectionpool.py:847: InsecureRequestWarning: Unverified HTTPS request is being made. Adding certificate verification is strongly advised. See: https://urllib3.readthedocs.io/en/latest/advanced-usage.html#ssl-warnings\n",
            "  InsecureRequestWarning)\n"
          ],
          "name": "stderr"
        },
        {
          "output_type": "stream",
          "text": [
            "Parsing https://finance.yahoo.com/quote/ANET/profile?p=ANET\n",
            "\n",
            "Company:  ANF\n"
          ],
          "name": "stdout"
        },
        {
          "output_type": "stream",
          "text": [
            "/usr/local/lib/python3.6/dist-packages/urllib3/connectionpool.py:847: InsecureRequestWarning: Unverified HTTPS request is being made. Adding certificate verification is strongly advised. See: https://urllib3.readthedocs.io/en/latest/advanced-usage.html#ssl-warnings\n",
            "  InsecureRequestWarning)\n"
          ],
          "name": "stderr"
        },
        {
          "output_type": "stream",
          "text": [
            "Parsing https://finance.yahoo.com/quote/ANF/profile?p=ANF\n",
            "\n",
            "Company:  ANGI\n"
          ],
          "name": "stdout"
        },
        {
          "output_type": "stream",
          "text": [
            "/usr/local/lib/python3.6/dist-packages/urllib3/connectionpool.py:847: InsecureRequestWarning: Unverified HTTPS request is being made. Adding certificate verification is strongly advised. See: https://urllib3.readthedocs.io/en/latest/advanced-usage.html#ssl-warnings\n",
            "  InsecureRequestWarning)\n"
          ],
          "name": "stderr"
        },
        {
          "output_type": "stream",
          "text": [
            "Parsing https://finance.yahoo.com/quote/ANGI/profile?p=ANGI\n",
            "\n",
            "Company:  ANSS\n"
          ],
          "name": "stdout"
        },
        {
          "output_type": "stream",
          "text": [
            "/usr/local/lib/python3.6/dist-packages/urllib3/connectionpool.py:847: InsecureRequestWarning: Unverified HTTPS request is being made. Adding certificate verification is strongly advised. See: https://urllib3.readthedocs.io/en/latest/advanced-usage.html#ssl-warnings\n",
            "  InsecureRequestWarning)\n"
          ],
          "name": "stderr"
        },
        {
          "output_type": "stream",
          "text": [
            "Parsing https://finance.yahoo.com/quote/ANSS/profile?p=ANSS\n",
            "\n",
            "Company:  AOS\n"
          ],
          "name": "stdout"
        },
        {
          "output_type": "stream",
          "text": [
            "/usr/local/lib/python3.6/dist-packages/urllib3/connectionpool.py:847: InsecureRequestWarning: Unverified HTTPS request is being made. Adding certificate verification is strongly advised. See: https://urllib3.readthedocs.io/en/latest/advanced-usage.html#ssl-warnings\n",
            "  InsecureRequestWarning)\n"
          ],
          "name": "stderr"
        },
        {
          "output_type": "stream",
          "text": [
            "Parsing https://finance.yahoo.com/quote/AOS/profile?p=AOS\n",
            "\n",
            "Company:  APOG\n"
          ],
          "name": "stdout"
        },
        {
          "output_type": "stream",
          "text": [
            "/usr/local/lib/python3.6/dist-packages/urllib3/connectionpool.py:847: InsecureRequestWarning: Unverified HTTPS request is being made. Adding certificate verification is strongly advised. See: https://urllib3.readthedocs.io/en/latest/advanced-usage.html#ssl-warnings\n",
            "  InsecureRequestWarning)\n"
          ],
          "name": "stderr"
        },
        {
          "output_type": "stream",
          "text": [
            "Parsing https://finance.yahoo.com/quote/APOG/profile?p=APOG\n",
            "\n",
            "Company:  APPF\n"
          ],
          "name": "stdout"
        },
        {
          "output_type": "stream",
          "text": [
            "/usr/local/lib/python3.6/dist-packages/urllib3/connectionpool.py:847: InsecureRequestWarning: Unverified HTTPS request is being made. Adding certificate verification is strongly advised. See: https://urllib3.readthedocs.io/en/latest/advanced-usage.html#ssl-warnings\n",
            "  InsecureRequestWarning)\n"
          ],
          "name": "stderr"
        },
        {
          "output_type": "stream",
          "text": [
            "Parsing https://finance.yahoo.com/quote/APPF/profile?p=APPF\n",
            "\n",
            "Company:  APPN\n"
          ],
          "name": "stdout"
        },
        {
          "output_type": "stream",
          "text": [
            "/usr/local/lib/python3.6/dist-packages/urllib3/connectionpool.py:847: InsecureRequestWarning: Unverified HTTPS request is being made. Adding certificate verification is strongly advised. See: https://urllib3.readthedocs.io/en/latest/advanced-usage.html#ssl-warnings\n",
            "  InsecureRequestWarning)\n"
          ],
          "name": "stderr"
        },
        {
          "output_type": "stream",
          "text": [
            "Parsing https://finance.yahoo.com/quote/APPN/profile?p=APPN\n",
            "\n",
            "Company:  APRN\n"
          ],
          "name": "stdout"
        },
        {
          "output_type": "stream",
          "text": [
            "/usr/local/lib/python3.6/dist-packages/urllib3/connectionpool.py:847: InsecureRequestWarning: Unverified HTTPS request is being made. Adding certificate verification is strongly advised. See: https://urllib3.readthedocs.io/en/latest/advanced-usage.html#ssl-warnings\n",
            "  InsecureRequestWarning)\n"
          ],
          "name": "stderr"
        },
        {
          "output_type": "stream",
          "text": [
            "Parsing https://finance.yahoo.com/quote/APRN/profile?p=APRN\n",
            "\n",
            "Company:  APTO\n"
          ],
          "name": "stdout"
        },
        {
          "output_type": "stream",
          "text": [
            "/usr/local/lib/python3.6/dist-packages/urllib3/connectionpool.py:847: InsecureRequestWarning: Unverified HTTPS request is being made. Adding certificate verification is strongly advised. See: https://urllib3.readthedocs.io/en/latest/advanced-usage.html#ssl-warnings\n",
            "  InsecureRequestWarning)\n"
          ],
          "name": "stderr"
        },
        {
          "output_type": "stream",
          "text": [
            "Parsing https://finance.yahoo.com/quote/APTO/profile?p=APTO\n",
            "\n",
            "Company:  APTV\n"
          ],
          "name": "stdout"
        },
        {
          "output_type": "stream",
          "text": [
            "/usr/local/lib/python3.6/dist-packages/urllib3/connectionpool.py:847: InsecureRequestWarning: Unverified HTTPS request is being made. Adding certificate verification is strongly advised. See: https://urllib3.readthedocs.io/en/latest/advanced-usage.html#ssl-warnings\n",
            "  InsecureRequestWarning)\n"
          ],
          "name": "stderr"
        },
        {
          "output_type": "stream",
          "text": [
            "Parsing https://finance.yahoo.com/quote/APTV/profile?p=APTV\n",
            "\n",
            "Company:  ARCH\n"
          ],
          "name": "stdout"
        },
        {
          "output_type": "stream",
          "text": [
            "/usr/local/lib/python3.6/dist-packages/urllib3/connectionpool.py:847: InsecureRequestWarning: Unverified HTTPS request is being made. Adding certificate verification is strongly advised. See: https://urllib3.readthedocs.io/en/latest/advanced-usage.html#ssl-warnings\n",
            "  InsecureRequestWarning)\n"
          ],
          "name": "stderr"
        },
        {
          "output_type": "stream",
          "text": [
            "Parsing https://finance.yahoo.com/quote/ARCH/profile?p=ARCH\n",
            "\n",
            "Company:  ARGX\n"
          ],
          "name": "stdout"
        },
        {
          "output_type": "stream",
          "text": [
            "/usr/local/lib/python3.6/dist-packages/urllib3/connectionpool.py:847: InsecureRequestWarning: Unverified HTTPS request is being made. Adding certificate verification is strongly advised. See: https://urllib3.readthedocs.io/en/latest/advanced-usage.html#ssl-warnings\n",
            "  InsecureRequestWarning)\n"
          ],
          "name": "stderr"
        },
        {
          "output_type": "stream",
          "text": [
            "Parsing https://finance.yahoo.com/quote/ARGX/profile?p=ARGX\n",
            "\n",
            "Company:  ARLO\n"
          ],
          "name": "stdout"
        },
        {
          "output_type": "stream",
          "text": [
            "/usr/local/lib/python3.6/dist-packages/urllib3/connectionpool.py:847: InsecureRequestWarning: Unverified HTTPS request is being made. Adding certificate verification is strongly advised. See: https://urllib3.readthedocs.io/en/latest/advanced-usage.html#ssl-warnings\n",
            "  InsecureRequestWarning)\n"
          ],
          "name": "stderr"
        },
        {
          "output_type": "stream",
          "text": [
            "Parsing https://finance.yahoo.com/quote/ARLO/profile?p=ARLO\n",
            "\n",
            "Company:  ARLP\n"
          ],
          "name": "stdout"
        },
        {
          "output_type": "stream",
          "text": [
            "/usr/local/lib/python3.6/dist-packages/urllib3/connectionpool.py:847: InsecureRequestWarning: Unverified HTTPS request is being made. Adding certificate verification is strongly advised. See: https://urllib3.readthedocs.io/en/latest/advanced-usage.html#ssl-warnings\n",
            "  InsecureRequestWarning)\n"
          ],
          "name": "stderr"
        },
        {
          "output_type": "stream",
          "text": [
            "Parsing https://finance.yahoo.com/quote/ARLP/profile?p=ARLP\n",
            "\n",
            "Company:  ASNA\n"
          ],
          "name": "stdout"
        },
        {
          "output_type": "stream",
          "text": [
            "/usr/local/lib/python3.6/dist-packages/urllib3/connectionpool.py:847: InsecureRequestWarning: Unverified HTTPS request is being made. Adding certificate verification is strongly advised. See: https://urllib3.readthedocs.io/en/latest/advanced-usage.html#ssl-warnings\n",
            "  InsecureRequestWarning)\n"
          ],
          "name": "stderr"
        },
        {
          "output_type": "stream",
          "text": [
            "Parsing https://finance.yahoo.com/quote/ASNA/profile?p=ASNA\n",
            "\n",
            "Company:  ASR\n"
          ],
          "name": "stdout"
        },
        {
          "output_type": "stream",
          "text": [
            "/usr/local/lib/python3.6/dist-packages/urllib3/connectionpool.py:847: InsecureRequestWarning: Unverified HTTPS request is being made. Adding certificate verification is strongly advised. See: https://urllib3.readthedocs.io/en/latest/advanced-usage.html#ssl-warnings\n",
            "  InsecureRequestWarning)\n"
          ],
          "name": "stderr"
        },
        {
          "output_type": "stream",
          "text": [
            "Parsing https://finance.yahoo.com/quote/ASR/profile?p=ASR\n",
            "\n",
            "Company:  AST\n"
          ],
          "name": "stdout"
        },
        {
          "output_type": "stream",
          "text": [
            "/usr/local/lib/python3.6/dist-packages/urllib3/connectionpool.py:847: InsecureRequestWarning: Unverified HTTPS request is being made. Adding certificate verification is strongly advised. See: https://urllib3.readthedocs.io/en/latest/advanced-usage.html#ssl-warnings\n",
            "  InsecureRequestWarning)\n",
            "/usr/local/lib/python3.6/dist-packages/urllib3/connectionpool.py:847: InsecureRequestWarning: Unverified HTTPS request is being made. Adding certificate verification is strongly advised. See: https://urllib3.readthedocs.io/en/latest/advanced-usage.html#ssl-warnings\n",
            "  InsecureRequestWarning)\n"
          ],
          "name": "stderr"
        },
        {
          "output_type": "stream",
          "text": [
            "Parsing https://finance.yahoo.com/quote/AST/profile?p=AST\n",
            "Column mismatch for company:  AST  Ignoring...\n",
            "\n",
            "Company:  ASTC\n"
          ],
          "name": "stdout"
        },
        {
          "output_type": "stream",
          "text": [
            "/usr/local/lib/python3.6/dist-packages/urllib3/connectionpool.py:847: InsecureRequestWarning: Unverified HTTPS request is being made. Adding certificate verification is strongly advised. See: https://urllib3.readthedocs.io/en/latest/advanced-usage.html#ssl-warnings\n",
            "  InsecureRequestWarning)\n"
          ],
          "name": "stderr"
        },
        {
          "output_type": "stream",
          "text": [
            "Parsing https://finance.yahoo.com/quote/ASTC/profile?p=ASTC\n",
            "Column mismatch for company:  ASTC  Ignoring...\n",
            "\n",
            "Company:  ASTE\n"
          ],
          "name": "stdout"
        },
        {
          "output_type": "stream",
          "text": [
            "/usr/local/lib/python3.6/dist-packages/urllib3/connectionpool.py:847: InsecureRequestWarning: Unverified HTTPS request is being made. Adding certificate verification is strongly advised. See: https://urllib3.readthedocs.io/en/latest/advanced-usage.html#ssl-warnings\n",
            "  InsecureRequestWarning)\n"
          ],
          "name": "stderr"
        },
        {
          "output_type": "stream",
          "text": [
            "Parsing https://finance.yahoo.com/quote/ASTE/profile?p=ASTE\n",
            "\n",
            "Company:  ATEN\n"
          ],
          "name": "stdout"
        },
        {
          "output_type": "stream",
          "text": [
            "/usr/local/lib/python3.6/dist-packages/urllib3/connectionpool.py:847: InsecureRequestWarning: Unverified HTTPS request is being made. Adding certificate verification is strongly advised. See: https://urllib3.readthedocs.io/en/latest/advanced-usage.html#ssl-warnings\n",
            "  InsecureRequestWarning)\n"
          ],
          "name": "stderr"
        },
        {
          "output_type": "stream",
          "text": [
            "Parsing https://finance.yahoo.com/quote/ATEN/profile?p=ATEN\n",
            "\n",
            "Company:  ATRA\n"
          ],
          "name": "stdout"
        },
        {
          "output_type": "stream",
          "text": [
            "/usr/local/lib/python3.6/dist-packages/urllib3/connectionpool.py:847: InsecureRequestWarning: Unverified HTTPS request is being made. Adding certificate verification is strongly advised. See: https://urllib3.readthedocs.io/en/latest/advanced-usage.html#ssl-warnings\n",
            "  InsecureRequestWarning)\n"
          ],
          "name": "stderr"
        },
        {
          "output_type": "stream",
          "text": [
            "Parsing https://finance.yahoo.com/quote/ATRA/profile?p=ATRA\n",
            "\n",
            "Company:  ATSG\n"
          ],
          "name": "stdout"
        },
        {
          "output_type": "stream",
          "text": [
            "/usr/local/lib/python3.6/dist-packages/urllib3/connectionpool.py:847: InsecureRequestWarning: Unverified HTTPS request is being made. Adding certificate verification is strongly advised. See: https://urllib3.readthedocs.io/en/latest/advanced-usage.html#ssl-warnings\n",
            "  InsecureRequestWarning)\n"
          ],
          "name": "stderr"
        },
        {
          "output_type": "stream",
          "text": [
            "Parsing https://finance.yahoo.com/quote/ATSG/profile?p=ATSG\n",
            "\n",
            "Company:  ATVI\n"
          ],
          "name": "stdout"
        },
        {
          "output_type": "stream",
          "text": [
            "/usr/local/lib/python3.6/dist-packages/urllib3/connectionpool.py:847: InsecureRequestWarning: Unverified HTTPS request is being made. Adding certificate verification is strongly advised. See: https://urllib3.readthedocs.io/en/latest/advanced-usage.html#ssl-warnings\n",
            "  InsecureRequestWarning)\n"
          ],
          "name": "stderr"
        },
        {
          "output_type": "stream",
          "text": [
            "Parsing https://finance.yahoo.com/quote/ATVI/profile?p=ATVI\n",
            "\n",
            "Company:  AUTL\n"
          ],
          "name": "stdout"
        },
        {
          "output_type": "stream",
          "text": [
            "/usr/local/lib/python3.6/dist-packages/urllib3/connectionpool.py:847: InsecureRequestWarning: Unverified HTTPS request is being made. Adding certificate verification is strongly advised. See: https://urllib3.readthedocs.io/en/latest/advanced-usage.html#ssl-warnings\n",
            "  InsecureRequestWarning)\n"
          ],
          "name": "stderr"
        },
        {
          "output_type": "stream",
          "text": [
            "Parsing https://finance.yahoo.com/quote/AUTL/profile?p=AUTL\n",
            "Error in profile non tabular data\n",
            "Column mismatch for company:  AUTL  Ignoring...\n",
            "\n",
            "Company:  AUTO\n"
          ],
          "name": "stdout"
        },
        {
          "output_type": "stream",
          "text": [
            "/usr/local/lib/python3.6/dist-packages/urllib3/connectionpool.py:847: InsecureRequestWarning: Unverified HTTPS request is being made. Adding certificate verification is strongly advised. See: https://urllib3.readthedocs.io/en/latest/advanced-usage.html#ssl-warnings\n",
            "  InsecureRequestWarning)\n"
          ],
          "name": "stderr"
        },
        {
          "output_type": "stream",
          "text": [
            "Parsing https://finance.yahoo.com/quote/AUTO/profile?p=AUTO\n",
            "\n",
            "Company:  AVAL\n"
          ],
          "name": "stdout"
        },
        {
          "output_type": "stream",
          "text": [
            "/usr/local/lib/python3.6/dist-packages/urllib3/connectionpool.py:847: InsecureRequestWarning: Unverified HTTPS request is being made. Adding certificate verification is strongly advised. See: https://urllib3.readthedocs.io/en/latest/advanced-usage.html#ssl-warnings\n",
            "  InsecureRequestWarning)\n"
          ],
          "name": "stderr"
        },
        {
          "output_type": "stream",
          "text": [
            "Parsing https://finance.yahoo.com/quote/AVAL/profile?p=AVAL\n",
            "Error in profile non tabular data\n",
            "Column mismatch for company:  AVAL  Ignoring...\n",
            "\n",
            "Company:  AVAV\n"
          ],
          "name": "stdout"
        },
        {
          "output_type": "stream",
          "text": [
            "/usr/local/lib/python3.6/dist-packages/urllib3/connectionpool.py:847: InsecureRequestWarning: Unverified HTTPS request is being made. Adding certificate verification is strongly advised. See: https://urllib3.readthedocs.io/en/latest/advanced-usage.html#ssl-warnings\n",
            "  InsecureRequestWarning)\n"
          ],
          "name": "stderr"
        },
        {
          "output_type": "stream",
          "text": [
            "Parsing https://finance.yahoo.com/quote/AVAV/profile?p=AVAV\n",
            "\n",
            "Company:  AVD\n"
          ],
          "name": "stdout"
        },
        {
          "output_type": "stream",
          "text": [
            "/usr/local/lib/python3.6/dist-packages/urllib3/connectionpool.py:847: InsecureRequestWarning: Unverified HTTPS request is being made. Adding certificate verification is strongly advised. See: https://urllib3.readthedocs.io/en/latest/advanced-usage.html#ssl-warnings\n",
            "  InsecureRequestWarning)\n"
          ],
          "name": "stderr"
        },
        {
          "output_type": "stream",
          "text": [
            "Parsing https://finance.yahoo.com/quote/AVD/profile?p=AVD\n",
            "\n",
            "Company:  AVH\n"
          ],
          "name": "stdout"
        },
        {
          "output_type": "stream",
          "text": [
            "/usr/local/lib/python3.6/dist-packages/urllib3/connectionpool.py:847: InsecureRequestWarning: Unverified HTTPS request is being made. Adding certificate verification is strongly advised. See: https://urllib3.readthedocs.io/en/latest/advanced-usage.html#ssl-warnings\n",
            "  InsecureRequestWarning)\n"
          ],
          "name": "stderr"
        },
        {
          "output_type": "stream",
          "text": [
            "Parsing https://finance.yahoo.com/quote/AVH/profile?p=AVH\n",
            "\n",
            "Company:  AVID\n"
          ],
          "name": "stdout"
        },
        {
          "output_type": "stream",
          "text": [
            "/usr/local/lib/python3.6/dist-packages/urllib3/connectionpool.py:847: InsecureRequestWarning: Unverified HTTPS request is being made. Adding certificate verification is strongly advised. See: https://urllib3.readthedocs.io/en/latest/advanced-usage.html#ssl-warnings\n",
            "  InsecureRequestWarning)\n"
          ],
          "name": "stderr"
        },
        {
          "output_type": "stream",
          "text": [
            "Parsing https://finance.yahoo.com/quote/AVID/profile?p=AVID\n",
            "\n",
            "Company:  AVLR\n"
          ],
          "name": "stdout"
        },
        {
          "output_type": "stream",
          "text": [
            "/usr/local/lib/python3.6/dist-packages/urllib3/connectionpool.py:847: InsecureRequestWarning: Unverified HTTPS request is being made. Adding certificate verification is strongly advised. See: https://urllib3.readthedocs.io/en/latest/advanced-usage.html#ssl-warnings\n",
            "  InsecureRequestWarning)\n"
          ],
          "name": "stderr"
        },
        {
          "output_type": "stream",
          "text": [
            "Parsing https://finance.yahoo.com/quote/AVLR/profile?p=AVLR\n",
            "\n",
            "Company:  AVRO\n"
          ],
          "name": "stdout"
        },
        {
          "output_type": "stream",
          "text": [
            "/usr/local/lib/python3.6/dist-packages/urllib3/connectionpool.py:847: InsecureRequestWarning: Unverified HTTPS request is being made. Adding certificate verification is strongly advised. See: https://urllib3.readthedocs.io/en/latest/advanced-usage.html#ssl-warnings\n",
            "  InsecureRequestWarning)\n"
          ],
          "name": "stderr"
        },
        {
          "output_type": "stream",
          "text": [
            "Parsing https://finance.yahoo.com/quote/AVRO/profile?p=AVRO\n",
            "\n",
            "Company:  AVXL\n"
          ],
          "name": "stdout"
        },
        {
          "output_type": "stream",
          "text": [
            "/usr/local/lib/python3.6/dist-packages/urllib3/connectionpool.py:847: InsecureRequestWarning: Unverified HTTPS request is being made. Adding certificate verification is strongly advised. See: https://urllib3.readthedocs.io/en/latest/advanced-usage.html#ssl-warnings\n",
            "  InsecureRequestWarning)\n"
          ],
          "name": "stderr"
        },
        {
          "output_type": "stream",
          "text": [
            "Parsing https://finance.yahoo.com/quote/AVXL/profile?p=AVXL\n",
            "\n",
            "Company:  AWRE\n"
          ],
          "name": "stdout"
        },
        {
          "output_type": "stream",
          "text": [
            "/usr/local/lib/python3.6/dist-packages/urllib3/connectionpool.py:847: InsecureRequestWarning: Unverified HTTPS request is being made. Adding certificate verification is strongly advised. See: https://urllib3.readthedocs.io/en/latest/advanced-usage.html#ssl-warnings\n",
            "  InsecureRequestWarning)\n"
          ],
          "name": "stderr"
        },
        {
          "output_type": "stream",
          "text": [
            "Parsing https://finance.yahoo.com/quote/AWRE/profile?p=AWRE\n",
            "\n",
            "Company:  AXDX\n"
          ],
          "name": "stdout"
        },
        {
          "output_type": "stream",
          "text": [
            "/usr/local/lib/python3.6/dist-packages/urllib3/connectionpool.py:847: InsecureRequestWarning: Unverified HTTPS request is being made. Adding certificate verification is strongly advised. See: https://urllib3.readthedocs.io/en/latest/advanced-usage.html#ssl-warnings\n",
            "  InsecureRequestWarning)\n"
          ],
          "name": "stderr"
        },
        {
          "output_type": "stream",
          "text": [
            "Parsing https://finance.yahoo.com/quote/AXDX/profile?p=AXDX\n",
            "\n",
            "Company:  AXGN\n"
          ],
          "name": "stdout"
        },
        {
          "output_type": "stream",
          "text": [
            "/usr/local/lib/python3.6/dist-packages/urllib3/connectionpool.py:847: InsecureRequestWarning: Unverified HTTPS request is being made. Adding certificate verification is strongly advised. See: https://urllib3.readthedocs.io/en/latest/advanced-usage.html#ssl-warnings\n",
            "  InsecureRequestWarning)\n"
          ],
          "name": "stderr"
        },
        {
          "output_type": "stream",
          "text": [
            "Parsing https://finance.yahoo.com/quote/AXGN/profile?p=AXGN\n",
            "\n",
            "Company:  AXL\n"
          ],
          "name": "stdout"
        },
        {
          "output_type": "stream",
          "text": [
            "/usr/local/lib/python3.6/dist-packages/urllib3/connectionpool.py:847: InsecureRequestWarning: Unverified HTTPS request is being made. Adding certificate verification is strongly advised. See: https://urllib3.readthedocs.io/en/latest/advanced-usage.html#ssl-warnings\n",
            "  InsecureRequestWarning)\n"
          ],
          "name": "stderr"
        },
        {
          "output_type": "stream",
          "text": [
            "Parsing https://finance.yahoo.com/quote/AXL/profile?p=AXL\n",
            "\n",
            "Company:  AYI\n"
          ],
          "name": "stdout"
        },
        {
          "output_type": "stream",
          "text": [
            "/usr/local/lib/python3.6/dist-packages/urllib3/connectionpool.py:847: InsecureRequestWarning: Unverified HTTPS request is being made. Adding certificate verification is strongly advised. See: https://urllib3.readthedocs.io/en/latest/advanced-usage.html#ssl-warnings\n",
            "  InsecureRequestWarning)\n"
          ],
          "name": "stderr"
        },
        {
          "output_type": "stream",
          "text": [
            "Parsing https://finance.yahoo.com/quote/AYI/profile?p=AYI\n",
            "\n",
            "Company:  AYX\n"
          ],
          "name": "stdout"
        },
        {
          "output_type": "stream",
          "text": [
            "/usr/local/lib/python3.6/dist-packages/urllib3/connectionpool.py:847: InsecureRequestWarning: Unverified HTTPS request is being made. Adding certificate verification is strongly advised. See: https://urllib3.readthedocs.io/en/latest/advanced-usage.html#ssl-warnings\n",
            "  InsecureRequestWarning)\n"
          ],
          "name": "stderr"
        },
        {
          "output_type": "stream",
          "text": [
            "Parsing https://finance.yahoo.com/quote/AYX/profile?p=AYX\n",
            "\n",
            "Company:  AZUL\n"
          ],
          "name": "stdout"
        },
        {
          "output_type": "stream",
          "text": [
            "/usr/local/lib/python3.6/dist-packages/urllib3/connectionpool.py:847: InsecureRequestWarning: Unverified HTTPS request is being made. Adding certificate verification is strongly advised. See: https://urllib3.readthedocs.io/en/latest/advanced-usage.html#ssl-warnings\n",
            "  InsecureRequestWarning)\n"
          ],
          "name": "stderr"
        },
        {
          "output_type": "stream",
          "text": [
            "Parsing https://finance.yahoo.com/quote/AZUL/profile?p=AZUL\n",
            "\n",
            "Company:  AZZ\n"
          ],
          "name": "stdout"
        },
        {
          "output_type": "stream",
          "text": [
            "/usr/local/lib/python3.6/dist-packages/urllib3/connectionpool.py:847: InsecureRequestWarning: Unverified HTTPS request is being made. Adding certificate verification is strongly advised. See: https://urllib3.readthedocs.io/en/latest/advanced-usage.html#ssl-warnings\n",
            "  InsecureRequestWarning)\n"
          ],
          "name": "stderr"
        },
        {
          "output_type": "stream",
          "text": [
            "Parsing https://finance.yahoo.com/quote/AZZ/profile?p=AZZ\n",
            "\n",
            "Company:  BA\n"
          ],
          "name": "stdout"
        },
        {
          "output_type": "stream",
          "text": [
            "/usr/local/lib/python3.6/dist-packages/urllib3/connectionpool.py:847: InsecureRequestWarning: Unverified HTTPS request is being made. Adding certificate verification is strongly advised. See: https://urllib3.readthedocs.io/en/latest/advanced-usage.html#ssl-warnings\n",
            "  InsecureRequestWarning)\n"
          ],
          "name": "stderr"
        },
        {
          "output_type": "stream",
          "text": [
            "Parsing https://finance.yahoo.com/quote/BA/profile?p=BA\n",
            "\n",
            "Company:  BABA\n"
          ],
          "name": "stdout"
        },
        {
          "output_type": "stream",
          "text": [
            "/usr/local/lib/python3.6/dist-packages/urllib3/connectionpool.py:847: InsecureRequestWarning: Unverified HTTPS request is being made. Adding certificate verification is strongly advised. See: https://urllib3.readthedocs.io/en/latest/advanced-usage.html#ssl-warnings\n",
            "  InsecureRequestWarning)\n"
          ],
          "name": "stderr"
        },
        {
          "output_type": "stream",
          "text": [
            "Parsing https://finance.yahoo.com/quote/BABA/profile?p=BABA\n",
            "\n",
            "Company:  BABY\n"
          ],
          "name": "stdout"
        },
        {
          "output_type": "stream",
          "text": [
            "/usr/local/lib/python3.6/dist-packages/urllib3/connectionpool.py:847: InsecureRequestWarning: Unverified HTTPS request is being made. Adding certificate verification is strongly advised. See: https://urllib3.readthedocs.io/en/latest/advanced-usage.html#ssl-warnings\n",
            "  InsecureRequestWarning)\n",
            "/usr/local/lib/python3.6/dist-packages/urllib3/connectionpool.py:847: InsecureRequestWarning: Unverified HTTPS request is being made. Adding certificate verification is strongly advised. See: https://urllib3.readthedocs.io/en/latest/advanced-usage.html#ssl-warnings\n",
            "  InsecureRequestWarning)\n"
          ],
          "name": "stderr"
        },
        {
          "output_type": "stream",
          "text": [
            "Parsing https://finance.yahoo.com/quote/BABY/profile?p=BABY\n",
            "Column mismatch for company:  BABY  Ignoring...\n",
            "\n",
            "Company:  BAM\n"
          ],
          "name": "stdout"
        },
        {
          "output_type": "stream",
          "text": [
            "/usr/local/lib/python3.6/dist-packages/urllib3/connectionpool.py:847: InsecureRequestWarning: Unverified HTTPS request is being made. Adding certificate verification is strongly advised. See: https://urllib3.readthedocs.io/en/latest/advanced-usage.html#ssl-warnings\n",
            "  InsecureRequestWarning)\n"
          ],
          "name": "stderr"
        },
        {
          "output_type": "stream",
          "text": [
            "Parsing https://finance.yahoo.com/quote/BAM/profile?p=BAM\n",
            "\n",
            "Company:  BAND\n"
          ],
          "name": "stdout"
        },
        {
          "output_type": "stream",
          "text": [
            "/usr/local/lib/python3.6/dist-packages/urllib3/connectionpool.py:847: InsecureRequestWarning: Unverified HTTPS request is being made. Adding certificate verification is strongly advised. See: https://urllib3.readthedocs.io/en/latest/advanced-usage.html#ssl-warnings\n",
            "  InsecureRequestWarning)\n"
          ],
          "name": "stderr"
        },
        {
          "output_type": "stream",
          "text": [
            "Parsing https://finance.yahoo.com/quote/BAND/profile?p=BAND\n",
            "\n",
            "Company:  BAP\n"
          ],
          "name": "stdout"
        },
        {
          "output_type": "stream",
          "text": [
            "/usr/local/lib/python3.6/dist-packages/urllib3/connectionpool.py:847: InsecureRequestWarning: Unverified HTTPS request is being made. Adding certificate verification is strongly advised. See: https://urllib3.readthedocs.io/en/latest/advanced-usage.html#ssl-warnings\n",
            "  InsecureRequestWarning)\n"
          ],
          "name": "stderr"
        },
        {
          "output_type": "stream",
          "text": [
            "Parsing https://finance.yahoo.com/quote/BAP/profile?p=BAP\n",
            "\n",
            "Company:  BASI\n"
          ],
          "name": "stdout"
        },
        {
          "output_type": "stream",
          "text": [
            "/usr/local/lib/python3.6/dist-packages/urllib3/connectionpool.py:847: InsecureRequestWarning: Unverified HTTPS request is being made. Adding certificate verification is strongly advised. See: https://urllib3.readthedocs.io/en/latest/advanced-usage.html#ssl-warnings\n",
            "  InsecureRequestWarning)\n"
          ],
          "name": "stderr"
        },
        {
          "output_type": "stream",
          "text": [
            "Parsing https://finance.yahoo.com/quote/BASI/profile?p=BASI\n",
            "\n",
            "Company:  BATRA\n"
          ],
          "name": "stdout"
        },
        {
          "output_type": "stream",
          "text": [
            "/usr/local/lib/python3.6/dist-packages/urllib3/connectionpool.py:847: InsecureRequestWarning: Unverified HTTPS request is being made. Adding certificate verification is strongly advised. See: https://urllib3.readthedocs.io/en/latest/advanced-usage.html#ssl-warnings\n",
            "  InsecureRequestWarning)\n"
          ],
          "name": "stderr"
        },
        {
          "output_type": "stream",
          "text": [
            "Parsing https://finance.yahoo.com/quote/BATRA/profile?p=BATRA\n",
            "Error in profile non tabular data\n",
            "Column mismatch for company:  BATRA  Ignoring...\n",
            "Final Data:  (91, 31)\n",
            "\n",
            "Writing Market Watch Financials\n",
            "\n",
            "Company:  A\n",
            "\n",
            "Company:  AA\n",
            "\n",
            "Company:  AAL\n",
            "\n",
            "Company:  AAPL\n",
            "\n",
            "Company:  ABEV\n",
            "\n",
            "Company:  ABG\n",
            "\n",
            "Company:  ABIO\n",
            "\n",
            "Company:  ACH\n",
            "\n",
            "Company:  ACHV\n",
            "Column mismatch for company:  ACHV  Ignoring...\n",
            "\n",
            "Company:  ACIW\n",
            "\n",
            "Company:  ACN\n",
            "\n",
            "Company:  ACOR\n",
            "\n",
            "Company:  ADAP\n",
            "\n",
            "Company:  ADBE\n",
            "\n",
            "Company:  ADMA\n",
            "\n",
            "Company:  ADNT\n",
            "\n",
            "Company:  ADOM\n",
            "\n",
            "Company:  ADS\n",
            "\n",
            "Company:  ADSK\n",
            "\n",
            "Company:  ADVM\n",
            "\n",
            "Company:  AEMD\n",
            "\n",
            "Company:  AEO\n",
            "\n",
            "Company:  AERI\n",
            "\n",
            "Company:  AEYE\n",
            "\n",
            "Company:  AFL\n",
            "Column mismatch for company:  AFL  Ignoring...\n",
            "\n",
            "Company:  AGEN\n",
            "\n",
            "Company:  AGFS\n",
            "\n",
            "Company:  AGTC\n",
            "\n",
            "Company:  AIR\n",
            "\n",
            "Company:  AIRT\n",
            "\n",
            "Company:  AIZ\n",
            "Column mismatch for company:  AIZ  Ignoring...\n",
            "\n",
            "Company:  AIZP\n",
            "Column mismatch for company:  AIZP  Ignoring...\n",
            "\n",
            "Company:  AKAM\n",
            "\n",
            "Company:  AKER\n",
            "\n",
            "Company:  ALGR\n",
            "\n",
            "Company:  ALGT\n",
            "\n",
            "Company:  ALJJ\n",
            "\n",
            "Company:  ALK\n",
            "\n",
            "Company:  ALLO\n",
            "\n",
            "Company:  ALLT\n",
            "\n",
            "Company:  ALNA\n",
            "\n",
            "Company:  ALOT\n",
            "\n",
            "Company:  ALRM\n",
            "\n",
            "Company:  ALSN\n",
            "\n",
            "Company:  ALTR\n",
            "\n",
            "Company:  ALV\n",
            "\n",
            "Company:  AMGN\n",
            "\n",
            "Company:  AMSWA\n",
            "\n",
            "Company:  AMZN\n",
            "\n",
            "Company:  AN\n",
            "\n",
            "Company:  ANET\n",
            "\n",
            "Company:  ANF\n",
            "\n",
            "Company:  ANGI\n",
            "\n",
            "Company:  ANSS\n",
            "\n",
            "Company:  AOS\n",
            "\n",
            "Company:  APOG\n",
            "\n",
            "Company:  APPF\n",
            "\n",
            "Company:  APPN\n",
            "\n",
            "Company:  APRN\n",
            "\n",
            "Company:  APTO\n",
            "\n",
            "Company:  APTV\n",
            "\n",
            "Company:  ARCH\n",
            "\n",
            "Company:  ARGX\n",
            "\n",
            "Company:  ARLO\n",
            "\n",
            "Company:  ARLP\n",
            "\n",
            "Company:  ASNA\n",
            "\n",
            "Company:  ASR\n",
            "\n",
            "Company:  AST\n",
            "\n",
            "Company:  ASTC\n",
            "\n",
            "Company:  ASTE\n",
            "\n",
            "Company:  ATEN\n",
            "\n",
            "Company:  ATRA\n",
            "\n",
            "Company:  ATSG\n",
            "\n",
            "Company:  ATVI\n",
            "\n",
            "Company:  AUTL\n",
            "\n",
            "Company:  AUTO\n",
            "\n",
            "Company:  AVAL\n",
            "Column mismatch for company:  AVAL  Ignoring...\n",
            "\n",
            "Company:  AVAV\n",
            "\n",
            "Company:  AVD\n",
            "\n",
            "Company:  AVH\n",
            "\n",
            "Company:  AVID\n",
            "\n",
            "Company:  AVLR\n",
            "\n",
            "Company:  AVRO\n",
            "\n",
            "Company:  AVXL\n",
            "\n",
            "Company:  AWRE\n",
            "\n",
            "Company:  AXDX\n",
            "\n",
            "Company:  AXGN\n",
            "\n",
            "Company:  AXL\n",
            "\n",
            "Company:  AYI\n",
            "\n",
            "Company:  AYX\n",
            "\n",
            "Company:  AZUL\n",
            "\n",
            "Company:  AZZ\n",
            "\n",
            "Company:  BA\n",
            "\n",
            "Company:  BABA\n",
            "Column mismatch for company:  BABA  Ignoring...\n",
            "\n",
            "Company:  BABY\n",
            "Column mismatch for company:  BABY  Ignoring...\n",
            "\n",
            "Company:  BAM\n",
            "Column mismatch for company:  BAM  Ignoring...\n",
            "\n",
            "Company:  BAND\n",
            "\n",
            "Company:  BAP\n",
            "Column mismatch for company:  BAP  Ignoring...\n",
            "\n",
            "Company:  BASI\n",
            "\n",
            "Company:  BATRA\n",
            "Column mismatch for company:  BATRA  Ignoring...\n",
            "Final Data:  (90, 1170)\n"
          ],
          "name": "stdout"
        }
      ]
    },
    {
      "cell_type": "code",
      "metadata": {
        "id": "j7qlWtvv11q7",
        "colab_type": "code",
        "outputId": "7bb9e735-8aee-466b-dd1b-641e8dafe1a2",
        "colab": {
          "base_uri": "https://localhost:8080/",
          "height": 54
        }
      },
      "source": [
        "'''\n",
        "import gspread_dataframe as gd\n",
        "\n",
        "# Connecting with `gspread` here\n",
        "\n",
        "ws = gc.open(\"SheetName\").worksheet(\"xyz\")\n",
        "existing = gd.get_as_dataframe(ws)\n",
        "updated = existing.append(your_new_data)\n",
        "gd.set_with_dataframe(ws, updated)\n",
        "'''"
      ],
      "execution_count": 0,
      "outputs": [
        {
          "output_type": "execute_result",
          "data": {
            "text/plain": [
              "'\\nimport gspread_dataframe as gd\\n\\n# Connecting with `gspread` here\\n\\nws = gc.open(\"SheetName\").worksheet(\"xyz\")\\nexisting = gd.get_as_dataframe(ws)\\nupdated = existing.append(your_new_data)\\ngd.set_with_dataframe(ws, updated)\\n'"
            ]
          },
          "metadata": {
            "tags": []
          },
          "execution_count": 14
        }
      ]
    },
    {
      "cell_type": "code",
      "metadata": {
        "id": "N43dmWdYQVzf",
        "colab_type": "code",
        "colab": {}
      },
      "source": [
        ""
      ],
      "execution_count": 0,
      "outputs": []
    }
  ]
}